{
 "cells": [
  {
   "cell_type": "markdown",
   "metadata": {
    "id": "FcRz6WG9SCRQ"
   },
   "source": [
    "Download the 'agri_challenge_data.zip' from the [folder](https://drive.google.com/drive/folders/1CmbccQ7JG3a8IQ_U73806v9iCqLPIlL_?usp=sharing) and upload it to the session"
   ]
  },
  {
   "cell_type": "code",
   "execution_count": 3,
   "metadata": {
    "id": "qYdeTQtpxBb9"
   },
   "outputs": [],
   "source": [
    "import pandas as pd\n",
    "import numpy as np\n",
    "import matplotlib.pyplot as plt\n",
    "import pickle\n",
    "#from transformers import ViTFeatureExtractor, ViTModel\n",
    "from PIL import Image\n",
    "import requests\n",
    "from sklearn.preprocessing import OneHotEncoder\n",
    "import os\n",
    "import cv2 as cv\n",
    "import rasterio\n",
    "from sklearn.model_selection import train_test_split\n",
    "from tqdm import tqdm"
   ]
  },
  {
   "cell_type": "code",
   "execution_count": 4,
   "metadata": {
    "id": "ENTUtpV31KsS"
   },
   "outputs": [],
   "source": [
    "f = open('bandwise_minmax.pkl', 'rb')\n",
    "minmax = pickle.load(f)\n",
    "f.close()\n",
    "\n",
    "def makedir(path):\n",
    "    if not os.path.exists(path):\n",
    "        os.makedirs(path)\n",
    "\n",
    "def norm(band, index):\n",
    "  band_min, band_max = minmax[index]['min'], minmax[index]['max']\n",
    "  return ((band - band_min)/(band_max - band_min))\n",
    "\n",
    "def get_image(image_path):\n",
    "  src = rasterio.open(image_path, 'r')\n",
    "  S_images=src.read()\n",
    "  c0 = norm(S_images[0].astype(np.float32), 0)\n",
    "  c1 = norm(S_images[1].astype(np.float32), 1)\n",
    "  c2 = norm(S_images[2].astype(np.float32), 2)\n",
    "  c3 = norm(S_images[3].astype(np.float32), 3)\n",
    "  c4 = norm(S_images[4].astype(np.float32), 4)\n",
    "  c5 = norm(S_images[5].astype(np.float32), 5)\n",
    "  image = np.dstack((c0,c1,c2,c3,c4,c5))\n",
    "  src.close()\n",
    "  return image\n",
    "\n",
    "def process_image(satellite_image):\n",
    "  satellite_image = satellite_image[1:-1, 1:-1, :]\n",
    "  h,w,c = satellite_image.shape\n",
    "  if w < h:\n",
    "    satellite_image = np.transpose(satellite_image, (1, 0, 2))\n",
    "  resized_image = cv.resize(satellite_image, (25, 25), interpolation=cv.INTER_CUBIC)\n",
    "  return resized_image\n",
    "\n",
    "def get_age(year, location, time_point, planting_date):\n",
    "  collection_date = doc[str(year)][location][time_point]\n",
    "  planting_date = pd.to_datetime(planting_date)\n",
    "  collection_date = pd.to_datetime(collection_date)\n",
    "  return (collection_date-planting_date).days"
   ]
  },
  {
   "cell_type": "code",
   "execution_count": 16,
   "metadata": {
    "id": "NAbZekXOxRvI"
   },
   "outputs": [],
   "source": [
    "train_split = pd.read_csv('data_processed/train_split_from_2023.csv')\n",
    "val_split = pd.read_csv('data_processed/val_split_from_2023.csv')"
   ]
  },
  {
   "cell_type": "code",
   "execution_count": 20,
   "metadata": {
    "id": "nrR8wMSFxoLF"
   },
   "outputs": [],
   "source": [
    "f = open('splits/doc_2022.pkl', 'rb')\n",
    "doc_2022 = pickle.load(f)\n",
    "f.close()\n",
    "f = open('splits/doc_2023.pkl', 'rb')\n",
    "doc_2023 = pickle.load(f)\n",
    "f.close()\n",
    "f = open('data_processed/2023_data_split.pkl', 'rb')\n",
    "data_split = pickle.load(f)\n",
    "f.close()"
   ]
  },
  {
   "cell_type": "code",
   "execution_count": 22,
   "metadata": {
    "id": "ULZn___fx3y7"
   },
   "outputs": [],
   "source": [
    "doc = {}\n",
    "doc['2022'] = doc_2022\n",
    "doc['2023'] = doc_2023\n",
    "doc['2022']['MOValley'] = doc['2022']['Missouri Valley']"
   ]
  },
  {
   "cell_type": "markdown",
   "metadata": {
    "id": "gox1_k-nCu-0"
   },
   "source": [
    "Steps in data preprocessing:\n",
    "\n",
    "\n",
    "*   Remove Scottsbluff from training set (scottsbluff plot length is different from all other data)\n",
    "*   Remove rows with nan\n",
    "*   Remove genotype (2023 val set has two genotypes that are new) and irrigationProvided\n",
    "*   Divide yield by max yield. Store max yield in metadata\n",
    "*   Convert location, N_level into one hot encoded form\n",
    "*   Get the satellite images for each row. Transpose image if width is shorter than height. Reside to 25 by 25. And min max normalize each channel of the image.\n",
    "*   For each satellite image, Calculate age by finding difference between planting date and time point. Divide age by 365.\n",
    "*   Make a list of data samples and another list of yields\n",
    "*   Divide the list into training vs validation\n",
    "*   Save as numpy array or pickle file\n",
    "\n"
   ]
  },
  {
   "cell_type": "code",
   "execution_count": 25,
   "metadata": {
    "id": "JSFFQDdix8Fn"
   },
   "outputs": [],
   "source": [
    "all_data = pd.concat([train_split, val_split])"
   ]
  },
  {
   "cell_type": "code",
   "execution_count": 27,
   "metadata": {
    "colab": {
     "base_uri": "https://localhost:8080/",
     "height": 206
    },
    "id": "QwahIaLHx8nS",
    "outputId": "e88b98b6-08c1-4650-9517-4a6e28cff787"
   },
   "outputs": [
    {
     "data": {
      "text/html": [
       "<div>\n",
       "<style scoped>\n",
       "    .dataframe tbody tr th:only-of-type {\n",
       "        vertical-align: middle;\n",
       "    }\n",
       "\n",
       "    .dataframe tbody tr th {\n",
       "        vertical-align: top;\n",
       "    }\n",
       "\n",
       "    .dataframe thead th {\n",
       "        text-align: right;\n",
       "    }\n",
       "</style>\n",
       "<table border=\"1\" class=\"dataframe\">\n",
       "  <thead>\n",
       "    <tr style=\"text-align: right;\">\n",
       "      <th></th>\n",
       "      <th>year</th>\n",
       "      <th>location</th>\n",
       "      <th>irrigationProvided</th>\n",
       "      <th>experiment</th>\n",
       "      <th>range</th>\n",
       "      <th>row</th>\n",
       "      <th>N_level</th>\n",
       "      <th>genotype</th>\n",
       "      <th>planting_date</th>\n",
       "      <th>yield</th>\n",
       "    </tr>\n",
       "  </thead>\n",
       "  <tbody>\n",
       "    <tr>\n",
       "      <th>0</th>\n",
       "      <td>2023</td>\n",
       "      <td>Lincoln</td>\n",
       "      <td>0</td>\n",
       "      <td>150</td>\n",
       "      <td>5</td>\n",
       "      <td>20</td>\n",
       "      <td>Medium</td>\n",
       "      <td>C.I. 540 X I159</td>\n",
       "      <td>5/16/23</td>\n",
       "      <td>22.62</td>\n",
       "    </tr>\n",
       "    <tr>\n",
       "      <th>1</th>\n",
       "      <td>2023</td>\n",
       "      <td>Lincoln</td>\n",
       "      <td>0</td>\n",
       "      <td>225</td>\n",
       "      <td>31</td>\n",
       "      <td>18</td>\n",
       "      <td>High</td>\n",
       "      <td>B73 X PHM49</td>\n",
       "      <td>5/16/23</td>\n",
       "      <td>102.38</td>\n",
       "    </tr>\n",
       "    <tr>\n",
       "      <th>2</th>\n",
       "      <td>2023</td>\n",
       "      <td>Lincoln</td>\n",
       "      <td>0</td>\n",
       "      <td>150</td>\n",
       "      <td>5</td>\n",
       "      <td>12</td>\n",
       "      <td>Medium</td>\n",
       "      <td>B73 X PHN82</td>\n",
       "      <td>5/16/23</td>\n",
       "      <td>119.66</td>\n",
       "    </tr>\n",
       "    <tr>\n",
       "      <th>3</th>\n",
       "      <td>2023</td>\n",
       "      <td>MOValley</td>\n",
       "      <td>0</td>\n",
       "      <td>2125</td>\n",
       "      <td>14</td>\n",
       "      <td>11</td>\n",
       "      <td>Medium</td>\n",
       "      <td>LH198 X PHB47</td>\n",
       "      <td>5/2/23</td>\n",
       "      <td>182.09</td>\n",
       "    </tr>\n",
       "    <tr>\n",
       "      <th>4</th>\n",
       "      <td>2023</td>\n",
       "      <td>MOValley</td>\n",
       "      <td>0</td>\n",
       "      <td>2125</td>\n",
       "      <td>28</td>\n",
       "      <td>20</td>\n",
       "      <td>Medium</td>\n",
       "      <td>CI 3A X I159</td>\n",
       "      <td>5/2/23</td>\n",
       "      <td>67.40</td>\n",
       "    </tr>\n",
       "  </tbody>\n",
       "</table>\n",
       "</div>"
      ],
      "text/plain": [
       "   year  location  irrigationProvided  experiment  range  row N_level  \\\n",
       "0  2023   Lincoln                   0         150      5   20  Medium   \n",
       "1  2023   Lincoln                   0         225     31   18    High   \n",
       "2  2023   Lincoln                   0         150      5   12  Medium   \n",
       "3  2023  MOValley                   0        2125     14   11  Medium   \n",
       "4  2023  MOValley                   0        2125     28   20  Medium   \n",
       "\n",
       "          genotype planting_date   yield  \n",
       "0  C.I. 540 X I159       5/16/23   22.62  \n",
       "1      B73 X PHM49       5/16/23  102.38  \n",
       "2      B73 X PHN82       5/16/23  119.66  \n",
       "3    LH198 X PHB47        5/2/23  182.09  \n",
       "4     CI 3A X I159        5/2/23   67.40  "
      ]
     },
     "execution_count": 27,
     "metadata": {},
     "output_type": "execute_result"
    }
   ],
   "source": [
    "all_data.head()"
   ]
  },
  {
   "cell_type": "code",
   "execution_count": 29,
   "metadata": {
    "id": "G-T6UI0FF5CC"
   },
   "outputs": [],
   "source": [
    "metadata = {}"
   ]
  },
  {
   "cell_type": "code",
   "execution_count": 31,
   "metadata": {
    "id": "7eJphPF9FjxP"
   },
   "outputs": [],
   "source": [
    "all_data = all_data[all_data.location != 'Scottsbluff']\n",
    "all_data = all_data.drop(columns=['genotype','irrigationProvided'])\n",
    "metadata['max_yield'] = all_data['yield'].max()\n",
    "all_data['yield'] = all_data['yield'] / all_data['yield'].max()"
   ]
  },
  {
   "cell_type": "code",
   "execution_count": 33,
   "metadata": {
    "id": "1JazYjVlysBi"
   },
   "outputs": [],
   "source": [
    "encoder = OneHotEncoder(handle_unknown='ignore')\n",
    "encoded_data = encoder.fit_transform(all_data[['N_level']])\n",
    "encoded_df = pd.DataFrame.sparse.from_spmatrix(encoded_data, columns=encoder.get_feature_names_out(['N_level']))\n",
    "all_data = all_data.reset_index(drop=True)\n",
    "encoded_df = encoded_df.reset_index(drop=True)\n",
    "all_data_encoded = pd.concat([all_data, encoded_df], axis=1)"
   ]
  },
  {
   "cell_type": "code",
   "execution_count": 35,
   "metadata": {
    "colab": {
     "base_uri": "https://localhost:8080/",
     "height": 226
    },
    "id": "L0nOru_5z-IR",
    "outputId": "10386676-935b-44cd-c4c5-28f4c01c9174"
   },
   "outputs": [
    {
     "data": {
      "text/html": [
       "<div>\n",
       "<style scoped>\n",
       "    .dataframe tbody tr th:only-of-type {\n",
       "        vertical-align: middle;\n",
       "    }\n",
       "\n",
       "    .dataframe tbody tr th {\n",
       "        vertical-align: top;\n",
       "    }\n",
       "\n",
       "    .dataframe thead th {\n",
       "        text-align: right;\n",
       "    }\n",
       "</style>\n",
       "<table border=\"1\" class=\"dataframe\">\n",
       "  <thead>\n",
       "    <tr style=\"text-align: right;\">\n",
       "      <th></th>\n",
       "      <th>year</th>\n",
       "      <th>location</th>\n",
       "      <th>experiment</th>\n",
       "      <th>range</th>\n",
       "      <th>row</th>\n",
       "      <th>planting_date</th>\n",
       "      <th>yield</th>\n",
       "      <th>N_level_High</th>\n",
       "      <th>N_level_Low</th>\n",
       "      <th>N_level_Medium</th>\n",
       "    </tr>\n",
       "  </thead>\n",
       "  <tbody>\n",
       "    <tr>\n",
       "      <th>0</th>\n",
       "      <td>2023</td>\n",
       "      <td>Lincoln</td>\n",
       "      <td>150</td>\n",
       "      <td>5</td>\n",
       "      <td>20</td>\n",
       "      <td>5/16/23</td>\n",
       "      <td>0.081232</td>\n",
       "      <td>0</td>\n",
       "      <td>0</td>\n",
       "      <td>1.0</td>\n",
       "    </tr>\n",
       "    <tr>\n",
       "      <th>1</th>\n",
       "      <td>2023</td>\n",
       "      <td>Lincoln</td>\n",
       "      <td>225</td>\n",
       "      <td>31</td>\n",
       "      <td>18</td>\n",
       "      <td>5/16/23</td>\n",
       "      <td>0.367665</td>\n",
       "      <td>1.0</td>\n",
       "      <td>0</td>\n",
       "      <td>0</td>\n",
       "    </tr>\n",
       "    <tr>\n",
       "      <th>2</th>\n",
       "      <td>2023</td>\n",
       "      <td>Lincoln</td>\n",
       "      <td>150</td>\n",
       "      <td>5</td>\n",
       "      <td>12</td>\n",
       "      <td>5/16/23</td>\n",
       "      <td>0.429721</td>\n",
       "      <td>0</td>\n",
       "      <td>0</td>\n",
       "      <td>1.0</td>\n",
       "    </tr>\n",
       "    <tr>\n",
       "      <th>3</th>\n",
       "      <td>2023</td>\n",
       "      <td>MOValley</td>\n",
       "      <td>2125</td>\n",
       "      <td>14</td>\n",
       "      <td>11</td>\n",
       "      <td>5/2/23</td>\n",
       "      <td>0.653918</td>\n",
       "      <td>0</td>\n",
       "      <td>0</td>\n",
       "      <td>1.0</td>\n",
       "    </tr>\n",
       "    <tr>\n",
       "      <th>4</th>\n",
       "      <td>2023</td>\n",
       "      <td>MOValley</td>\n",
       "      <td>2125</td>\n",
       "      <td>28</td>\n",
       "      <td>20</td>\n",
       "      <td>5/2/23</td>\n",
       "      <td>0.242046</td>\n",
       "      <td>0</td>\n",
       "      <td>0</td>\n",
       "      <td>1.0</td>\n",
       "    </tr>\n",
       "  </tbody>\n",
       "</table>\n",
       "</div>"
      ],
      "text/plain": [
       "   year  location  experiment  range  row planting_date     yield  \\\n",
       "0  2023   Lincoln         150      5   20       5/16/23  0.081232   \n",
       "1  2023   Lincoln         225     31   18       5/16/23  0.367665   \n",
       "2  2023   Lincoln         150      5   12       5/16/23  0.429721   \n",
       "3  2023  MOValley        2125     14   11        5/2/23  0.653918   \n",
       "4  2023  MOValley        2125     28   20        5/2/23  0.242046   \n",
       "\n",
       "   N_level_High  N_level_Low  N_level_Medium  \n",
       "0             0            0             1.0  \n",
       "1           1.0            0               0  \n",
       "2             0            0             1.0  \n",
       "3             0            0             1.0  \n",
       "4             0            0             1.0  "
      ]
     },
     "execution_count": 35,
     "metadata": {},
     "output_type": "execute_result"
    }
   ],
   "source": [
    "all_data_encoded = all_data_encoded.drop(['N_level'], axis=1)\n",
    "all_data_encoded.head()"
   ]
  },
  {
   "cell_type": "code",
   "execution_count": 37,
   "metadata": {
    "id": "pqLx7E_GLK-3"
   },
   "outputs": [],
   "source": [
    "train_df, val_df = train_test_split(all_data_encoded, test_size=0.2, random_state=42)"
   ]
  },
  {
   "cell_type": "code",
   "execution_count": 39,
   "metadata": {
    "colab": {
     "base_uri": "https://localhost:8080/"
    },
    "id": "ZsYZY9nP2gvl",
    "outputId": "95cd9427-d97e-450c-c4d8-d67d0f0943a0"
   },
   "outputs": [
    {
     "name": "stderr",
     "output_type": "stream",
     "text": [
      "514it [00:10, 48.54it/s]\n"
     ]
    }
   ],
   "source": [
    "train_images = []\n",
    "train_numerical_features = []\n",
    "train_targets = []\n",
    "\n",
    "for index, row in tqdm(train_df.iterrows()):\n",
    "\n",
    "  location = row['location']\n",
    "  year = row['year']\n",
    "  if year == 2023:\n",
    "    year = '2023_train'\n",
    "  experiment = row['experiment']\n",
    "  if experiment == 'Hyrbrids':\n",
    "    experiment = 'Hybrids'\n",
    "  range = row['range']\n",
    "  row_ = row['row']\n",
    "  planting_date = row['planting_date']\n",
    "  time_points = sorted(os.listdir(os.path.join('satellite_images', str(year), location)))\n",
    "\n",
    "  for time_point in time_points:\n",
    "    folder_path = os.path.join('satellite_images', str(year), location, time_point)\n",
    "    image_name = f'{location}-{time_point}-{experiment}_{range}_{row_}.TIF'\n",
    "    image_path = os.path.join(folder_path, image_name)\n",
    "    if os.path.exists(image_path):\n",
    "      satellite_image = get_image(image_path)\n",
    "      processed_image = process_image(satellite_image)\n",
    "      age = get_age(row['year'], location, time_point, planting_date)\n",
    "      age = age/365\n",
    "      train_images.append(processed_image)\n",
    "      train_numerical_features.append([row['N_level_High'],\n",
    "                     row['N_level_Low'],\n",
    "                     row['N_level_Medium'],\n",
    "                     age])\n",
    "      train_targets.append(row['yield'])\n",
    "    else:\n",
    "      print(image_path)\n",
    "\n",
    "train_images = np.array(train_images)\n",
    "train_numerical_features = np.array(train_numerical_features)\n",
    "train_targets = np.array(train_targets)"
   ]
  },
  {
   "cell_type": "code",
   "execution_count": 41,
   "metadata": {
    "colab": {
     "base_uri": "https://localhost:8080/"
    },
    "id": "RckQ5qAtM9dy",
    "outputId": "fa534275-165b-41f3-ea9e-38e6d28a5f4a"
   },
   "outputs": [
    {
     "name": "stderr",
     "output_type": "stream",
     "text": [
      "129it [00:02, 47.79it/s]\n"
     ]
    }
   ],
   "source": [
    "val_images = []\n",
    "val_numerical_features = []\n",
    "val_targets = []\n",
    "\n",
    "for index, row in tqdm(val_df.iterrows()):\n",
    "\n",
    "  location = row['location']\n",
    "  year = row['year']\n",
    "  if year == 2023:\n",
    "    year = '2023_train'\n",
    "  experiment = row['experiment']\n",
    "  if experiment == 'Hyrbrids':\n",
    "    experiment = 'Hybrids'\n",
    "  range = row['range']\n",
    "  row_ = row['row']\n",
    "  planting_date = row['planting_date']\n",
    "  time_points = sorted(os.listdir(os.path.join('satellite_images', str(year), location)))\n",
    "\n",
    "  for time_point in time_points:\n",
    "    folder_path = os.path.join('satellite_images', str(year), location, time_point)\n",
    "    image_name = f'{location}-{time_point}-{experiment}_{range}_{row_}.TIF'\n",
    "    image_path = os.path.join(folder_path, image_name)\n",
    "    if os.path.exists(image_path):\n",
    "      satellite_image = get_image(image_path)\n",
    "      processed_image = process_image(satellite_image)\n",
    "      age = get_age(row['year'], location, time_point, planting_date)\n",
    "      age = age/365\n",
    "      val_images.append(processed_image)\n",
    "      val_numerical_features.append([row['N_level_High'],\n",
    "                     row['N_level_Low'],\n",
    "                     row['N_level_Medium'],\n",
    "                     age])\n",
    "      val_targets.append(row['yield'])\n",
    "    else:\n",
    "      print(image_path)\n",
    "\n",
    "val_images = np.array(val_images)\n",
    "val_numerical_features = np.array(val_numerical_features)\n",
    "val_targets = np.array(val_targets)"
   ]
  },
  {
   "cell_type": "code",
   "execution_count": 43,
   "metadata": {
    "id": "h-tTJv8511uP"
   },
   "outputs": [],
   "source": [
    "data_dict = {'train_images': train_images,\n",
    "             'train_numerical_features': train_numerical_features,\n",
    "             'train_targets': train_targets,\n",
    "             'val_images': val_images,\n",
    "             'val_numerical_features': val_numerical_features,\n",
    "             'val_targets': val_targets,\n",
    "             'metadata': metadata}"
   ]
  },
  {
   "cell_type": "code",
   "execution_count": 45,
   "metadata": {
    "id": "YP6_g4OjPSEl"
   },
   "outputs": [],
   "source": [
    "f = open('processed_data_minmax_normalized_trimmed_2023.pkl', 'wb')\n",
    "pickle.dump(data_dict, f)\n",
    "f.close()"
   ]
  },
  {
   "cell_type": "code",
   "execution_count": null,
   "metadata": {
    "id": "jUSvDTjqU7tA"
   },
   "outputs": [],
   "source": []
  }
 ],
 "metadata": {
  "colab": {
   "provenance": []
  },
  "kernelspec": {
   "display_name": "Python 3 (ipykernel)",
   "language": "python",
   "name": "python3"
  },
  "language_info": {
   "codemirror_mode": {
    "name": "ipython",
    "version": 3
   },
   "file_extension": ".py",
   "mimetype": "text/x-python",
   "name": "python",
   "nbconvert_exporter": "python",
   "pygments_lexer": "ipython3",
   "version": "3.12.4"
  }
 },
 "nbformat": 4,
 "nbformat_minor": 4
}
