{
 "cells": [
  {
   "cell_type": "code",
   "execution_count": 1,
   "id": "0f9955be-f863-4259-a6ba-066603bb91f8",
   "metadata": {
    "id": "0f9955be-f863-4259-a6ba-066603bb91f8"
   },
   "outputs": [],
   "source": [
    "import os\n",
    "import pandas as pd\n",
    "import math\n",
    "import random\n",
    "import pickle"
   ]
  },
  {
   "cell_type": "code",
   "execution_count": 2,
   "id": "5d0ae913-3cc3-4339-b2e8-3ace4a9f056c",
   "metadata": {
    "id": "5d0ae913-3cc3-4339-b2e8-3ace4a9f056c"
   },
   "outputs": [],
   "source": [
    "pd.set_option('display.max_columns', None)\n",
    "pd.set_option('display.max_rows', None)"
   ]
  },
  {
   "cell_type": "code",
   "execution_count": 3,
   "id": "33b39b8f-007b-45ef-8860-3040c7e1cf83",
   "metadata": {
    "id": "33b39b8f-007b-45ef-8860-3040c7e1cf83"
   },
   "outputs": [],
   "source": [
    "def makedir(path):\n",
    "    if not os.path.exists(path):\n",
    "        os.makedirs(path)"
   ]
  },
  {
   "cell_type": "code",
   "execution_count": 4,
   "id": "fabf9223-1c61-4809-9c12-ad0a4c1fb60f",
   "metadata": {
    "id": "fabf9223-1c61-4809-9c12-ad0a4c1fb60f"
   },
   "outputs": [],
   "source": [
    "savedir = 'data_processed'\n",
    "makedir(savedir)"
   ]
  },
  {
   "cell_type": "markdown",
   "id": "ae51c073-dd2f-4cb2-8ce2-717665ac76ff",
   "metadata": {
    "id": "ae51c073-dd2f-4cb2-8ce2-717665ac76ff"
   },
   "source": [
    "## Get date of collection"
   ]
  },
  {
   "cell_type": "code",
   "execution_count": 6,
   "id": "555a852e-b965-4554-af5d-41feee3e478e",
   "metadata": {
    "id": "555a852e-b965-4554-af5d-41feee3e478e"
   },
   "outputs": [],
   "source": [
    "doc_path = os.path.join(savedir, 'doc_2023.pkl')\n",
    "f = open(doc_path,'rb')\n",
    "doc_2023 = pickle.load(f)\n",
    "f.close()"
   ]
  },
  {
   "cell_type": "markdown",
   "id": "484da9bb-df2d-49a8-a057-e12704c4e31b",
   "metadata": {
    "id": "484da9bb-df2d-49a8-a057-e12704c4e31b"
   },
   "source": [
    "## Get GT data"
   ]
  },
  {
   "cell_type": "code",
   "execution_count": 8,
   "id": "8f5db17e-31c4-40e8-b71b-95b39de5938a",
   "metadata": {
    "id": "8f5db17e-31c4-40e8-b71b-95b39de5938a"
   },
   "outputs": [],
   "source": [
    "data_list = []\n",
    "columns = ['year', 'location', 'irrigationProvided', 'experiment', 'range', 'row', 'N_level', 'genotype', 'planting_date', 'yield']"
   ]
  },
  {
   "cell_type": "markdown",
   "id": "98162a65-64c4-4c31-8383-8ac42257bc4a",
   "metadata": {
    "id": "98162a65-64c4-4c31-8383-8ac42257bc4a"
   },
   "source": [
    "### 2023 Train data"
   ]
  },
  {
   "cell_type": "code",
   "execution_count": 16,
   "id": "61df5c60-1597-4087-94ed-29e4d22dfcfb",
   "metadata": {
    "colab": {
     "base_uri": "https://localhost:8080/"
    },
    "id": "61df5c60-1597-4087-94ed-29e4d22dfcfb",
    "outputId": "4193bc0b-7db1-4657-b6aa-0db68b9b7894"
   },
   "outputs": [
    {
     "name": "stdout",
     "output_type": "stream",
     "text": [
      "plotLength\n",
      "17.5    643\n",
      "Name: count, dtype: int64\n"
     ]
    }
   ],
   "source": [
    "df_train_2023 = pd.read_csv('GT/train_HIPS_HYBRIDS_2023_V2.3.csv')\n",
    "print(df_train_2023['plotLength'].value_counts())\n",
    "df_train_2023 = df_train_2023.drop(columns = ['qrCode','poundsOfNitrogenPerAcre','plotLength', 'block','plotNumber','totalStandCount', 'daysToAnthesis', 'GDDToAnthesis'])\n",
    "df_train_2023 = df_train_2023.dropna()"
   ]
  },
  {
   "cell_type": "code",
   "execution_count": 18,
   "id": "a00a4d3b-18ec-4038-911d-6822cc9d85c7",
   "metadata": {
    "colab": {
     "base_uri": "https://localhost:8080/",
     "height": 206
    },
    "id": "a00a4d3b-18ec-4038-911d-6822cc9d85c7",
    "outputId": "f3faeae0-2597-462c-f204-2ad7a2301dcb"
   },
   "outputs": [
    {
     "data": {
      "text/html": [
       "<div>\n",
       "<style scoped>\n",
       "    .dataframe tbody tr th:only-of-type {\n",
       "        vertical-align: middle;\n",
       "    }\n",
       "\n",
       "    .dataframe tbody tr th {\n",
       "        vertical-align: top;\n",
       "    }\n",
       "\n",
       "    .dataframe thead th {\n",
       "        text-align: right;\n",
       "    }\n",
       "</style>\n",
       "<table border=\"1\" class=\"dataframe\">\n",
       "  <thead>\n",
       "    <tr style=\"text-align: right;\">\n",
       "      <th></th>\n",
       "      <th>location</th>\n",
       "      <th>irrigationProvided</th>\n",
       "      <th>nitrogenTreatment</th>\n",
       "      <th>experiment</th>\n",
       "      <th>row</th>\n",
       "      <th>range</th>\n",
       "      <th>genotype</th>\n",
       "      <th>plantingDate</th>\n",
       "      <th>yieldPerAcre</th>\n",
       "    </tr>\n",
       "  </thead>\n",
       "  <tbody>\n",
       "    <tr>\n",
       "      <th>0</th>\n",
       "      <td>Lincoln</td>\n",
       "      <td>0</td>\n",
       "      <td>Low</td>\n",
       "      <td>75</td>\n",
       "      <td>2</td>\n",
       "      <td>14</td>\n",
       "      <td>PHB47 X PHK56</td>\n",
       "      <td>5/16/23</td>\n",
       "      <td>117.56</td>\n",
       "    </tr>\n",
       "    <tr>\n",
       "      <th>1</th>\n",
       "      <td>Lincoln</td>\n",
       "      <td>0</td>\n",
       "      <td>Low</td>\n",
       "      <td>75</td>\n",
       "      <td>3</td>\n",
       "      <td>14</td>\n",
       "      <td>PHW52 X PHN82</td>\n",
       "      <td>5/16/23</td>\n",
       "      <td>93.28</td>\n",
       "    </tr>\n",
       "    <tr>\n",
       "      <th>2</th>\n",
       "      <td>Lincoln</td>\n",
       "      <td>0</td>\n",
       "      <td>Low</td>\n",
       "      <td>75</td>\n",
       "      <td>5</td>\n",
       "      <td>14</td>\n",
       "      <td>2369 X PHZ51</td>\n",
       "      <td>5/16/23</td>\n",
       "      <td>79.08</td>\n",
       "    </tr>\n",
       "    <tr>\n",
       "      <th>3</th>\n",
       "      <td>Lincoln</td>\n",
       "      <td>0</td>\n",
       "      <td>Low</td>\n",
       "      <td>75</td>\n",
       "      <td>6</td>\n",
       "      <td>14</td>\n",
       "      <td>PHT69 X 3IIH6</td>\n",
       "      <td>5/16/23</td>\n",
       "      <td>99.91</td>\n",
       "    </tr>\n",
       "    <tr>\n",
       "      <th>4</th>\n",
       "      <td>Lincoln</td>\n",
       "      <td>0</td>\n",
       "      <td>Low</td>\n",
       "      <td>75</td>\n",
       "      <td>7</td>\n",
       "      <td>14</td>\n",
       "      <td>LH195 X 3IIH6</td>\n",
       "      <td>5/16/23</td>\n",
       "      <td>130.59</td>\n",
       "    </tr>\n",
       "  </tbody>\n",
       "</table>\n",
       "</div>"
      ],
      "text/plain": [
       "  location  irrigationProvided nitrogenTreatment  experiment  row  range  \\\n",
       "0  Lincoln                   0               Low          75    2     14   \n",
       "1  Lincoln                   0               Low          75    3     14   \n",
       "2  Lincoln                   0               Low          75    5     14   \n",
       "3  Lincoln                   0               Low          75    6     14   \n",
       "4  Lincoln                   0               Low          75    7     14   \n",
       "\n",
       "        genotype plantingDate  yieldPerAcre  \n",
       "0  PHB47 X PHK56      5/16/23        117.56  \n",
       "1  PHW52 X PHN82      5/16/23         93.28  \n",
       "2   2369 X PHZ51      5/16/23         79.08  \n",
       "3  PHT69 X 3IIH6      5/16/23         99.91  \n",
       "4  LH195 X 3IIH6      5/16/23        130.59  "
      ]
     },
     "execution_count": 18,
     "metadata": {},
     "output_type": "execute_result"
    }
   ],
   "source": [
    "df_train_2023.head()"
   ]
  },
  {
   "cell_type": "code",
   "execution_count": 20,
   "id": "6c34a8a9-671a-4825-9afe-8f46c7f0589d",
   "metadata": {
    "id": "6c34a8a9-671a-4825-9afe-8f46c7f0589d"
   },
   "outputs": [],
   "source": [
    "for index, row in df_train_2023.iterrows():\n",
    "    new_row = []\n",
    "    new_row.append('2023')\n",
    "    new_row.append(row['location'])\n",
    "    new_row.append(row['irrigationProvided'])\n",
    "    new_row.append(row['experiment'])\n",
    "    new_row.append(row['range'])\n",
    "    new_row.append(row['row'])\n",
    "    new_row.append(row['nitrogenTreatment'])\n",
    "    new_row.append(row['genotype'])\n",
    "    new_row.append(row['plantingDate'])\n",
    "    new_row.append(row['yieldPerAcre'])\n",
    "    data_list.append(new_row)"
   ]
  },
  {
   "cell_type": "code",
   "execution_count": 22,
   "id": "572a18a1-85c9-4a47-8f13-726febda6671",
   "metadata": {
    "colab": {
     "base_uri": "https://localhost:8080/"
    },
    "id": "572a18a1-85c9-4a47-8f13-726febda6671",
    "outputId": "cbc1a5d7-00e7-47e7-c2e3-b3747ee0e52b"
   },
   "outputs": [
    {
     "name": "stdout",
     "output_type": "stream",
     "text": [
      "514 129\n"
     ]
    }
   ],
   "source": [
    "total_count = len(data_list)\n",
    "\n",
    "random.shuffle(data_list)\n",
    "\n",
    "num_train = int(0.8*total_count)\n",
    "train_list = data_list[:num_train]\n",
    "val_list = data_list[num_train:]\n",
    "print(len(train_list), len(val_list))\n",
    "\n",
    "data_split_dict = {'columns': columns,'train': train_list, 'val': val_list}\n",
    "\n",
    "f = open(os.path.join(savedir,'2023_data_split.pkl'), 'wb')\n",
    "pickle.dump(data_split_dict,f)\n",
    "f.close()"
   ]
  },
  {
   "cell_type": "code",
   "execution_count": 24,
   "id": "602a6c08-e113-41fe-b529-e65912610b24",
   "metadata": {
    "id": "602a6c08-e113-41fe-b529-e65912610b24"
   },
   "outputs": [],
   "source": [
    "f = open(os.path.join(savedir,'train_split_from_2023.csv'),'w')\n",
    "f.write(','.join(columns)+'\\n')\n",
    "for line in data_split_dict['train']:\n",
    "    f.write(','.join([str(l) for l in line])+'\\n')\n",
    "f.close()"
   ]
  },
  {
   "cell_type": "code",
   "execution_count": 26,
   "id": "1848ef02-29d0-4d2c-8c3d-6e11c7602692",
   "metadata": {
    "id": "1848ef02-29d0-4d2c-8c3d-6e11c7602692"
   },
   "outputs": [],
   "source": [
    "f = open(os.path.join(savedir,'val_split_from_2023.csv'),'w')\n",
    "f.write(','.join(columns)+'\\n')\n",
    "for line in data_split_dict['val']:\n",
    "    f.write(','.join([str(l) for l in line])+'\\n')\n",
    "f.close()"
   ]
  },
  {
   "cell_type": "code",
   "execution_count": null,
   "id": "jLY41VmVulFD",
   "metadata": {
    "id": "jLY41VmVulFD"
   },
   "outputs": [],
   "source": []
  }
 ],
 "metadata": {
  "colab": {
   "provenance": []
  },
  "kernelspec": {
   "display_name": "Python 3 (ipykernel)",
   "language": "python",
   "name": "python3"
  },
  "language_info": {
   "codemirror_mode": {
    "name": "ipython",
    "version": 3
   },
   "file_extension": ".py",
   "mimetype": "text/x-python",
   "name": "python",
   "nbconvert_exporter": "python",
   "pygments_lexer": "ipython3",
   "version": "3.12.4"
  }
 },
 "nbformat": 4,
 "nbformat_minor": 5
}
