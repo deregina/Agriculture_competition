{
 "cells": [
  {
   "cell_type": "code",
   "execution_count": 1,
   "metadata": {
    "id": "qYdeTQtpxBb9"
   },
   "outputs": [],
   "source": [
    "import pandas as pd\n",
    "import numpy as np\n",
    "import matplotlib.pyplot as plt\n",
    "import pickle\n",
    "from PIL import Image\n",
    "import requests\n",
    "from sklearn.preprocessing import OneHotEncoder\n",
    "import os\n",
    "import cv2 as cv\n",
    "import rasterio\n",
    "from sklearn.model_selection import train_test_split\n",
    "from tqdm import tqdm"
   ]
  },
  {
   "cell_type": "code",
   "execution_count": 2,
   "metadata": {
    "id": "ENTUtpV31KsS"
   },
   "outputs": [],
   "source": [
    "f = open('bandwise_minmax.pkl', 'rb')\n",
    "minmax = pickle.load(f)\n",
    "f.close()\n",
    "\n",
    "def makedir(path):\n",
    "    if not os.path.exists(path):\n",
    "        os.makedirs(path)\n",
    "\n",
    "def norm(band, index):\n",
    "  band_min, band_max = minmax[index]['min'], minmax[index]['max']\n",
    "  return ((band - band_min)/(band_max - band_min))\n",
    "\n",
    "def get_image(image_path):\n",
    "  src = rasterio.open(image_path, 'r')\n",
    "  S_images=src.read()\n",
    "  c0 = norm(S_images[0].astype(np.float32), 0)\n",
    "  c1 = norm(S_images[1].astype(np.float32), 1)\n",
    "  c2 = norm(S_images[2].astype(np.float32), 2)\n",
    "  c3 = norm(S_images[3].astype(np.float32), 3)\n",
    "  c4 = norm(S_images[4].astype(np.float32), 4)\n",
    "  c5 = norm(S_images[5].astype(np.float32), 5)\n",
    "  image = np.dstack((c0,c1,c2,c3,c4,c5))\n",
    "  src.close()\n",
    "  return image\n",
    "\n",
    "def process_image(satellite_image):\n",
    "  satellite_image = satellite_image[1:-1, 1:-1, :]\n",
    "  h,w,c = satellite_image.shape\n",
    "  if w < h:\n",
    "    satellite_image = np.transpose(satellite_image, (1, 0, 2))\n",
    "  resized_image = cv.resize(satellite_image, (25, 25), interpolation=cv.INTER_CUBIC)\n",
    "  return resized_image\n",
    "\n",
    "def get_age(year, location, time_point, planting_date):\n",
    "  collection_date = doc[str(year)][location][time_point]\n",
    "  planting_date = pd.to_datetime(planting_date)\n",
    "  collection_date = pd.to_datetime(collection_date)\n",
    "  return (collection_date-planting_date).days"
   ]
  },
  {
   "cell_type": "code",
   "execution_count": 3,
   "metadata": {
    "id": "NAbZekXOxRvI"
   },
   "outputs": [],
   "source": [
    "test_2023_split = pd.read_csv('data_processed/test_2023.csv')"
   ]
  },
  {
   "cell_type": "code",
   "execution_count": 4,
   "metadata": {
    "id": "nrR8wMSFxoLF"
   },
   "outputs": [],
   "source": [
    "f = open('data_processed/doc_2023.pkl', 'rb')\n",
    "doc_2023 = pickle.load(f)\n",
    "f.close()\n",
    "f = open('data_processed/val_2023.pkl', 'rb')\n",
    "data_split = pickle.load(f)\n",
    "f.close()"
   ]
  },
  {
   "cell_type": "code",
   "execution_count": 5,
   "metadata": {
    "id": "ULZn___fx3y7"
   },
   "outputs": [],
   "source": [
    "doc = {}\n",
    "doc['2023'] = doc_2023"
   ]
  },
  {
   "cell_type": "markdown",
   "metadata": {
    "id": "gox1_k-nCu-0"
   },
   "source": [
    "Steps in data preprocessing:\n",
    "\n",
    "\n",
    "*   Remove Scottsbluff from training set (scottsbluff plot length is different from all other data)\n",
    "*   Remove rows with nan\n",
    "*   Remove genotype (2023 val set has two genotypes that are new) and irrigationProvided\n",
    "*   Divide yield by max yield. Store max yield in metadata\n",
    "*   Convert location, N_level into one hot encoded form\n",
    "*   Get the satellite images for each row. Transpose image if width is shorter than height. Reside to 25 by 25. And min max normalize each channel of the image.\n",
    "*   For each satellite image, Calculate age by finding difference between planting date and time point. Divide age by 365.\n",
    "*   Make a list of data samples and another list of yields\n",
    "*   Divide the list into training vs validation\n",
    "*   Save as numpy array or pickle file\n",
    "\n"
   ]
  },
  {
   "cell_type": "code",
   "execution_count": 7,
   "metadata": {
    "id": "JSFFQDdix8Fn"
   },
   "outputs": [],
   "source": [
    "all_data = test_2023_split"
   ]
  },
  {
   "cell_type": "code",
   "execution_count": 8,
   "metadata": {
    "colab": {
     "base_uri": "https://localhost:8080/",
     "height": 206
    },
    "id": "QwahIaLHx8nS",
    "outputId": "e88b98b6-08c1-4650-9517-4a6e28cff787"
   },
   "outputs": [
    {
     "data": {
      "text/html": [
       "<div>\n",
       "<style scoped>\n",
       "    .dataframe tbody tr th:only-of-type {\n",
       "        vertical-align: middle;\n",
       "    }\n",
       "\n",
       "    .dataframe tbody tr th {\n",
       "        vertical-align: top;\n",
       "    }\n",
       "\n",
       "    .dataframe thead th {\n",
       "        text-align: right;\n",
       "    }\n",
       "</style>\n",
       "<table border=\"1\" class=\"dataframe\">\n",
       "  <thead>\n",
       "    <tr style=\"text-align: right;\">\n",
       "      <th></th>\n",
       "      <th>year</th>\n",
       "      <th>location</th>\n",
       "      <th>irrigationProvided</th>\n",
       "      <th>experiment</th>\n",
       "      <th>range</th>\n",
       "      <th>row</th>\n",
       "      <th>N_level</th>\n",
       "      <th>genotype</th>\n",
       "      <th>planting_date</th>\n",
       "      <th>location_Ames</th>\n",
       "      <th>location_Crawfordsville</th>\n",
       "      <th>location_Lincoln</th>\n",
       "      <th>location_MOValley</th>\n",
       "      <th>N_level_High</th>\n",
       "      <th>N_level_Low</th>\n",
       "      <th>N_level_Medium</th>\n",
       "    </tr>\n",
       "  </thead>\n",
       "  <tbody>\n",
       "    <tr>\n",
       "      <th>0</th>\n",
       "      <td>2023</td>\n",
       "      <td>Ames</td>\n",
       "      <td>0</td>\n",
       "      <td>2315</td>\n",
       "      <td>9</td>\n",
       "      <td>15</td>\n",
       "      <td>Low</td>\n",
       "      <td>LH185 X LH145</td>\n",
       "      <td>5/19/23</td>\n",
       "      <td>1.0</td>\n",
       "      <td>0.0</td>\n",
       "      <td>0.0</td>\n",
       "      <td>0.0</td>\n",
       "      <td>0.0</td>\n",
       "      <td>1.0</td>\n",
       "      <td>0.0</td>\n",
       "    </tr>\n",
       "    <tr>\n",
       "      <th>1</th>\n",
       "      <td>2023</td>\n",
       "      <td>Ames</td>\n",
       "      <td>0</td>\n",
       "      <td>2315</td>\n",
       "      <td>7</td>\n",
       "      <td>11</td>\n",
       "      <td>Low</td>\n",
       "      <td>PHN46 X PHK56</td>\n",
       "      <td>5/19/23</td>\n",
       "      <td>1.0</td>\n",
       "      <td>0.0</td>\n",
       "      <td>0.0</td>\n",
       "      <td>0.0</td>\n",
       "      <td>0.0</td>\n",
       "      <td>1.0</td>\n",
       "      <td>0.0</td>\n",
       "    </tr>\n",
       "    <tr>\n",
       "      <th>2</th>\n",
       "      <td>2023</td>\n",
       "      <td>Ames</td>\n",
       "      <td>0</td>\n",
       "      <td>2315</td>\n",
       "      <td>4</td>\n",
       "      <td>17</td>\n",
       "      <td>Low</td>\n",
       "      <td>PHN46 X W606S</td>\n",
       "      <td>5/19/23</td>\n",
       "      <td>1.0</td>\n",
       "      <td>0.0</td>\n",
       "      <td>0.0</td>\n",
       "      <td>0.0</td>\n",
       "      <td>0.0</td>\n",
       "      <td>1.0</td>\n",
       "      <td>0.0</td>\n",
       "    </tr>\n",
       "    <tr>\n",
       "      <th>3</th>\n",
       "      <td>2023</td>\n",
       "      <td>Ames</td>\n",
       "      <td>0</td>\n",
       "      <td>2315</td>\n",
       "      <td>20</td>\n",
       "      <td>17</td>\n",
       "      <td>Low</td>\n",
       "      <td>B73 X PHZ51</td>\n",
       "      <td>5/19/23</td>\n",
       "      <td>1.0</td>\n",
       "      <td>0.0</td>\n",
       "      <td>0.0</td>\n",
       "      <td>0.0</td>\n",
       "      <td>0.0</td>\n",
       "      <td>1.0</td>\n",
       "      <td>0.0</td>\n",
       "    </tr>\n",
       "    <tr>\n",
       "      <th>4</th>\n",
       "      <td>2023</td>\n",
       "      <td>Ames</td>\n",
       "      <td>0</td>\n",
       "      <td>2315</td>\n",
       "      <td>19</td>\n",
       "      <td>13</td>\n",
       "      <td>Low</td>\n",
       "      <td>LH145 X LH162</td>\n",
       "      <td>5/19/23</td>\n",
       "      <td>1.0</td>\n",
       "      <td>0.0</td>\n",
       "      <td>0.0</td>\n",
       "      <td>0.0</td>\n",
       "      <td>0.0</td>\n",
       "      <td>1.0</td>\n",
       "      <td>0.0</td>\n",
       "    </tr>\n",
       "  </tbody>\n",
       "</table>\n",
       "</div>"
      ],
      "text/plain": [
       "   year location  irrigationProvided  experiment  range  row N_level  \\\n",
       "0  2023     Ames                   0        2315      9   15     Low   \n",
       "1  2023     Ames                   0        2315      7   11     Low   \n",
       "2  2023     Ames                   0        2315      4   17     Low   \n",
       "3  2023     Ames                   0        2315     20   17     Low   \n",
       "4  2023     Ames                   0        2315     19   13     Low   \n",
       "\n",
       "        genotype planting_date  location_Ames  location_Crawfordsville  \\\n",
       "0  LH185 X LH145       5/19/23            1.0                      0.0   \n",
       "1  PHN46 X PHK56       5/19/23            1.0                      0.0   \n",
       "2  PHN46 X W606S       5/19/23            1.0                      0.0   \n",
       "3    B73 X PHZ51       5/19/23            1.0                      0.0   \n",
       "4  LH145 X LH162       5/19/23            1.0                      0.0   \n",
       "\n",
       "   location_Lincoln  location_MOValley  N_level_High  N_level_Low  \\\n",
       "0               0.0                0.0           0.0          1.0   \n",
       "1               0.0                0.0           0.0          1.0   \n",
       "2               0.0                0.0           0.0          1.0   \n",
       "3               0.0                0.0           0.0          1.0   \n",
       "4               0.0                0.0           0.0          1.0   \n",
       "\n",
       "   N_level_Medium  \n",
       "0             0.0  \n",
       "1             0.0  \n",
       "2             0.0  \n",
       "3             0.0  \n",
       "4             0.0  "
      ]
     },
     "execution_count": 8,
     "metadata": {},
     "output_type": "execute_result"
    }
   ],
   "source": [
    "all_data.head()"
   ]
  },
  {
   "cell_type": "code",
   "execution_count": 9,
   "metadata": {
    "id": "G-T6UI0FF5CC"
   },
   "outputs": [],
   "source": [
    "with open('processed_data_minmax_normalized_trimmed.pkl', 'rb') as f:\n",
    "  processed_data = pickle.load(f)"
   ]
  },
  {
   "cell_type": "code",
   "execution_count": 10,
   "metadata": {},
   "outputs": [],
   "source": [
    "max_yield = processed_data['metadata']['max_yield']"
   ]
  },
  {
   "cell_type": "code",
   "execution_count": 11,
   "metadata": {
    "id": "7eJphPF9FjxP"
   },
   "outputs": [],
   "source": [
    "all_data = all_data.drop(columns=['genotype','irrigationProvided'])"
   ]
  },
  {
   "cell_type": "code",
   "execution_count": 12,
   "metadata": {
    "colab": {
     "base_uri": "https://localhost:8080/",
     "height": 226
    },
    "id": "L0nOru_5z-IR",
    "outputId": "10386676-935b-44cd-c4c5-28f4c01c9174"
   },
   "outputs": [
    {
     "data": {
      "text/html": [
       "<div>\n",
       "<style scoped>\n",
       "    .dataframe tbody tr th:only-of-type {\n",
       "        vertical-align: middle;\n",
       "    }\n",
       "\n",
       "    .dataframe tbody tr th {\n",
       "        vertical-align: top;\n",
       "    }\n",
       "\n",
       "    .dataframe thead th {\n",
       "        text-align: right;\n",
       "    }\n",
       "</style>\n",
       "<table border=\"1\" class=\"dataframe\">\n",
       "  <thead>\n",
       "    <tr style=\"text-align: right;\">\n",
       "      <th></th>\n",
       "      <th>year</th>\n",
       "      <th>location</th>\n",
       "      <th>experiment</th>\n",
       "      <th>range</th>\n",
       "      <th>row</th>\n",
       "      <th>N_level</th>\n",
       "      <th>planting_date</th>\n",
       "      <th>location_Ames</th>\n",
       "      <th>location_Crawfordsville</th>\n",
       "      <th>location_Lincoln</th>\n",
       "      <th>location_MOValley</th>\n",
       "      <th>N_level_High</th>\n",
       "      <th>N_level_Low</th>\n",
       "      <th>N_level_Medium</th>\n",
       "    </tr>\n",
       "  </thead>\n",
       "  <tbody>\n",
       "    <tr>\n",
       "      <th>0</th>\n",
       "      <td>2023</td>\n",
       "      <td>Ames</td>\n",
       "      <td>2315</td>\n",
       "      <td>9</td>\n",
       "      <td>15</td>\n",
       "      <td>Low</td>\n",
       "      <td>5/19/23</td>\n",
       "      <td>1.0</td>\n",
       "      <td>0.0</td>\n",
       "      <td>0.0</td>\n",
       "      <td>0.0</td>\n",
       "      <td>0.0</td>\n",
       "      <td>1.0</td>\n",
       "      <td>0.0</td>\n",
       "    </tr>\n",
       "    <tr>\n",
       "      <th>1</th>\n",
       "      <td>2023</td>\n",
       "      <td>Ames</td>\n",
       "      <td>2315</td>\n",
       "      <td>7</td>\n",
       "      <td>11</td>\n",
       "      <td>Low</td>\n",
       "      <td>5/19/23</td>\n",
       "      <td>1.0</td>\n",
       "      <td>0.0</td>\n",
       "      <td>0.0</td>\n",
       "      <td>0.0</td>\n",
       "      <td>0.0</td>\n",
       "      <td>1.0</td>\n",
       "      <td>0.0</td>\n",
       "    </tr>\n",
       "    <tr>\n",
       "      <th>2</th>\n",
       "      <td>2023</td>\n",
       "      <td>Ames</td>\n",
       "      <td>2315</td>\n",
       "      <td>4</td>\n",
       "      <td>17</td>\n",
       "      <td>Low</td>\n",
       "      <td>5/19/23</td>\n",
       "      <td>1.0</td>\n",
       "      <td>0.0</td>\n",
       "      <td>0.0</td>\n",
       "      <td>0.0</td>\n",
       "      <td>0.0</td>\n",
       "      <td>1.0</td>\n",
       "      <td>0.0</td>\n",
       "    </tr>\n",
       "    <tr>\n",
       "      <th>3</th>\n",
       "      <td>2023</td>\n",
       "      <td>Ames</td>\n",
       "      <td>2315</td>\n",
       "      <td>20</td>\n",
       "      <td>17</td>\n",
       "      <td>Low</td>\n",
       "      <td>5/19/23</td>\n",
       "      <td>1.0</td>\n",
       "      <td>0.0</td>\n",
       "      <td>0.0</td>\n",
       "      <td>0.0</td>\n",
       "      <td>0.0</td>\n",
       "      <td>1.0</td>\n",
       "      <td>0.0</td>\n",
       "    </tr>\n",
       "    <tr>\n",
       "      <th>4</th>\n",
       "      <td>2023</td>\n",
       "      <td>Ames</td>\n",
       "      <td>2315</td>\n",
       "      <td>19</td>\n",
       "      <td>13</td>\n",
       "      <td>Low</td>\n",
       "      <td>5/19/23</td>\n",
       "      <td>1.0</td>\n",
       "      <td>0.0</td>\n",
       "      <td>0.0</td>\n",
       "      <td>0.0</td>\n",
       "      <td>0.0</td>\n",
       "      <td>1.0</td>\n",
       "      <td>0.0</td>\n",
       "    </tr>\n",
       "  </tbody>\n",
       "</table>\n",
       "</div>"
      ],
      "text/plain": [
       "   year location  experiment  range  row N_level planting_date  location_Ames  \\\n",
       "0  2023     Ames        2315      9   15     Low       5/19/23            1.0   \n",
       "1  2023     Ames        2315      7   11     Low       5/19/23            1.0   \n",
       "2  2023     Ames        2315      4   17     Low       5/19/23            1.0   \n",
       "3  2023     Ames        2315     20   17     Low       5/19/23            1.0   \n",
       "4  2023     Ames        2315     19   13     Low       5/19/23            1.0   \n",
       "\n",
       "   location_Crawfordsville  location_Lincoln  location_MOValley  N_level_High  \\\n",
       "0                      0.0               0.0                0.0           0.0   \n",
       "1                      0.0               0.0                0.0           0.0   \n",
       "2                      0.0               0.0                0.0           0.0   \n",
       "3                      0.0               0.0                0.0           0.0   \n",
       "4                      0.0               0.0                0.0           0.0   \n",
       "\n",
       "   N_level_Low  N_level_Medium  \n",
       "0          1.0             0.0  \n",
       "1          1.0             0.0  \n",
       "2          1.0             0.0  \n",
       "3          1.0             0.0  \n",
       "4          1.0             0.0  "
      ]
     },
     "execution_count": 12,
     "metadata": {},
     "output_type": "execute_result"
    }
   ],
   "source": [
    "all_data.head()"
   ]
  },
  {
   "cell_type": "code",
   "execution_count": 13,
   "metadata": {
    "colab": {
     "base_uri": "https://localhost:8080/"
    },
    "id": "ZsYZY9nP2gvl",
    "outputId": "95cd9427-d97e-450c-c4d8-d67d0f0943a0",
    "scrolled": true
   },
   "outputs": [
    {
     "name": "stderr",
     "output_type": "stream",
     "text": [
      "5it [00:00, 20.64it/s]"
     ]
    },
    {
     "name": "stdout",
     "output_type": "stream",
     "text": [
      "found  satellite_images\\2023_test\\Ames\\TP1\\Ames-TP1-2315_9_15.TIF\n",
      "found  satellite_images\\2023_test\\Ames\\TP2\\Ames-TP2-2315_9_15.TIF\n",
      "found  satellite_images\\2023_test\\Ames\\TP3\\Ames-TP3-2315_9_15.TIF\n",
      "found  satellite_images\\2023_test\\Ames\\TP1\\Ames-TP1-2315_7_11.TIF\n",
      "found  satellite_images\\2023_test\\Ames\\TP2\\Ames-TP2-2315_7_11.TIF\n",
      "found  satellite_images\\2023_test\\Ames\\TP3\\Ames-TP3-2315_7_11.TIF\n",
      "found  satellite_images\\2023_test\\Ames\\TP1\\Ames-TP1-2315_4_17.TIF\n",
      "found  satellite_images\\2023_test\\Ames\\TP2\\Ames-TP2-2315_4_17.TIF\n",
      "found  satellite_images\\2023_test\\Ames\\TP3\\Ames-TP3-2315_4_17.TIF\n",
      "found  satellite_images\\2023_test\\Ames\\TP1\\Ames-TP1-2315_20_17.TIF\n",
      "found  satellite_images\\2023_test\\Ames\\TP2\\Ames-TP2-2315_20_17.TIF\n",
      "found  satellite_images\\2023_test\\Ames\\TP3\\Ames-TP3-2315_20_17.TIF\n",
      "found  satellite_images\\2023_test\\Ames\\TP1\\Ames-TP1-2315_19_13.TIF\n",
      "found  satellite_images\\2023_test\\Ames\\TP2\\Ames-TP2-2315_19_13.TIF\n",
      "found  satellite_images\\2023_test\\Ames\\TP3\\Ames-TP3-2315_19_13.TIF\n",
      "found  satellite_images\\2023_test\\Ames\\TP1\\Ames-TP1-2315_3_17.TIF\n",
      "found  satellite_images\\2023_test\\Ames\\TP2\\Ames-TP2-2315_3_17.TIF\n",
      "found  satellite_images\\2023_test\\Ames\\TP3\\Ames-TP3-2315_3_17.TIF\n",
      "found  satellite_images\\2023_test\\Ames\\TP1\\Ames-TP1-2315_13_15.TIF\n",
      "found  satellite_images\\2023_test\\Ames\\TP2\\Ames-TP2-2315_13_15.TIF\n",
      "found  satellite_images\\2023_test\\Ames\\TP3\\Ames-TP3-2315_13_15.TIF\n",
      "found  satellite_images\\2023_test\\Ames\\TP1\\Ames-TP1-2315_23_15.TIF\n",
      "found  satellite_images\\2023_test\\Ames\\TP2\\Ames-TP2-2315_23_15.TIF\n",
      "found  satellite_images\\2023_test\\Ames\\TP3\\Ames-TP3-2315_23_15.TIF\n",
      "found  satellite_images\\2023_test\\Ames\\TP1\\Ames-TP1-2315_5_11.TIF\n"
     ]
    },
    {
     "name": "stderr",
     "output_type": "stream",
     "text": [
      "14it [00:00, 32.64it/s]"
     ]
    },
    {
     "name": "stdout",
     "output_type": "stream",
     "text": [
      "found  satellite_images\\2023_test\\Ames\\TP2\\Ames-TP2-2315_5_11.TIF\n",
      "found  satellite_images\\2023_test\\Ames\\TP3\\Ames-TP3-2315_5_11.TIF\n",
      "found  satellite_images\\2023_test\\Ames\\TP1\\Ames-TP1-2315_6_13.TIF\n",
      "found  satellite_images\\2023_test\\Ames\\TP2\\Ames-TP2-2315_6_13.TIF\n",
      "found  satellite_images\\2023_test\\Ames\\TP3\\Ames-TP3-2315_6_13.TIF\n",
      "found  satellite_images\\2023_test\\Ames\\TP1\\Ames-TP1-2315_14_17.TIF\n",
      "found  satellite_images\\2023_test\\Ames\\TP2\\Ames-TP2-2315_14_17.TIF\n",
      "found  satellite_images\\2023_test\\Ames\\TP3\\Ames-TP3-2315_14_17.TIF\n",
      "found  satellite_images\\2023_test\\Ames\\TP1\\Ames-TP1-2315_22_15.TIF\n",
      "found  satellite_images\\2023_test\\Ames\\TP2\\Ames-TP2-2315_22_15.TIF\n",
      "found  satellite_images\\2023_test\\Ames\\TP3\\Ames-TP3-2315_22_15.TIF\n",
      "found  satellite_images\\2023_test\\Ames\\TP1\\Ames-TP1-2315_7_15.TIF\n",
      "found  satellite_images\\2023_test\\Ames\\TP2\\Ames-TP2-2315_7_15.TIF\n",
      "found  satellite_images\\2023_test\\Ames\\TP3\\Ames-TP3-2315_7_15.TIF\n",
      "found  satellite_images\\2023_test\\Ames\\TP1\\Ames-TP1-2315_9_11.TIF\n",
      "found  satellite_images\\2023_test\\Ames\\TP2\\Ames-TP2-2315_9_11.TIF\n",
      "found  satellite_images\\2023_test\\Ames\\TP3\\Ames-TP3-2315_9_11.TIF\n",
      "found  satellite_images\\2023_test\\Ames\\TP1\\Ames-TP1-2315_19_17.TIF\n",
      "found  satellite_images\\2023_test\\Ames\\TP2\\Ames-TP2-2315_19_17.TIF\n",
      "found  satellite_images\\2023_test\\Ames\\TP3\\Ames-TP3-2315_19_17.TIF\n",
      "found  satellite_images\\2023_test\\Ames\\TP1\\Ames-TP1-2315_9_17.TIF\n",
      "found  satellite_images\\2023_test\\Ames\\TP2\\Ames-TP2-2315_9_17.TIF\n",
      "found  satellite_images\\2023_test\\Ames\\TP3\\Ames-TP3-2315_9_17.TIF\n",
      "found  satellite_images\\2023_test\\Ames\\TP1\\Ames-TP1-2315_8_15.TIF\n",
      "found  satellite_images\\2023_test\\Ames\\TP2\\Ames-TP2-2315_8_15.TIF\n"
     ]
    },
    {
     "name": "stderr",
     "output_type": "stream",
     "text": [
      "22it [00:00, 34.17it/s]"
     ]
    },
    {
     "name": "stdout",
     "output_type": "stream",
     "text": [
      "found  satellite_images\\2023_test\\Ames\\TP3\\Ames-TP3-2315_8_15.TIF\n",
      "found  satellite_images\\2023_test\\Ames\\TP1\\Ames-TP1-2315_9_13.TIF\n",
      "found  satellite_images\\2023_test\\Ames\\TP2\\Ames-TP2-2315_9_13.TIF\n",
      "found  satellite_images\\2023_test\\Ames\\TP3\\Ames-TP3-2315_9_13.TIF\n",
      "found  satellite_images\\2023_test\\Ames\\TP1\\Ames-TP1-2315_17_17.TIF\n",
      "found  satellite_images\\2023_test\\Ames\\TP2\\Ames-TP2-2315_17_17.TIF\n",
      "found  satellite_images\\2023_test\\Ames\\TP3\\Ames-TP3-2315_17_17.TIF\n",
      "found  satellite_images\\2023_test\\Ames\\TP1\\Ames-TP1-2315_14_15.TIF\n",
      "found  satellite_images\\2023_test\\Ames\\TP2\\Ames-TP2-2315_14_15.TIF\n",
      "found  satellite_images\\2023_test\\Ames\\TP3\\Ames-TP3-2315_14_15.TIF\n",
      "found  satellite_images\\2023_test\\Ames\\TP1\\Ames-TP1-2315_11_15.TIF\n",
      "found  satellite_images\\2023_test\\Ames\\TP2\\Ames-TP2-2315_11_15.TIF\n",
      "found  satellite_images\\2023_test\\Ames\\TP3\\Ames-TP3-2315_11_15.TIF\n",
      "found  satellite_images\\2023_test\\Ames\\TP1\\Ames-TP1-2315_2_17.TIF\n",
      "found  satellite_images\\2023_test\\Ames\\TP2\\Ames-TP2-2315_2_17.TIF\n",
      "found  satellite_images\\2023_test\\Ames\\TP3\\Ames-TP3-2315_2_17.TIF\n",
      "found  satellite_images\\2023_test\\Ames\\TP1\\Ames-TP1-2315_10_13.TIF\n",
      "found  satellite_images\\2023_test\\Ames\\TP2\\Ames-TP2-2315_10_13.TIF\n",
      "found  satellite_images\\2023_test\\Ames\\TP3\\Ames-TP3-2315_10_13.TIF\n",
      "found  satellite_images\\2023_test\\Ames\\TP1\\Ames-TP1-2315_15_17.TIF\n",
      "found  satellite_images\\2023_test\\Ames\\TP2\\Ames-TP2-2315_15_17.TIF\n",
      "found  satellite_images\\2023_test\\Ames\\TP3\\Ames-TP3-2315_15_17.TIF\n",
      "found  satellite_images\\2023_test\\Ames\\TP1\\Ames-TP1-2315_16_17.TIF\n",
      "found  satellite_images\\2023_test\\Ames\\TP2\\Ames-TP2-2315_16_17.TIF\n"
     ]
    },
    {
     "name": "stderr",
     "output_type": "stream",
     "text": [
      "30it [00:00, 36.32it/s]"
     ]
    },
    {
     "name": "stdout",
     "output_type": "stream",
     "text": [
      "found  satellite_images\\2023_test\\Ames\\TP3\\Ames-TP3-2315_16_17.TIF\n",
      "found  satellite_images\\2023_test\\Ames\\TP1\\Ames-TP1-2315_15_15.TIF\n",
      "found  satellite_images\\2023_test\\Ames\\TP2\\Ames-TP2-2315_15_15.TIF\n",
      "found  satellite_images\\2023_test\\Ames\\TP3\\Ames-TP3-2315_15_15.TIF\n",
      "found  satellite_images\\2023_test\\Ames\\TP1\\Ames-TP1-2315_20_11.TIF\n",
      "found  satellite_images\\2023_test\\Ames\\TP2\\Ames-TP2-2315_20_11.TIF\n",
      "found  satellite_images\\2023_test\\Ames\\TP3\\Ames-TP3-2315_20_11.TIF\n",
      "found  satellite_images\\2023_test\\Ames\\TP1\\Ames-TP1-2315_8_13.TIF\n",
      "found  satellite_images\\2023_test\\Ames\\TP2\\Ames-TP2-2315_8_13.TIF\n",
      "found  satellite_images\\2023_test\\Ames\\TP3\\Ames-TP3-2315_8_13.TIF\n",
      "found  satellite_images\\2023_test\\Ames\\TP1\\Ames-TP1-2315_13_17.TIF\n",
      "found  satellite_images\\2023_test\\Ames\\TP2\\Ames-TP2-2315_13_17.TIF\n",
      "found  satellite_images\\2023_test\\Ames\\TP3\\Ames-TP3-2315_13_17.TIF\n",
      "found  satellite_images\\2023_test\\Ames\\TP1\\Ames-TP1-2315_23_17.TIF\n",
      "found  satellite_images\\2023_test\\Ames\\TP2\\Ames-TP2-2315_23_17.TIF\n",
      "found  satellite_images\\2023_test\\Ames\\TP3\\Ames-TP3-2315_23_17.TIF\n",
      "found  satellite_images\\2023_test\\Ames\\TP1\\Ames-TP1-2315_18_15.TIF\n",
      "found  satellite_images\\2023_test\\Ames\\TP2\\Ames-TP2-2315_18_15.TIF\n",
      "found  satellite_images\\2023_test\\Ames\\TP3\\Ames-TP3-2315_18_15.TIF\n",
      "found  satellite_images\\2023_test\\Ames\\TP1\\Ames-TP1-2315_15_11.TIF\n",
      "found  satellite_images\\2023_test\\Ames\\TP2\\Ames-TP2-2315_15_11.TIF\n",
      "found  satellite_images\\2023_test\\Ames\\TP3\\Ames-TP3-2315_15_11.TIF\n",
      "found  satellite_images\\2023_test\\Ames\\TP1\\Ames-TP1-2315_16_15.TIF\n",
      "found  satellite_images\\2023_test\\Ames\\TP2\\Ames-TP2-2315_16_15.TIF\n"
     ]
    },
    {
     "name": "stderr",
     "output_type": "stream",
     "text": [
      "38it [00:01, 36.95it/s]"
     ]
    },
    {
     "name": "stdout",
     "output_type": "stream",
     "text": [
      "found  satellite_images\\2023_test\\Ames\\TP3\\Ames-TP3-2315_16_15.TIF\n",
      "found  satellite_images\\2023_test\\Ames\\TP1\\Ames-TP1-2315_17_11.TIF\n",
      "found  satellite_images\\2023_test\\Ames\\TP2\\Ames-TP2-2315_17_11.TIF\n",
      "found  satellite_images\\2023_test\\Ames\\TP3\\Ames-TP3-2315_17_11.TIF\n",
      "found  satellite_images\\2023_test\\Ames\\TP1\\Ames-TP1-2315_8_11.TIF\n",
      "found  satellite_images\\2023_test\\Ames\\TP2\\Ames-TP2-2315_8_11.TIF\n",
      "found  satellite_images\\2023_test\\Ames\\TP3\\Ames-TP3-2315_8_11.TIF\n",
      "found  satellite_images\\2023_test\\Ames\\TP1\\Ames-TP1-2315_23_13.TIF\n",
      "found  satellite_images\\2023_test\\Ames\\TP2\\Ames-TP2-2315_23_13.TIF\n",
      "found  satellite_images\\2023_test\\Ames\\TP3\\Ames-TP3-2315_23_13.TIF\n",
      "found  satellite_images\\2023_test\\Ames\\TP1\\Ames-TP1-2315_18_17.TIF\n",
      "found  satellite_images\\2023_test\\Ames\\TP2\\Ames-TP2-2315_18_17.TIF\n",
      "found  satellite_images\\2023_test\\Ames\\TP3\\Ames-TP3-2315_18_17.TIF\n",
      "found  satellite_images\\2023_test\\Ames\\TP1\\Ames-TP1-2315_11_13.TIF\n",
      "found  satellite_images\\2023_test\\Ames\\TP2\\Ames-TP2-2315_11_13.TIF\n",
      "found  satellite_images\\2023_test\\Ames\\TP3\\Ames-TP3-2315_11_13.TIF\n",
      "found  satellite_images\\2023_test\\Ames\\TP1\\Ames-TP1-2315_10_15.TIF\n",
      "found  satellite_images\\2023_test\\Ames\\TP2\\Ames-TP2-2315_10_15.TIF\n",
      "found  satellite_images\\2023_test\\Ames\\TP3\\Ames-TP3-2315_10_15.TIF\n",
      "found  satellite_images\\2023_test\\Ames\\TP1\\Ames-TP1-2315_8_17.TIF\n",
      "found  satellite_images\\2023_test\\Ames\\TP2\\Ames-TP2-2315_8_17.TIF\n",
      "found  satellite_images\\2023_test\\Ames\\TP3\\Ames-TP3-2315_8_17.TIF\n",
      "found  satellite_images\\2023_test\\Ames\\TP1\\Ames-TP1-2315_13_11.TIF\n",
      "found  satellite_images\\2023_test\\Ames\\TP2\\Ames-TP2-2315_13_11.TIF\n"
     ]
    },
    {
     "name": "stderr",
     "output_type": "stream",
     "text": [
      "46it [00:01, 32.84it/s]"
     ]
    },
    {
     "name": "stdout",
     "output_type": "stream",
     "text": [
      "found  satellite_images\\2023_test\\Ames\\TP3\\Ames-TP3-2315_13_11.TIF\n",
      "found  satellite_images\\2023_test\\Ames\\TP1\\Ames-TP1-2315_2_13.TIF\n",
      "found  satellite_images\\2023_test\\Ames\\TP2\\Ames-TP2-2315_2_13.TIF\n",
      "found  satellite_images\\2023_test\\Ames\\TP3\\Ames-TP3-2315_2_13.TIF\n",
      "found  satellite_images\\2023_test\\Ames\\TP1\\Ames-TP1-2315_39_15.TIF\n",
      "found  satellite_images\\2023_test\\Ames\\TP2\\Ames-TP2-2315_39_15.TIF\n",
      "found  satellite_images\\2023_test\\Ames\\TP3\\Ames-TP3-2315_39_15.TIF\n",
      "found  satellite_images\\2023_test\\Ames\\TP1\\Ames-TP1-2315_33_13.TIF\n",
      "found  satellite_images\\2023_test\\Ames\\TP2\\Ames-TP2-2315_33_13.TIF\n",
      "found  satellite_images\\2023_test\\Ames\\TP3\\Ames-TP3-2315_33_13.TIF\n",
      "found  satellite_images\\2023_test\\Ames\\TP1\\Ames-TP1-2315_35_15.TIF\n",
      "found  satellite_images\\2023_test\\Ames\\TP2\\Ames-TP2-2315_35_15.TIF\n",
      "found  satellite_images\\2023_test\\Ames\\TP3\\Ames-TP3-2315_35_15.TIF\n",
      "found  satellite_images\\2023_test\\Ames\\TP1\\Ames-TP1-2315_39_11.TIF\n",
      "found  satellite_images\\2023_test\\Ames\\TP2\\Ames-TP2-2315_39_11.TIF\n",
      "found  satellite_images\\2023_test\\Ames\\TP3\\Ames-TP3-2315_39_11.TIF\n",
      "found  satellite_images\\2023_test\\Ames\\TP1\\Ames-TP1-2315_44_15.TIF\n",
      "found  satellite_images\\2023_test\\Ames\\TP2\\Ames-TP2-2315_44_15.TIF\n"
     ]
    },
    {
     "name": "stderr",
     "output_type": "stream",
     "text": [
      "50it [00:01, 31.61it/s]"
     ]
    },
    {
     "name": "stdout",
     "output_type": "stream",
     "text": [
      "found  satellite_images\\2023_test\\Ames\\TP3\\Ames-TP3-2315_44_15.TIF\n",
      "found  satellite_images\\2023_test\\Ames\\TP1\\Ames-TP1-2315_33_15.TIF\n",
      "found  satellite_images\\2023_test\\Ames\\TP2\\Ames-TP2-2315_33_15.TIF\n",
      "found  satellite_images\\2023_test\\Ames\\TP3\\Ames-TP3-2315_33_15.TIF\n",
      "found  satellite_images\\2023_test\\Ames\\TP1\\Ames-TP1-2315_35_17.TIF\n",
      "found  satellite_images\\2023_test\\Ames\\TP2\\Ames-TP2-2315_35_17.TIF\n",
      "found  satellite_images\\2023_test\\Ames\\TP3\\Ames-TP3-2315_35_17.TIF\n",
      "found  satellite_images\\2023_test\\Ames\\TP1\\Ames-TP1-2315_37_17.TIF\n",
      "found  satellite_images\\2023_test\\Ames\\TP2\\Ames-TP2-2315_37_17.TIF\n",
      "found  satellite_images\\2023_test\\Ames\\TP3\\Ames-TP3-2315_37_17.TIF\n",
      "found  satellite_images\\2023_test\\Ames\\TP1\\Ames-TP1-2315_27_11.TIF\n",
      "found  satellite_images\\2023_test\\Ames\\TP2\\Ames-TP2-2315_27_11.TIF\n",
      "found  satellite_images\\2023_test\\Ames\\TP3\\Ames-TP3-2315_27_11.TIF\n",
      "found  satellite_images\\2023_test\\Ames\\TP1\\Ames-TP1-2315_28_13.TIF\n",
      "found  satellite_images\\2023_test\\Ames\\TP2\\Ames-TP2-2315_28_13.TIF\n",
      "found  satellite_images\\2023_test\\Ames\\TP3\\Ames-TP3-2315_28_13.TIF\n",
      "found  satellite_images\\2023_test\\Ames\\TP1\\Ames-TP1-2315_43_13.TIF\n",
      "found  satellite_images\\2023_test\\Ames\\TP2\\Ames-TP2-2315_43_13.TIF\n"
     ]
    },
    {
     "name": "stderr",
     "output_type": "stream",
     "text": [
      "58it [00:01, 30.03it/s]"
     ]
    },
    {
     "name": "stdout",
     "output_type": "stream",
     "text": [
      "found  satellite_images\\2023_test\\Ames\\TP3\\Ames-TP3-2315_43_13.TIF\n",
      "found  satellite_images\\2023_test\\Ames\\TP1\\Ames-TP1-2315_41_15.TIF\n",
      "found  satellite_images\\2023_test\\Ames\\TP2\\Ames-TP2-2315_41_15.TIF\n",
      "found  satellite_images\\2023_test\\Ames\\TP3\\Ames-TP3-2315_41_15.TIF\n",
      "found  satellite_images\\2023_test\\Ames\\TP1\\Ames-TP1-2315_29_15.TIF\n",
      "found  satellite_images\\2023_test\\Ames\\TP2\\Ames-TP2-2315_29_15.TIF\n",
      "found  satellite_images\\2023_test\\Ames\\TP3\\Ames-TP3-2315_29_15.TIF\n",
      "found  satellite_images\\2023_test\\Ames\\TP1\\Ames-TP1-2315_45_17.TIF\n",
      "found  satellite_images\\2023_test\\Ames\\TP2\\Ames-TP2-2315_45_17.TIF\n",
      "found  satellite_images\\2023_test\\Ames\\TP3\\Ames-TP3-2315_45_17.TIF\n",
      "found  satellite_images\\2023_test\\Ames\\TP1\\Ames-TP1-2315_25_11.TIF\n",
      "found  satellite_images\\2023_test\\Ames\\TP2\\Ames-TP2-2315_25_11.TIF\n",
      "found  satellite_images\\2023_test\\Ames\\TP3\\Ames-TP3-2315_25_11.TIF\n",
      "found  satellite_images\\2023_test\\Ames\\TP1\\Ames-TP1-2315_40_17.TIF\n",
      "found  satellite_images\\2023_test\\Ames\\TP2\\Ames-TP2-2315_40_17.TIF\n",
      "found  satellite_images\\2023_test\\Ames\\TP3\\Ames-TP3-2315_40_17.TIF\n"
     ]
    },
    {
     "name": "stderr",
     "output_type": "stream",
     "text": [
      "62it [00:01, 30.61it/s]"
     ]
    },
    {
     "name": "stdout",
     "output_type": "stream",
     "text": [
      "found  satellite_images\\2023_test\\Ames\\TP1\\Ames-TP1-2315_30_17.TIF\n",
      "found  satellite_images\\2023_test\\Ames\\TP2\\Ames-TP2-2315_30_17.TIF\n",
      "found  satellite_images\\2023_test\\Ames\\TP3\\Ames-TP3-2315_30_17.TIF\n",
      "found  satellite_images\\2023_test\\Ames\\TP1\\Ames-TP1-2315_36_15.TIF\n",
      "found  satellite_images\\2023_test\\Ames\\TP2\\Ames-TP2-2315_36_15.TIF\n",
      "found  satellite_images\\2023_test\\Ames\\TP3\\Ames-TP3-2315_36_15.TIF\n",
      "found  satellite_images\\2023_test\\Ames\\TP1\\Ames-TP1-2315_37_13.TIF\n",
      "found  satellite_images\\2023_test\\Ames\\TP2\\Ames-TP2-2315_37_13.TIF\n",
      "found  satellite_images\\2023_test\\Ames\\TP3\\Ames-TP3-2315_37_13.TIF\n",
      "found  satellite_images\\2023_test\\Ames\\TP1\\Ames-TP1-2315_31_11.TIF\n",
      "found  satellite_images\\2023_test\\Ames\\TP2\\Ames-TP2-2315_31_11.TIF\n",
      "found  satellite_images\\2023_test\\Ames\\TP3\\Ames-TP3-2315_31_11.TIF\n",
      "found  satellite_images\\2023_test\\Ames\\TP1\\Ames-TP1-2315_25_17.TIF\n",
      "found  satellite_images\\2023_test\\Ames\\TP2\\Ames-TP2-2315_25_17.TIF\n",
      "found  satellite_images\\2023_test\\Ames\\TP3\\Ames-TP3-2315_25_17.TIF\n",
      "found  satellite_images\\2023_test\\Ames\\TP1\\Ames-TP1-2315_44_13.TIF\n",
      "found  satellite_images\\2023_test\\Ames\\TP2\\Ames-TP2-2315_44_13.TIF\n",
      "found  satellite_images\\2023_test\\Ames\\TP3\\Ames-TP3-2315_44_13.TIF\n",
      "found  satellite_images\\2023_test\\Ames\\TP1\\Ames-TP1-2315_43_17.TIF\n",
      "found  satellite_images\\2023_test\\Ames\\TP2\\Ames-TP2-2315_43_17.TIF\n"
     ]
    },
    {
     "name": "stderr",
     "output_type": "stream",
     "text": [
      "70it [00:02, 29.82it/s]"
     ]
    },
    {
     "name": "stdout",
     "output_type": "stream",
     "text": [
      "found  satellite_images\\2023_test\\Ames\\TP3\\Ames-TP3-2315_43_17.TIF\n",
      "found  satellite_images\\2023_test\\Ames\\TP1\\Ames-TP1-2315_25_15.TIF\n",
      "found  satellite_images\\2023_test\\Ames\\TP2\\Ames-TP2-2315_25_15.TIF\n",
      "found  satellite_images\\2023_test\\Ames\\TP3\\Ames-TP3-2315_25_15.TIF\n",
      "found  satellite_images\\2023_test\\Ames\\TP1\\Ames-TP1-2315_36_17.TIF\n",
      "found  satellite_images\\2023_test\\Ames\\TP2\\Ames-TP2-2315_36_17.TIF\n",
      "found  satellite_images\\2023_test\\Ames\\TP3\\Ames-TP3-2315_36_17.TIF\n",
      "found  satellite_images\\2023_test\\Ames\\TP1\\Ames-TP1-2315_24_17.TIF\n",
      "found  satellite_images\\2023_test\\Ames\\TP2\\Ames-TP2-2315_24_17.TIF\n",
      "found  satellite_images\\2023_test\\Ames\\TP3\\Ames-TP3-2315_24_17.TIF\n",
      "found  satellite_images\\2023_test\\Ames\\TP1\\Ames-TP1-2315_40_13.TIF\n",
      "found  satellite_images\\2023_test\\Ames\\TP2\\Ames-TP2-2315_40_13.TIF\n",
      "found  satellite_images\\2023_test\\Ames\\TP3\\Ames-TP3-2315_40_13.TIF\n",
      "found  satellite_images\\2023_test\\Ames\\TP1\\Ames-TP1-2315_43_15.TIF\n",
      "found  satellite_images\\2023_test\\Ames\\TP2\\Ames-TP2-2315_43_15.TIF\n",
      "found  satellite_images\\2023_test\\Ames\\TP3\\Ames-TP3-2315_43_15.TIF\n"
     ]
    },
    {
     "name": "stderr",
     "output_type": "stream",
     "text": [
      "74it [00:02, 29.81it/s]"
     ]
    },
    {
     "name": "stdout",
     "output_type": "stream",
     "text": [
      "found  satellite_images\\2023_test\\Ames\\TP1\\Ames-TP1-2315_42_15.TIF\n",
      "found  satellite_images\\2023_test\\Ames\\TP2\\Ames-TP2-2315_42_15.TIF\n",
      "found  satellite_images\\2023_test\\Ames\\TP3\\Ames-TP3-2315_42_15.TIF\n",
      "found  satellite_images\\2023_test\\Ames\\TP1\\Ames-TP1-2315_26_17.TIF\n",
      "found  satellite_images\\2023_test\\Ames\\TP2\\Ames-TP2-2315_26_17.TIF\n",
      "found  satellite_images\\2023_test\\Ames\\TP3\\Ames-TP3-2315_26_17.TIF\n",
      "found  satellite_images\\2023_test\\Ames\\TP1\\Ames-TP1-2315_31_15.TIF\n",
      "found  satellite_images\\2023_test\\Ames\\TP2\\Ames-TP2-2315_31_15.TIF\n",
      "found  satellite_images\\2023_test\\Ames\\TP3\\Ames-TP3-2315_31_15.TIF\n",
      "found  satellite_images\\2023_test\\Ames\\TP1\\Ames-TP1-2315_43_11.TIF\n",
      "found  satellite_images\\2023_test\\Ames\\TP2\\Ames-TP2-2315_43_11.TIF\n",
      "found  satellite_images\\2023_test\\Ames\\TP3\\Ames-TP3-2315_43_11.TIF\n",
      "found  satellite_images\\2023_test\\Ames\\TP1\\Ames-TP1-2315_34_11.TIF\n",
      "found  satellite_images\\2023_test\\Ames\\TP2\\Ames-TP2-2315_34_11.TIF\n",
      "found  satellite_images\\2023_test\\Ames\\TP3\\Ames-TP3-2315_34_11.TIF\n",
      "found  satellite_images\\2023_test\\Ames\\TP1\\Ames-TP1-2315_30_11.TIF\n",
      "found  satellite_images\\2023_test\\Ames\\TP2\\Ames-TP2-2315_30_11.TIF\n",
      "found  satellite_images\\2023_test\\Ames\\TP3\\Ames-TP3-2315_30_11.TIF\n",
      "found  satellite_images\\2023_test\\Ames\\TP1\\Ames-TP1-2315_32_15.TIF\n"
     ]
    },
    {
     "name": "stderr",
     "output_type": "stream",
     "text": [
      "82it [00:02, 30.26it/s]"
     ]
    },
    {
     "name": "stdout",
     "output_type": "stream",
     "text": [
      "found  satellite_images\\2023_test\\Ames\\TP2\\Ames-TP2-2315_32_15.TIF\n",
      "found  satellite_images\\2023_test\\Ames\\TP3\\Ames-TP3-2315_32_15.TIF\n",
      "found  satellite_images\\2023_test\\Ames\\TP1\\Ames-TP1-2315_37_11.TIF\n",
      "found  satellite_images\\2023_test\\Ames\\TP2\\Ames-TP2-2315_37_11.TIF\n",
      "found  satellite_images\\2023_test\\Ames\\TP3\\Ames-TP3-2315_37_11.TIF\n",
      "found  satellite_images\\2023_test\\Ames\\TP1\\Ames-TP1-2315_24_15.TIF\n",
      "found  satellite_images\\2023_test\\Ames\\TP2\\Ames-TP2-2315_24_15.TIF\n",
      "found  satellite_images\\2023_test\\Ames\\TP3\\Ames-TP3-2315_24_15.TIF\n",
      "found  satellite_images\\2023_test\\Ames\\TP1\\Ames-TP1-2315_40_11.TIF\n",
      "found  satellite_images\\2023_test\\Ames\\TP2\\Ames-TP2-2315_40_11.TIF\n",
      "found  satellite_images\\2023_test\\Ames\\TP3\\Ames-TP3-2315_40_11.TIF\n",
      "found  satellite_images\\2023_test\\Ames\\TP1\\Ames-TP1-2315_35_11.TIF\n",
      "found  satellite_images\\2023_test\\Ames\\TP2\\Ames-TP2-2315_35_11.TIF\n",
      "found  satellite_images\\2023_test\\Ames\\TP3\\Ames-TP3-2315_35_11.TIF\n",
      "found  satellite_images\\2023_test\\Ames\\TP1\\Ames-TP1-2315_34_15.TIF\n",
      "found  satellite_images\\2023_test\\Ames\\TP2\\Ames-TP2-2315_34_15.TIF\n",
      "found  satellite_images\\2023_test\\Ames\\TP3\\Ames-TP3-2315_34_15.TIF\n",
      "found  satellite_images\\2023_test\\Ames\\TP1\\Ames-TP1-2315_30_13.TIF\n"
     ]
    },
    {
     "name": "stderr",
     "output_type": "stream",
     "text": [
      "86it [00:02, 30.67it/s]"
     ]
    },
    {
     "name": "stdout",
     "output_type": "stream",
     "text": [
      "found  satellite_images\\2023_test\\Ames\\TP2\\Ames-TP2-2315_30_13.TIF\n",
      "found  satellite_images\\2023_test\\Ames\\TP3\\Ames-TP3-2315_30_13.TIF\n",
      "found  satellite_images\\2023_test\\Ames\\TP1\\Ames-TP1-2315_41_11.TIF\n",
      "found  satellite_images\\2023_test\\Ames\\TP2\\Ames-TP2-2315_41_11.TIF\n",
      "found  satellite_images\\2023_test\\Ames\\TP3\\Ames-TP3-2315_41_11.TIF\n",
      "found  satellite_images\\2023_test\\Ames\\TP1\\Ames-TP1-2325_15_37.TIF\n",
      "found  satellite_images\\2023_test\\Ames\\TP2\\Ames-TP2-2325_15_37.TIF\n",
      "found  satellite_images\\2023_test\\Ames\\TP3\\Ames-TP3-2325_15_37.TIF\n",
      "found  satellite_images\\2023_test\\Ames\\TP1\\Ames-TP1-2325_13_31.TIF\n",
      "found  satellite_images\\2023_test\\Ames\\TP2\\Ames-TP2-2325_13_31.TIF\n",
      "found  satellite_images\\2023_test\\Ames\\TP3\\Ames-TP3-2325_13_31.TIF\n",
      "found  satellite_images\\2023_test\\Ames\\TP1\\Ames-TP1-2325_14_41.TIF\n",
      "found  satellite_images\\2023_test\\Ames\\TP2\\Ames-TP2-2325_14_41.TIF\n",
      "found  satellite_images\\2023_test\\Ames\\TP3\\Ames-TP3-2325_14_41.TIF\n",
      "found  satellite_images\\2023_test\\Ames\\TP1\\Ames-TP1-2325_10_31.TIF\n",
      "found  satellite_images\\2023_test\\Ames\\TP2\\Ames-TP2-2325_10_31.TIF\n",
      "found  satellite_images\\2023_test\\Ames\\TP3\\Ames-TP3-2325_10_31.TIF\n",
      "found  satellite_images\\2023_test\\Ames\\TP1\\Ames-TP1-2325_11_35.TIF\n",
      "found  satellite_images\\2023_test\\Ames\\TP2\\Ames-TP2-2325_11_35.TIF\n",
      "found  satellite_images\\2023_test\\Ames\\TP3\\Ames-TP3-2325_11_35.TIF\n",
      "found  satellite_images\\2023_test\\Ames\\TP1\\Ames-TP1-2325_8_41.TIF\n",
      "found  satellite_images\\2023_test\\Ames\\TP2\\Ames-TP2-2325_8_41.TIF\n",
      "found  satellite_images\\2023_test\\Ames\\TP3\\Ames-TP3-2325_8_41.TIF\n"
     ]
    },
    {
     "name": "stderr",
     "output_type": "stream",
     "text": [
      "95it [00:03, 32.34it/s]"
     ]
    },
    {
     "name": "stdout",
     "output_type": "stream",
     "text": [
      "found  satellite_images\\2023_test\\Ames\\TP1\\Ames-TP1-2325_21_35.TIF\n",
      "found  satellite_images\\2023_test\\Ames\\TP2\\Ames-TP2-2325_21_35.TIF\n",
      "found  satellite_images\\2023_test\\Ames\\TP3\\Ames-TP3-2325_21_35.TIF\n",
      "found  satellite_images\\2023_test\\Ames\\TP1\\Ames-TP1-2325_15_41.TIF\n",
      "found  satellite_images\\2023_test\\Ames\\TP2\\Ames-TP2-2325_15_41.TIF\n",
      "found  satellite_images\\2023_test\\Ames\\TP3\\Ames-TP3-2325_15_41.TIF\n",
      "found  satellite_images\\2023_test\\Ames\\TP1\\Ames-TP1-2325_3_33.TIF\n",
      "found  satellite_images\\2023_test\\Ames\\TP2\\Ames-TP2-2325_3_33.TIF\n",
      "found  satellite_images\\2023_test\\Ames\\TP3\\Ames-TP3-2325_3_33.TIF\n",
      "found  satellite_images\\2023_test\\Ames\\TP1\\Ames-TP1-2325_15_35.TIF\n",
      "found  satellite_images\\2023_test\\Ames\\TP2\\Ames-TP2-2325_15_35.TIF\n",
      "found  satellite_images\\2023_test\\Ames\\TP3\\Ames-TP3-2325_15_35.TIF\n",
      "found  satellite_images\\2023_test\\Ames\\TP1\\Ames-TP1-2325_21_33.TIF\n",
      "found  satellite_images\\2023_test\\Ames\\TP2\\Ames-TP2-2325_21_33.TIF\n",
      "found  satellite_images\\2023_test\\Ames\\TP3\\Ames-TP3-2325_21_33.TIF\n",
      "found  satellite_images\\2023_test\\Ames\\TP1\\Ames-TP1-2325_11_37.TIF\n",
      "found  satellite_images\\2023_test\\Ames\\TP2\\Ames-TP2-2325_11_37.TIF\n",
      "found  satellite_images\\2023_test\\Ames\\TP3\\Ames-TP3-2325_11_37.TIF\n",
      "found  satellite_images\\2023_test\\Ames\\TP1\\Ames-TP1-2325_14_39.TIF\n",
      "found  satellite_images\\2023_test\\Ames\\TP2\\Ames-TP2-2325_14_39.TIF\n"
     ]
    },
    {
     "name": "stderr",
     "output_type": "stream",
     "text": [
      "103it [00:03, 32.35it/s]"
     ]
    },
    {
     "name": "stdout",
     "output_type": "stream",
     "text": [
      "found  satellite_images\\2023_test\\Ames\\TP3\\Ames-TP3-2325_14_39.TIF\n",
      "found  satellite_images\\2023_test\\Ames\\TP1\\Ames-TP1-2325_21_39.TIF\n",
      "found  satellite_images\\2023_test\\Ames\\TP2\\Ames-TP2-2325_21_39.TIF\n",
      "found  satellite_images\\2023_test\\Ames\\TP3\\Ames-TP3-2325_21_39.TIF\n",
      "found  satellite_images\\2023_test\\Ames\\TP1\\Ames-TP1-2325_12_35.TIF\n",
      "found  satellite_images\\2023_test\\Ames\\TP2\\Ames-TP2-2325_12_35.TIF\n",
      "found  satellite_images\\2023_test\\Ames\\TP3\\Ames-TP3-2325_12_35.TIF\n",
      "found  satellite_images\\2023_test\\Ames\\TP1\\Ames-TP1-2325_22_35.TIF\n",
      "found  satellite_images\\2023_test\\Ames\\TP2\\Ames-TP2-2325_22_35.TIF\n",
      "found  satellite_images\\2023_test\\Ames\\TP3\\Ames-TP3-2325_22_35.TIF\n",
      "found  satellite_images\\2023_test\\Ames\\TP1\\Ames-TP1-2325_6_39.TIF\n",
      "found  satellite_images\\2023_test\\Ames\\TP2\\Ames-TP2-2325_6_39.TIF\n",
      "found  satellite_images\\2023_test\\Ames\\TP3\\Ames-TP3-2325_6_39.TIF\n",
      "found  satellite_images\\2023_test\\Ames\\TP1\\Ames-TP1-2325_12_31.TIF\n",
      "found  satellite_images\\2023_test\\Ames\\TP2\\Ames-TP2-2325_12_31.TIF\n",
      "found  satellite_images\\2023_test\\Ames\\TP3\\Ames-TP3-2325_12_31.TIF\n",
      "found  satellite_images\\2023_test\\Ames\\TP1\\Ames-TP1-2325_15_33.TIF\n",
      "found  satellite_images\\2023_test\\Ames\\TP2\\Ames-TP2-2325_15_33.TIF\n",
      "found  satellite_images\\2023_test\\Ames\\TP3\\Ames-TP3-2325_15_33.TIF\n"
     ]
    },
    {
     "name": "stderr",
     "output_type": "stream",
     "text": [
      "107it [00:03, 33.24it/s]"
     ]
    },
    {
     "name": "stdout",
     "output_type": "stream",
     "text": [
      "found  satellite_images\\2023_test\\Ames\\TP1\\Ames-TP1-2325_9_33.TIF\n",
      "found  satellite_images\\2023_test\\Ames\\TP2\\Ames-TP2-2325_9_33.TIF\n",
      "found  satellite_images\\2023_test\\Ames\\TP3\\Ames-TP3-2325_9_33.TIF\n",
      "found  satellite_images\\2023_test\\Ames\\TP1\\Ames-TP1-2325_14_37.TIF\n",
      "found  satellite_images\\2023_test\\Ames\\TP2\\Ames-TP2-2325_14_37.TIF\n",
      "found  satellite_images\\2023_test\\Ames\\TP3\\Ames-TP3-2325_14_37.TIF\n",
      "found  satellite_images\\2023_test\\Ames\\TP1\\Ames-TP1-2325_15_39.TIF\n",
      "found  satellite_images\\2023_test\\Ames\\TP2\\Ames-TP2-2325_15_39.TIF\n",
      "found  satellite_images\\2023_test\\Ames\\TP3\\Ames-TP3-2325_15_39.TIF\n",
      "found  satellite_images\\2023_test\\Ames\\TP1\\Ames-TP1-2325_14_31.TIF\n",
      "found  satellite_images\\2023_test\\Ames\\TP2\\Ames-TP2-2325_14_31.TIF\n",
      "found  satellite_images\\2023_test\\Ames\\TP3\\Ames-TP3-2325_14_31.TIF\n",
      "found  satellite_images\\2023_test\\Ames\\TP1\\Ames-TP1-2325_13_39.TIF\n",
      "found  satellite_images\\2023_test\\Ames\\TP2\\Ames-TP2-2325_13_39.TIF\n",
      "found  satellite_images\\2023_test\\Ames\\TP3\\Ames-TP3-2325_13_39.TIF\n",
      "found  satellite_images\\2023_test\\Ames\\TP1\\Ames-TP1-2325_6_35.TIF\n",
      "found  satellite_images\\2023_test\\Ames\\TP2\\Ames-TP2-2325_6_35.TIF\n",
      "found  satellite_images\\2023_test\\Ames\\TP3\\Ames-TP3-2325_6_35.TIF\n",
      "found  satellite_images\\2023_test\\Ames\\TP1\\Ames-TP1-2325_14_33.TIF\n",
      "found  satellite_images\\2023_test\\Ames\\TP2\\Ames-TP2-2325_14_33.TIF\n",
      "found  satellite_images\\2023_test\\Ames\\TP3\\Ames-TP3-2325_14_33.TIF\n"
     ]
    },
    {
     "name": "stderr",
     "output_type": "stream",
     "text": [
      "115it [00:03, 33.82it/s]"
     ]
    },
    {
     "name": "stdout",
     "output_type": "stream",
     "text": [
      "found  satellite_images\\2023_test\\Ames\\TP1\\Ames-TP1-2325_19_31.TIF\n",
      "found  satellite_images\\2023_test\\Ames\\TP2\\Ames-TP2-2325_19_31.TIF\n",
      "found  satellite_images\\2023_test\\Ames\\TP3\\Ames-TP3-2325_19_31.TIF\n",
      "found  satellite_images\\2023_test\\Ames\\TP1\\Ames-TP1-2325_20_31.TIF\n",
      "found  satellite_images\\2023_test\\Ames\\TP2\\Ames-TP2-2325_20_31.TIF\n",
      "found  satellite_images\\2023_test\\Ames\\TP3\\Ames-TP3-2325_20_31.TIF\n",
      "found  satellite_images\\2023_test\\Ames\\TP1\\Ames-TP1-2325_8_37.TIF\n",
      "found  satellite_images\\2023_test\\Ames\\TP2\\Ames-TP2-2325_8_37.TIF\n",
      "found  satellite_images\\2023_test\\Ames\\TP3\\Ames-TP3-2325_8_37.TIF\n",
      "found  satellite_images\\2023_test\\Ames\\TP1\\Ames-TP1-2325_9_39.TIF\n",
      "found  satellite_images\\2023_test\\Ames\\TP2\\Ames-TP2-2325_9_39.TIF\n",
      "found  satellite_images\\2023_test\\Ames\\TP3\\Ames-TP3-2325_9_39.TIF\n",
      "found  satellite_images\\2023_test\\Ames\\TP1\\Ames-TP1-2325_4_31.TIF\n",
      "found  satellite_images\\2023_test\\Ames\\TP2\\Ames-TP2-2325_4_31.TIF\n",
      "found  satellite_images\\2023_test\\Ames\\TP3\\Ames-TP3-2325_4_31.TIF\n",
      "found  satellite_images\\2023_test\\Ames\\TP1\\Ames-TP1-2325_6_31.TIF\n",
      "found  satellite_images\\2023_test\\Ames\\TP2\\Ames-TP2-2325_6_31.TIF\n",
      "found  satellite_images\\2023_test\\Ames\\TP3\\Ames-TP3-2325_6_31.TIF\n",
      "found  satellite_images\\2023_test\\Ames\\TP1\\Ames-TP1-2325_7_39.TIF\n",
      "found  satellite_images\\2023_test\\Ames\\TP2\\Ames-TP2-2325_7_39.TIF\n",
      "found  satellite_images\\2023_test\\Ames\\TP3\\Ames-TP3-2325_7_39.TIF\n"
     ]
    },
    {
     "name": "stderr",
     "output_type": "stream",
     "text": [
      "119it [00:03, 33.94it/s]"
     ]
    },
    {
     "name": "stdout",
     "output_type": "stream",
     "text": [
      "found  satellite_images\\2023_test\\Ames\\TP1\\Ames-TP1-2325_8_33.TIF\n",
      "found  satellite_images\\2023_test\\Ames\\TP2\\Ames-TP2-2325_8_33.TIF\n",
      "found  satellite_images\\2023_test\\Ames\\TP3\\Ames-TP3-2325_8_33.TIF\n",
      "found  satellite_images\\2023_test\\Ames\\TP1\\Ames-TP1-2325_2_33.TIF\n",
      "found  satellite_images\\2023_test\\Ames\\TP2\\Ames-TP2-2325_2_33.TIF\n",
      "found  satellite_images\\2023_test\\Ames\\TP3\\Ames-TP3-2325_2_33.TIF\n",
      "found  satellite_images\\2023_test\\Ames\\TP1\\Ames-TP1-2325_12_39.TIF\n",
      "found  satellite_images\\2023_test\\Ames\\TP2\\Ames-TP2-2325_12_39.TIF\n",
      "found  satellite_images\\2023_test\\Ames\\TP3\\Ames-TP3-2325_12_39.TIF\n",
      "found  satellite_images\\2023_test\\Ames\\TP1\\Ames-TP1-2325_20_41.TIF\n",
      "found  satellite_images\\2023_test\\Ames\\TP2\\Ames-TP2-2325_20_41.TIF\n",
      "found  satellite_images\\2023_test\\Ames\\TP3\\Ames-TP3-2325_20_41.TIF\n",
      "found  satellite_images\\2023_test\\Ames\\TP1\\Ames-TP1-2325_4_39.TIF\n",
      "found  satellite_images\\2023_test\\Ames\\TP2\\Ames-TP2-2325_4_39.TIF\n",
      "found  satellite_images\\2023_test\\Ames\\TP3\\Ames-TP3-2325_4_39.TIF\n",
      "found  satellite_images\\2023_test\\Ames\\TP1\\Ames-TP1-2325_9_41.TIF\n",
      "found  satellite_images\\2023_test\\Ames\\TP2\\Ames-TP2-2325_9_41.TIF\n"
     ]
    },
    {
     "name": "stderr",
     "output_type": "stream",
     "text": [
      "127it [00:04, 31.11it/s]"
     ]
    },
    {
     "name": "stdout",
     "output_type": "stream",
     "text": [
      "found  satellite_images\\2023_test\\Ames\\TP3\\Ames-TP3-2325_9_41.TIF\n",
      "found  satellite_images\\2023_test\\Ames\\TP1\\Ames-TP1-2325_3_31.TIF\n",
      "found  satellite_images\\2023_test\\Ames\\TP2\\Ames-TP2-2325_3_31.TIF\n",
      "found  satellite_images\\2023_test\\Ames\\TP3\\Ames-TP3-2325_3_31.TIF\n",
      "found  satellite_images\\2023_test\\Ames\\TP1\\Ames-TP1-2325_17_35.TIF\n",
      "found  satellite_images\\2023_test\\Ames\\TP2\\Ames-TP2-2325_17_35.TIF\n",
      "found  satellite_images\\2023_test\\Ames\\TP3\\Ames-TP3-2325_17_35.TIF\n",
      "found  satellite_images\\2023_test\\Ames\\TP1\\Ames-TP1-2325_18_33.TIF\n",
      "found  satellite_images\\2023_test\\Ames\\TP2\\Ames-TP2-2325_18_33.TIF\n",
      "found  satellite_images\\2023_test\\Ames\\TP3\\Ames-TP3-2325_18_33.TIF\n",
      "found  satellite_images\\2023_test\\Ames\\TP1\\Ames-TP1-2325_13_33.TIF\n",
      "found  satellite_images\\2023_test\\Ames\\TP2\\Ames-TP2-2325_13_33.TIF\n",
      "found  satellite_images\\2023_test\\Ames\\TP3\\Ames-TP3-2325_13_33.TIF\n",
      "found  satellite_images\\2023_test\\Ames\\TP1\\Ames-TP1-2325_20_35.TIF\n",
      "found  satellite_images\\2023_test\\Ames\\TP2\\Ames-TP2-2325_20_35.TIF\n",
      "found  satellite_images\\2023_test\\Ames\\TP3\\Ames-TP3-2325_20_35.TIF\n",
      "found  satellite_images\\2023_test\\Ames\\TP1\\Ames-TP1-2325_17_37.TIF\n",
      "found  satellite_images\\2023_test\\Ames\\TP2\\Ames-TP2-2325_17_37.TIF\n",
      "found  satellite_images\\2023_test\\Ames\\TP3\\Ames-TP3-2325_17_37.TIF\n"
     ]
    },
    {
     "name": "stderr",
     "output_type": "stream",
     "text": [
      "135it [00:04, 30.78it/s]"
     ]
    },
    {
     "name": "stdout",
     "output_type": "stream",
     "text": [
      "found  satellite_images\\2023_test\\Ames\\TP1\\Ames-TP1-2325_4_35.TIF\n",
      "found  satellite_images\\2023_test\\Ames\\TP2\\Ames-TP2-2325_4_35.TIF\n",
      "found  satellite_images\\2023_test\\Ames\\TP3\\Ames-TP3-2325_4_35.TIF\n",
      "found  satellite_images\\2023_test\\Ames\\TP1\\Ames-TP1-2325_5_41.TIF\n",
      "found  satellite_images\\2023_test\\Ames\\TP2\\Ames-TP2-2325_5_41.TIF\n",
      "found  satellite_images\\2023_test\\Ames\\TP3\\Ames-TP3-2325_5_41.TIF\n",
      "found  satellite_images\\2023_test\\Ames\\TP1\\Ames-TP1-2325_16_35.TIF\n",
      "found  satellite_images\\2023_test\\Ames\\TP2\\Ames-TP2-2325_16_35.TIF\n",
      "found  satellite_images\\2023_test\\Ames\\TP3\\Ames-TP3-2325_16_35.TIF\n",
      "found  satellite_images\\2023_test\\Ames\\TP1\\Ames-TP1-2325_18_39.TIF\n",
      "found  satellite_images\\2023_test\\Ames\\TP2\\Ames-TP2-2325_18_39.TIF\n",
      "found  satellite_images\\2023_test\\Ames\\TP3\\Ames-TP3-2325_18_39.TIF\n",
      "found  satellite_images\\2023_test\\Ames\\TP1\\Ames-TP1-2325_19_41.TIF\n",
      "found  satellite_images\\2023_test\\Ames\\TP2\\Ames-TP2-2325_19_41.TIF\n",
      "found  satellite_images\\2023_test\\Ames\\TP3\\Ames-TP3-2325_19_41.TIF\n",
      "found  satellite_images\\2023_test\\Ames\\TP1\\Ames-TP1-2325_11_39.TIF\n",
      "found  satellite_images\\2023_test\\Ames\\TP2\\Ames-TP2-2325_11_39.TIF\n",
      "found  satellite_images\\2023_test\\Ames\\TP3\\Ames-TP3-2325_11_39.TIF\n"
     ]
    },
    {
     "name": "stderr",
     "output_type": "stream",
     "text": [
      "139it [00:04, 28.31it/s]"
     ]
    },
    {
     "name": "stdout",
     "output_type": "stream",
     "text": [
      "found  satellite_images\\2023_test\\Ames\\TP1\\Ames-TP1-2325_14_35.TIF\n",
      "found  satellite_images\\2023_test\\Ames\\TP2\\Ames-TP2-2325_14_35.TIF\n",
      "found  satellite_images\\2023_test\\Ames\\TP3\\Ames-TP3-2325_14_35.TIF\n",
      "found  satellite_images\\2023_test\\Ames\\TP1\\Ames-TP1-2325_7_37.TIF\n",
      "found  satellite_images\\2023_test\\Ames\\TP2\\Ames-TP2-2325_7_37.TIF\n",
      "found  satellite_images\\2023_test\\Ames\\TP3\\Ames-TP3-2325_7_37.TIF\n",
      "found  satellite_images\\2023_test\\Ames\\TP1\\Ames-TP1-2325_21_37.TIF\n",
      "found  satellite_images\\2023_test\\Ames\\TP2\\Ames-TP2-2325_21_37.TIF\n",
      "found  satellite_images\\2023_test\\Ames\\TP3\\Ames-TP3-2325_21_37.TIF\n",
      "found  satellite_images\\2023_test\\Ames\\TP1\\Ames-TP1-2325_12_37.TIF\n",
      "found  satellite_images\\2023_test\\Ames\\TP2\\Ames-TP2-2325_12_37.TIF\n",
      "found  satellite_images\\2023_test\\Ames\\TP3\\Ames-TP3-2325_12_37.TIF\n",
      "found  satellite_images\\2023_test\\Ames\\TP1\\Ames-TP1-2325_4_41.TIF\n",
      "found  satellite_images\\2023_test\\Ames\\TP2\\Ames-TP2-2325_4_41.TIF\n",
      "found  satellite_images\\2023_test\\Ames\\TP3\\Ames-TP3-2325_4_41.TIF\n",
      "found  satellite_images\\2023_test\\Ames\\TP1\\Ames-TP1-2325_19_35.TIF\n"
     ]
    },
    {
     "name": "stderr",
     "output_type": "stream",
     "text": [
      "143it [00:04, 29.15it/s]"
     ]
    },
    {
     "name": "stdout",
     "output_type": "stream",
     "text": [
      "found  satellite_images\\2023_test\\Ames\\TP2\\Ames-TP2-2325_19_35.TIF\n",
      "found  satellite_images\\2023_test\\Ames\\TP3\\Ames-TP3-2325_19_35.TIF\n",
      "found  satellite_images\\2023_test\\Ames\\TP1\\Ames-TP1-2325_10_35.TIF\n",
      "found  satellite_images\\2023_test\\Ames\\TP2\\Ames-TP2-2325_10_35.TIF\n",
      "found  satellite_images\\2023_test\\Ames\\TP3\\Ames-TP3-2325_10_35.TIF\n",
      "found  satellite_images\\2023_test\\Ames\\TP1\\Ames-TP1-2325_11_33.TIF\n",
      "found  satellite_images\\2023_test\\Ames\\TP2\\Ames-TP2-2325_11_33.TIF\n",
      "found  satellite_images\\2023_test\\Ames\\TP3\\Ames-TP3-2325_11_33.TIF\n",
      "found  satellite_images\\2023_test\\Ames\\TP1\\Ames-TP1-2325_11_31.TIF\n",
      "found  satellite_images\\2023_test\\Ames\\TP2\\Ames-TP2-2325_11_31.TIF\n",
      "found  satellite_images\\2023_test\\Ames\\TP3\\Ames-TP3-2325_11_31.TIF\n",
      "found  satellite_images\\2023_test\\Ames\\TP1\\Ames-TP1-2325_38_37.TIF\n",
      "found  satellite_images\\2023_test\\Ames\\TP2\\Ames-TP2-2325_38_37.TIF\n",
      "found  satellite_images\\2023_test\\Ames\\TP3\\Ames-TP3-2325_38_37.TIF\n",
      "found  satellite_images\\2023_test\\Ames\\TP1\\Ames-TP1-2325_24_31.TIF\n",
      "found  satellite_images\\2023_test\\Ames\\TP2\\Ames-TP2-2325_24_31.TIF\n",
      "found  satellite_images\\2023_test\\Ames\\TP3\\Ames-TP3-2325_24_31.TIF\n",
      "found  satellite_images\\2023_test\\Ames\\TP1\\Ames-TP1-2325_43_37.TIF\n",
      "found  satellite_images\\2023_test\\Ames\\TP2\\Ames-TP2-2325_43_37.TIF\n",
      "found  satellite_images\\2023_test\\Ames\\TP3\\Ames-TP3-2325_43_37.TIF\n"
     ]
    },
    {
     "name": "stderr",
     "output_type": "stream",
     "text": [
      "151it [00:04, 30.25it/s]"
     ]
    },
    {
     "name": "stdout",
     "output_type": "stream",
     "text": [
      "found  satellite_images\\2023_test\\Ames\\TP1\\Ames-TP1-2325_39_39.TIF\n",
      "found  satellite_images\\2023_test\\Ames\\TP2\\Ames-TP2-2325_39_39.TIF\n",
      "found  satellite_images\\2023_test\\Ames\\TP3\\Ames-TP3-2325_39_39.TIF\n",
      "found  satellite_images\\2023_test\\Ames\\TP1\\Ames-TP1-2325_30_37.TIF\n",
      "found  satellite_images\\2023_test\\Ames\\TP2\\Ames-TP2-2325_30_37.TIF\n",
      "found  satellite_images\\2023_test\\Ames\\TP3\\Ames-TP3-2325_30_37.TIF\n",
      "found  satellite_images\\2023_test\\Ames\\TP1\\Ames-TP1-2325_32_33.TIF\n",
      "found  satellite_images\\2023_test\\Ames\\TP2\\Ames-TP2-2325_32_33.TIF\n",
      "found  satellite_images\\2023_test\\Ames\\TP3\\Ames-TP3-2325_32_33.TIF\n",
      "found  satellite_images\\2023_test\\Ames\\TP1\\Ames-TP1-2325_35_31.TIF\n",
      "found  satellite_images\\2023_test\\Ames\\TP2\\Ames-TP2-2325_35_31.TIF\n",
      "found  satellite_images\\2023_test\\Ames\\TP3\\Ames-TP3-2325_35_31.TIF\n",
      "found  satellite_images\\2023_test\\Ames\\TP1\\Ames-TP1-2325_32_41.TIF\n",
      "found  satellite_images\\2023_test\\Ames\\TP2\\Ames-TP2-2325_32_41.TIF\n",
      "found  satellite_images\\2023_test\\Ames\\TP3\\Ames-TP3-2325_32_41.TIF\n"
     ]
    },
    {
     "name": "stderr",
     "output_type": "stream",
     "text": [
      "158it [00:05, 27.68it/s]"
     ]
    },
    {
     "name": "stdout",
     "output_type": "stream",
     "text": [
      "found  satellite_images\\2023_test\\Ames\\TP1\\Ames-TP1-2325_33_31.TIF\n",
      "found  satellite_images\\2023_test\\Ames\\TP2\\Ames-TP2-2325_33_31.TIF\n",
      "found  satellite_images\\2023_test\\Ames\\TP3\\Ames-TP3-2325_33_31.TIF\n",
      "found  satellite_images\\2023_test\\Ames\\TP1\\Ames-TP1-2325_28_37.TIF\n",
      "found  satellite_images\\2023_test\\Ames\\TP2\\Ames-TP2-2325_28_37.TIF\n",
      "found  satellite_images\\2023_test\\Ames\\TP3\\Ames-TP3-2325_28_37.TIF\n",
      "found  satellite_images\\2023_test\\Ames\\TP1\\Ames-TP1-2325_35_35.TIF\n",
      "found  satellite_images\\2023_test\\Ames\\TP2\\Ames-TP2-2325_35_35.TIF\n",
      "found  satellite_images\\2023_test\\Ames\\TP3\\Ames-TP3-2325_35_35.TIF\n",
      "found  satellite_images\\2023_test\\Ames\\TP1\\Ames-TP1-2325_30_31.TIF\n",
      "found  satellite_images\\2023_test\\Ames\\TP2\\Ames-TP2-2325_30_31.TIF\n",
      "found  satellite_images\\2023_test\\Ames\\TP3\\Ames-TP3-2325_30_31.TIF\n",
      "found  satellite_images\\2023_test\\Ames\\TP1\\Ames-TP1-2325_31_41.TIF\n",
      "found  satellite_images\\2023_test\\Ames\\TP2\\Ames-TP2-2325_31_41.TIF\n",
      "found  satellite_images\\2023_test\\Ames\\TP3\\Ames-TP3-2325_31_41.TIF\n",
      "found  satellite_images\\2023_test\\Ames\\TP1\\Ames-TP1-2325_34_37.TIF\n",
      "found  satellite_images\\2023_test\\Ames\\TP2\\Ames-TP2-2325_34_37.TIF\n",
      "found  satellite_images\\2023_test\\Ames\\TP3\\Ames-TP3-2325_34_37.TIF\n"
     ]
    },
    {
     "name": "stderr",
     "output_type": "stream",
     "text": [
      "161it [00:05, 27.60it/s]"
     ]
    },
    {
     "name": "stdout",
     "output_type": "stream",
     "text": [
      "found  satellite_images\\2023_test\\Ames\\TP1\\Ames-TP1-2325_42_35.TIF\n",
      "found  satellite_images\\2023_test\\Ames\\TP2\\Ames-TP2-2325_42_35.TIF\n",
      "found  satellite_images\\2023_test\\Ames\\TP3\\Ames-TP3-2325_42_35.TIF\n",
      "found  satellite_images\\2023_test\\Ames\\TP1\\Ames-TP1-2325_27_37.TIF\n",
      "found  satellite_images\\2023_test\\Ames\\TP2\\Ames-TP2-2325_27_37.TIF\n",
      "found  satellite_images\\2023_test\\Ames\\TP3\\Ames-TP3-2325_27_37.TIF\n",
      "found  satellite_images\\2023_test\\Ames\\TP1\\Ames-TP1-2325_42_41.TIF\n",
      "found  satellite_images\\2023_test\\Ames\\TP2\\Ames-TP2-2325_42_41.TIF\n",
      "found  satellite_images\\2023_test\\Ames\\TP3\\Ames-TP3-2325_42_41.TIF\n",
      "found  satellite_images\\2023_test\\Ames\\TP1\\Ames-TP1-2325_33_41.TIF\n",
      "found  satellite_images\\2023_test\\Ames\\TP2\\Ames-TP2-2325_33_41.TIF\n",
      "found  satellite_images\\2023_test\\Ames\\TP3\\Ames-TP3-2325_33_41.TIF\n",
      "found  satellite_images\\2023_test\\Ames\\TP1\\Ames-TP1-2325_30_41.TIF\n",
      "found  satellite_images\\2023_test\\Ames\\TP2\\Ames-TP2-2325_30_41.TIF\n",
      "found  satellite_images\\2023_test\\Ames\\TP3\\Ames-TP3-2325_30_41.TIF\n",
      "found  satellite_images\\2023_test\\Ames\\TP1\\Ames-TP1-2325_28_41.TIF\n",
      "found  satellite_images\\2023_test\\Ames\\TP2\\Ames-TP2-2325_28_41.TIF\n"
     ]
    },
    {
     "name": "stderr",
     "output_type": "stream",
     "text": [
      "168it [00:05, 28.69it/s]"
     ]
    },
    {
     "name": "stdout",
     "output_type": "stream",
     "text": [
      "found  satellite_images\\2023_test\\Ames\\TP3\\Ames-TP3-2325_28_41.TIF\n",
      "found  satellite_images\\2023_test\\Ames\\TP1\\Ames-TP1-2325_40_39.TIF\n",
      "found  satellite_images\\2023_test\\Ames\\TP2\\Ames-TP2-2325_40_39.TIF\n",
      "found  satellite_images\\2023_test\\Ames\\TP3\\Ames-TP3-2325_40_39.TIF\n",
      "found  satellite_images\\2023_test\\Ames\\TP1\\Ames-TP1-2325_40_37.TIF\n",
      "found  satellite_images\\2023_test\\Ames\\TP2\\Ames-TP2-2325_40_37.TIF\n",
      "found  satellite_images\\2023_test\\Ames\\TP3\\Ames-TP3-2325_40_37.TIF\n",
      "found  satellite_images\\2023_test\\Ames\\TP1\\Ames-TP1-2325_29_31.TIF\n",
      "found  satellite_images\\2023_test\\Ames\\TP2\\Ames-TP2-2325_29_31.TIF\n",
      "found  satellite_images\\2023_test\\Ames\\TP3\\Ames-TP3-2325_29_31.TIF\n",
      "found  satellite_images\\2023_test\\Ames\\TP1\\Ames-TP1-2325_39_37.TIF\n",
      "found  satellite_images\\2023_test\\Ames\\TP2\\Ames-TP2-2325_39_37.TIF\n",
      "found  satellite_images\\2023_test\\Ames\\TP3\\Ames-TP3-2325_39_37.TIF\n",
      "found  satellite_images\\2023_test\\Ames\\TP1\\Ames-TP1-2325_24_41.TIF\n",
      "found  satellite_images\\2023_test\\Ames\\TP2\\Ames-TP2-2325_24_41.TIF\n",
      "found  satellite_images\\2023_test\\Ames\\TP3\\Ames-TP3-2325_24_41.TIF\n",
      "found  satellite_images\\2023_test\\Ames\\TP1\\Ames-TP1-2325_32_37.TIF\n",
      "found  satellite_images\\2023_test\\Ames\\TP2\\Ames-TP2-2325_32_37.TIF\n",
      "found  satellite_images\\2023_test\\Ames\\TP3\\Ames-TP3-2325_32_37.TIF\n",
      "found  satellite_images\\2023_test\\Ames\\TP1\\Ames-TP1-2325_25_37.TIF\n"
     ]
    },
    {
     "name": "stderr",
     "output_type": "stream",
     "text": [
      "176it [00:05, 29.39it/s]"
     ]
    },
    {
     "name": "stdout",
     "output_type": "stream",
     "text": [
      "found  satellite_images\\2023_test\\Ames\\TP2\\Ames-TP2-2325_25_37.TIF\n",
      "found  satellite_images\\2023_test\\Ames\\TP3\\Ames-TP3-2325_25_37.TIF\n",
      "found  satellite_images\\2023_test\\Ames\\TP1\\Ames-TP1-2325_37_31.TIF\n",
      "found  satellite_images\\2023_test\\Ames\\TP2\\Ames-TP2-2325_37_31.TIF\n",
      "found  satellite_images\\2023_test\\Ames\\TP3\\Ames-TP3-2325_37_31.TIF\n",
      "found  satellite_images\\2023_test\\Ames\\TP1\\Ames-TP1-2325_26_35.TIF\n",
      "found  satellite_images\\2023_test\\Ames\\TP2\\Ames-TP2-2325_26_35.TIF\n",
      "found  satellite_images\\2023_test\\Ames\\TP3\\Ames-TP3-2325_26_35.TIF\n",
      "found  satellite_images\\2023_test\\Ames\\TP1\\Ames-TP1-2325_24_35.TIF\n",
      "found  satellite_images\\2023_test\\Ames\\TP2\\Ames-TP2-2325_24_35.TIF\n",
      "found  satellite_images\\2023_test\\Ames\\TP3\\Ames-TP3-2325_24_35.TIF\n",
      "found  satellite_images\\2023_test\\Ames\\TP1\\Ames-TP1-2325_23_31.TIF\n",
      "found  satellite_images\\2023_test\\Ames\\TP2\\Ames-TP2-2325_23_31.TIF\n",
      "found  satellite_images\\2023_test\\Ames\\TP3\\Ames-TP3-2325_23_31.TIF\n",
      "found  satellite_images\\2023_test\\Ames\\TP1\\Ames-TP1-2325_34_39.TIF\n",
      "found  satellite_images\\2023_test\\Ames\\TP2\\Ames-TP2-2325_34_39.TIF\n",
      "found  satellite_images\\2023_test\\Ames\\TP3\\Ames-TP3-2325_34_39.TIF\n"
     ]
    },
    {
     "name": "stderr",
     "output_type": "stream",
     "text": [
      "180it [00:05, 29.48it/s]"
     ]
    },
    {
     "name": "stdout",
     "output_type": "stream",
     "text": [
      "found  satellite_images\\2023_test\\Ames\\TP1\\Ames-TP1-2325_36_33.TIF\n",
      "found  satellite_images\\2023_test\\Ames\\TP2\\Ames-TP2-2325_36_33.TIF\n",
      "found  satellite_images\\2023_test\\Ames\\TP3\\Ames-TP3-2325_36_33.TIF\n",
      "found  satellite_images\\2023_test\\Ames\\TP1\\Ames-TP1-2325_28_39.TIF\n",
      "found  satellite_images\\2023_test\\Ames\\TP2\\Ames-TP2-2325_28_39.TIF\n",
      "found  satellite_images\\2023_test\\Ames\\TP3\\Ames-TP3-2325_28_39.TIF\n",
      "found  satellite_images\\2023_test\\Ames\\TP1\\Ames-TP1-2325_24_33.TIF\n",
      "found  satellite_images\\2023_test\\Ames\\TP2\\Ames-TP2-2325_24_33.TIF\n",
      "found  satellite_images\\2023_test\\Ames\\TP3\\Ames-TP3-2325_24_33.TIF\n",
      "found  satellite_images\\2023_test\\Ames\\TP1\\Ames-TP1-2325_25_31.TIF\n",
      "found  satellite_images\\2023_test\\Ames\\TP2\\Ames-TP2-2325_25_31.TIF\n",
      "found  satellite_images\\2023_test\\Ames\\TP3\\Ames-TP3-2325_25_31.TIF\n",
      "found  satellite_images\\2023_test\\Ames\\TP1\\Ames-TP1-2325_27_41.TIF\n",
      "found  satellite_images\\2023_test\\Ames\\TP2\\Ames-TP2-2325_27_41.TIF\n",
      "found  satellite_images\\2023_test\\Ames\\TP3\\Ames-TP3-2325_27_41.TIF\n",
      "found  satellite_images\\2023_test\\Ames\\TP1\\Ames-TP1-2325_30_39.TIF\n",
      "found  satellite_images\\2023_test\\Ames\\TP2\\Ames-TP2-2325_30_39.TIF\n"
     ]
    },
    {
     "name": "stderr",
     "output_type": "stream",
     "text": [
      "187it [00:06, 29.37it/s]"
     ]
    },
    {
     "name": "stdout",
     "output_type": "stream",
     "text": [
      "found  satellite_images\\2023_test\\Ames\\TP3\\Ames-TP3-2325_30_39.TIF\n",
      "found  satellite_images\\2023_test\\Ames\\TP1\\Ames-TP1-2325_40_41.TIF\n",
      "found  satellite_images\\2023_test\\Ames\\TP2\\Ames-TP2-2325_40_41.TIF\n",
      "found  satellite_images\\2023_test\\Ames\\TP3\\Ames-TP3-2325_40_41.TIF\n",
      "found  satellite_images\\2023_test\\Ames\\TP1\\Ames-TP1-2325_25_35.TIF\n",
      "found  satellite_images\\2023_test\\Ames\\TP2\\Ames-TP2-2325_25_35.TIF\n",
      "found  satellite_images\\2023_test\\Ames\\TP3\\Ames-TP3-2325_25_35.TIF\n",
      "found  satellite_images\\2023_test\\Ames\\TP1\\Ames-TP1-2325_42_39.TIF\n",
      "found  satellite_images\\2023_test\\Ames\\TP2\\Ames-TP2-2325_42_39.TIF\n",
      "found  satellite_images\\2023_test\\Ames\\TP3\\Ames-TP3-2325_42_39.TIF\n",
      "found  satellite_images\\2023_test\\Ames\\TP1\\Ames-TP1-2325_25_39.TIF\n",
      "found  satellite_images\\2023_test\\Ames\\TP2\\Ames-TP2-2325_25_39.TIF\n",
      "found  satellite_images\\2023_test\\Ames\\TP3\\Ames-TP3-2325_25_39.TIF\n",
      "found  satellite_images\\2023_test\\Ames\\TP1\\Ames-TP1-2325_26_31.TIF\n",
      "found  satellite_images\\2023_test\\Ames\\TP2\\Ames-TP2-2325_26_31.TIF\n",
      "found  satellite_images\\2023_test\\Ames\\TP3\\Ames-TP3-2325_26_31.TIF\n",
      "found  satellite_images\\2023_test\\Ames\\TP1\\Ames-TP1-2325_35_33.TIF\n",
      "found  satellite_images\\2023_test\\Ames\\TP2\\Ames-TP2-2325_35_33.TIF\n",
      "found  satellite_images\\2023_test\\Ames\\TP3\\Ames-TP3-2325_35_33.TIF\n"
     ]
    },
    {
     "name": "stderr",
     "output_type": "stream",
     "text": [
      "190it [00:06, 29.51it/s]"
     ]
    },
    {
     "name": "stdout",
     "output_type": "stream",
     "text": [
      "found  satellite_images\\2023_test\\Ames\\TP1\\Ames-TP1-2325_38_35.TIF\n",
      "found  satellite_images\\2023_test\\Ames\\TP2\\Ames-TP2-2325_38_35.TIF\n",
      "found  satellite_images\\2023_test\\Ames\\TP3\\Ames-TP3-2325_38_35.TIF\n",
      "found  satellite_images\\2023_test\\Ames\\TP1\\Ames-TP1-2325_29_37.TIF\n",
      "found  satellite_images\\2023_test\\Ames\\TP2\\Ames-TP2-2325_29_37.TIF\n",
      "found  satellite_images\\2023_test\\Ames\\TP3\\Ames-TP3-2325_29_37.TIF\n",
      "found  satellite_images\\2023_test\\Ames\\TP1\\Ames-TP1-2325_43_41.TIF\n",
      "found  satellite_images\\2023_test\\Ames\\TP2\\Ames-TP2-2325_43_41.TIF\n",
      "found  satellite_images\\2023_test\\Ames\\TP3\\Ames-TP3-2325_43_41.TIF\n",
      "found  satellite_images\\2023_test\\Ames\\TP1\\Ames-TP1-2325_35_39.TIF\n",
      "found  satellite_images\\2023_test\\Ames\\TP2\\Ames-TP2-2325_35_39.TIF\n",
      "found  satellite_images\\2023_test\\Ames\\TP3\\Ames-TP3-2325_35_39.TIF\n",
      "found  satellite_images\\2023_test\\Ames\\TP1\\Ames-TP1-2325_39_33.TIF\n",
      "found  satellite_images\\2023_test\\Ames\\TP2\\Ames-TP2-2325_39_33.TIF\n",
      "found  satellite_images\\2023_test\\Ames\\TP3\\Ames-TP3-2325_39_33.TIF\n",
      "found  satellite_images\\2023_test\\Ames\\TP1\\Ames-TP1-2325_40_31.TIF\n",
      "found  satellite_images\\2023_test\\Ames\\TP2\\Ames-TP2-2325_40_31.TIF\n",
      "found  satellite_images\\2023_test\\Ames\\TP3\\Ames-TP3-2325_40_31.TIF\n"
     ]
    },
    {
     "name": "stderr",
     "output_type": "stream",
     "text": [
      "199it [00:06, 32.11it/s]"
     ]
    },
    {
     "name": "stdout",
     "output_type": "stream",
     "text": [
      "found  satellite_images\\2023_test\\Ames\\TP1\\Ames-TP1-2325_24_39.TIF\n",
      "found  satellite_images\\2023_test\\Ames\\TP2\\Ames-TP2-2325_24_39.TIF\n",
      "found  satellite_images\\2023_test\\Ames\\TP3\\Ames-TP3-2325_24_39.TIF\n",
      "found  satellite_images\\2023_test\\Ames\\TP1\\Ames-TP1-2325_26_33.TIF\n",
      "found  satellite_images\\2023_test\\Ames\\TP2\\Ames-TP2-2325_26_33.TIF\n",
      "found  satellite_images\\2023_test\\Ames\\TP3\\Ames-TP3-2325_26_33.TIF\n",
      "found  satellite_images\\2023_test\\Ames\\TP1\\Ames-TP1-2325_30_33.TIF\n",
      "found  satellite_images\\2023_test\\Ames\\TP2\\Ames-TP2-2325_30_33.TIF\n",
      "found  satellite_images\\2023_test\\Ames\\TP3\\Ames-TP3-2325_30_33.TIF\n",
      "found  satellite_images\\2023_test\\Ames\\TP1\\Ames-TP1-2325_36_31.TIF\n",
      "found  satellite_images\\2023_test\\Ames\\TP2\\Ames-TP2-2325_36_31.TIF\n",
      "found  satellite_images\\2023_test\\Ames\\TP3\\Ames-TP3-2325_36_31.TIF\n",
      "found  satellite_images\\2023_test\\Ames\\TP1\\Ames-TP1-2325_26_37.TIF\n",
      "found  satellite_images\\2023_test\\Ames\\TP2\\Ames-TP2-2325_26_37.TIF\n",
      "found  satellite_images\\2023_test\\Ames\\TP3\\Ames-TP3-2325_26_37.TIF\n",
      "found  satellite_images\\2023_test\\Ames\\TP1\\Ames-TP1-2325_36_37.TIF\n",
      "found  satellite_images\\2023_test\\Ames\\TP2\\Ames-TP2-2325_36_37.TIF\n",
      "found  satellite_images\\2023_test\\Ames\\TP3\\Ames-TP3-2325_36_37.TIF\n",
      "found  satellite_images\\2023_test\\Ames\\TP1\\Ames-TP1-2325_29_35.TIF\n",
      "found  satellite_images\\2023_test\\Ames\\TP2\\Ames-TP2-2325_29_35.TIF\n",
      "found  satellite_images\\2023_test\\Ames\\TP3\\Ames-TP3-2325_29_35.TIF\n"
     ]
    },
    {
     "name": "stderr",
     "output_type": "stream",
     "text": [
      "207it [00:06, 32.53it/s]"
     ]
    },
    {
     "name": "stdout",
     "output_type": "stream",
     "text": [
      "found  satellite_images\\2023_test\\Ames\\TP1\\Ames-TP1-2325_34_33.TIF\n",
      "found  satellite_images\\2023_test\\Ames\\TP2\\Ames-TP2-2325_34_33.TIF\n",
      "found  satellite_images\\2023_test\\Ames\\TP3\\Ames-TP3-2325_34_33.TIF\n",
      "found  satellite_images\\2023_test\\Ames\\TP1\\Ames-TP1-2325_26_39.TIF\n",
      "found  satellite_images\\2023_test\\Ames\\TP2\\Ames-TP2-2325_26_39.TIF\n",
      "found  satellite_images\\2023_test\\Ames\\TP3\\Ames-TP3-2325_26_39.TIF\n",
      "found  satellite_images\\2023_test\\Ames\\TP1\\Ames-TP1-2325_30_35.TIF\n",
      "found  satellite_images\\2023_test\\Ames\\TP2\\Ames-TP2-2325_30_35.TIF\n",
      "found  satellite_images\\2023_test\\Ames\\TP3\\Ames-TP3-2325_30_35.TIF\n",
      "found  satellite_images\\2023_test\\Ames\\TP1\\Ames-TP1-2335_15_57.TIF\n",
      "found  satellite_images\\2023_test\\Ames\\TP2\\Ames-TP2-2335_15_57.TIF\n",
      "found  satellite_images\\2023_test\\Ames\\TP3\\Ames-TP3-2335_15_57.TIF\n",
      "found  satellite_images\\2023_test\\Ames\\TP1\\Ames-TP1-2335_3_55.TIF\n",
      "found  satellite_images\\2023_test\\Ames\\TP2\\Ames-TP2-2335_3_55.TIF\n",
      "found  satellite_images\\2023_test\\Ames\\TP3\\Ames-TP3-2335_3_55.TIF\n",
      "found  satellite_images\\2023_test\\Ames\\TP1\\Ames-TP1-2335_7_55.TIF\n",
      "found  satellite_images\\2023_test\\Ames\\TP2\\Ames-TP2-2335_7_55.TIF\n",
      "found  satellite_images\\2023_test\\Ames\\TP3\\Ames-TP3-2335_7_55.TIF\n"
     ]
    },
    {
     "name": "stderr",
     "output_type": "stream",
     "text": [
      "211it [00:06, 30.90it/s]"
     ]
    },
    {
     "name": "stdout",
     "output_type": "stream",
     "text": [
      "found  satellite_images\\2023_test\\Ames\\TP1\\Ames-TP1-2335_23_59.TIF\n",
      "found  satellite_images\\2023_test\\Ames\\TP2\\Ames-TP2-2335_23_59.TIF\n",
      "found  satellite_images\\2023_test\\Ames\\TP3\\Ames-TP3-2335_23_59.TIF\n",
      "found  satellite_images\\2023_test\\Ames\\TP1\\Ames-TP1-2335_14_57.TIF\n",
      "found  satellite_images\\2023_test\\Ames\\TP2\\Ames-TP2-2335_14_57.TIF\n",
      "found  satellite_images\\2023_test\\Ames\\TP3\\Ames-TP3-2335_14_57.TIF\n",
      "found  satellite_images\\2023_test\\Ames\\TP1\\Ames-TP1-2335_13_57.TIF\n",
      "found  satellite_images\\2023_test\\Ames\\TP2\\Ames-TP2-2335_13_57.TIF\n",
      "found  satellite_images\\2023_test\\Ames\\TP3\\Ames-TP3-2335_13_57.TIF\n",
      "found  satellite_images\\2023_test\\Ames\\TP1\\Ames-TP1-2335_5_61.TIF\n",
      "found  satellite_images\\2023_test\\Ames\\TP2\\Ames-TP2-2335_5_61.TIF\n",
      "found  satellite_images\\2023_test\\Ames\\TP3\\Ames-TP3-2335_5_61.TIF\n",
      "found  satellite_images\\2023_test\\Ames\\TP1\\Ames-TP1-2335_5_55.TIF\n",
      "found  satellite_images\\2023_test\\Ames\\TP2\\Ames-TP2-2335_5_55.TIF\n",
      "found  satellite_images\\2023_test\\Ames\\TP3\\Ames-TP3-2335_5_55.TIF\n",
      "found  satellite_images\\2023_test\\Ames\\TP1\\Ames-TP1-2335_6_57.TIF\n",
      "found  satellite_images\\2023_test\\Ames\\TP2\\Ames-TP2-2335_6_57.TIF\n"
     ]
    },
    {
     "name": "stderr",
     "output_type": "stream",
     "text": [
      "219it [00:07, 31.06it/s]"
     ]
    },
    {
     "name": "stdout",
     "output_type": "stream",
     "text": [
      "found  satellite_images\\2023_test\\Ames\\TP3\\Ames-TP3-2335_6_57.TIF\n",
      "found  satellite_images\\2023_test\\Ames\\TP1\\Ames-TP1-2335_23_57.TIF\n",
      "found  satellite_images\\2023_test\\Ames\\TP2\\Ames-TP2-2335_23_57.TIF\n",
      "found  satellite_images\\2023_test\\Ames\\TP3\\Ames-TP3-2335_23_57.TIF\n",
      "found  satellite_images\\2023_test\\Ames\\TP1\\Ames-TP1-2335_3_61.TIF\n",
      "found  satellite_images\\2023_test\\Ames\\TP2\\Ames-TP2-2335_3_61.TIF\n",
      "found  satellite_images\\2023_test\\Ames\\TP3\\Ames-TP3-2335_3_61.TIF\n",
      "found  satellite_images\\2023_test\\Ames\\TP1\\Ames-TP1-2335_7_59.TIF\n",
      "found  satellite_images\\2023_test\\Ames\\TP2\\Ames-TP2-2335_7_59.TIF\n",
      "found  satellite_images\\2023_test\\Ames\\TP3\\Ames-TP3-2335_7_59.TIF\n",
      "found  satellite_images\\2023_test\\Ames\\TP1\\Ames-TP1-2335_23_61.TIF\n",
      "found  satellite_images\\2023_test\\Ames\\TP2\\Ames-TP2-2335_23_61.TIF\n",
      "found  satellite_images\\2023_test\\Ames\\TP3\\Ames-TP3-2335_23_61.TIF\n",
      "found  satellite_images\\2023_test\\Ames\\TP1\\Ames-TP1-2335_17_57.TIF\n",
      "found  satellite_images\\2023_test\\Ames\\TP2\\Ames-TP2-2335_17_57.TIF\n",
      "found  satellite_images\\2023_test\\Ames\\TP3\\Ames-TP3-2335_17_57.TIF\n",
      "found  satellite_images\\2023_test\\Ames\\TP1\\Ames-TP1-2335_10_57.TIF\n",
      "found  satellite_images\\2023_test\\Ames\\TP2\\Ames-TP2-2335_10_57.TIF\n",
      "found  satellite_images\\2023_test\\Ames\\TP3\\Ames-TP3-2335_10_57.TIF\n"
     ]
    },
    {
     "name": "stderr",
     "output_type": "stream",
     "text": [
      "223it [00:07, 30.22it/s]"
     ]
    },
    {
     "name": "stdout",
     "output_type": "stream",
     "text": [
      "found  satellite_images\\2023_test\\Ames\\TP1\\Ames-TP1-2335_20_57.TIF\n",
      "found  satellite_images\\2023_test\\Ames\\TP2\\Ames-TP2-2335_20_57.TIF\n",
      "found  satellite_images\\2023_test\\Ames\\TP3\\Ames-TP3-2335_20_57.TIF\n",
      "found  satellite_images\\2023_test\\Ames\\TP1\\Ames-TP1-2335_15_59.TIF\n",
      "found  satellite_images\\2023_test\\Ames\\TP2\\Ames-TP2-2335_15_59.TIF\n",
      "found  satellite_images\\2023_test\\Ames\\TP3\\Ames-TP3-2335_15_59.TIF\n",
      "found  satellite_images\\2023_test\\Ames\\TP1\\Ames-TP1-2335_16_55.TIF\n",
      "found  satellite_images\\2023_test\\Ames\\TP2\\Ames-TP2-2335_16_55.TIF\n",
      "found  satellite_images\\2023_test\\Ames\\TP3\\Ames-TP3-2335_16_55.TIF\n",
      "found  satellite_images\\2023_test\\Ames\\TP1\\Ames-TP1-2335_14_61.TIF\n",
      "found  satellite_images\\2023_test\\Ames\\TP2\\Ames-TP2-2335_14_61.TIF\n",
      "found  satellite_images\\2023_test\\Ames\\TP3\\Ames-TP3-2335_14_61.TIF\n",
      "found  satellite_images\\2023_test\\Ames\\TP1\\Ames-TP1-2335_2_61.TIF\n",
      "found  satellite_images\\2023_test\\Ames\\TP2\\Ames-TP2-2335_2_61.TIF\n",
      "found  satellite_images\\2023_test\\Ames\\TP3\\Ames-TP3-2335_2_61.TIF\n",
      "found  satellite_images\\2023_test\\Ames\\TP1\\Ames-TP1-2335_14_59.TIF\n"
     ]
    },
    {
     "name": "stderr",
     "output_type": "stream",
     "text": [
      "231it [00:07, 31.46it/s]"
     ]
    },
    {
     "name": "stdout",
     "output_type": "stream",
     "text": [
      "found  satellite_images\\2023_test\\Ames\\TP2\\Ames-TP2-2335_14_59.TIF\n",
      "found  satellite_images\\2023_test\\Ames\\TP3\\Ames-TP3-2335_14_59.TIF\n",
      "found  satellite_images\\2023_test\\Ames\\TP1\\Ames-TP1-2335_15_61.TIF\n",
      "found  satellite_images\\2023_test\\Ames\\TP2\\Ames-TP2-2335_15_61.TIF\n",
      "found  satellite_images\\2023_test\\Ames\\TP3\\Ames-TP3-2335_15_61.TIF\n",
      "found  satellite_images\\2023_test\\Ames\\TP1\\Ames-TP1-2335_21_55.TIF\n",
      "found  satellite_images\\2023_test\\Ames\\TP2\\Ames-TP2-2335_21_55.TIF\n",
      "found  satellite_images\\2023_test\\Ames\\TP3\\Ames-TP3-2335_21_55.TIF\n",
      "found  satellite_images\\2023_test\\Ames\\TP1\\Ames-TP1-2335_14_55.TIF\n",
      "found  satellite_images\\2023_test\\Ames\\TP2\\Ames-TP2-2335_14_55.TIF\n",
      "found  satellite_images\\2023_test\\Ames\\TP3\\Ames-TP3-2335_14_55.TIF\n",
      "found  satellite_images\\2023_test\\Ames\\TP1\\Ames-TP1-2335_3_59.TIF\n",
      "found  satellite_images\\2023_test\\Ames\\TP2\\Ames-TP2-2335_3_59.TIF\n",
      "found  satellite_images\\2023_test\\Ames\\TP3\\Ames-TP3-2335_3_59.TIF\n",
      "found  satellite_images\\2023_test\\Ames\\TP1\\Ames-TP1-2335_4_59.TIF\n",
      "found  satellite_images\\2023_test\\Ames\\TP2\\Ames-TP2-2335_4_59.TIF\n",
      "found  satellite_images\\2023_test\\Ames\\TP3\\Ames-TP3-2335_4_59.TIF\n",
      "found  satellite_images\\2023_test\\Ames\\TP1\\Ames-TP1-2335_20_55.TIF\n",
      "found  satellite_images\\2023_test\\Ames\\TP2\\Ames-TP2-2335_20_55.TIF\n",
      "found  satellite_images\\2023_test\\Ames\\TP3\\Ames-TP3-2335_20_55.TIF\n",
      "found  satellite_images\\2023_test\\Ames\\TP1\\Ames-TP1-2335_21_61.TIF\n",
      "found  satellite_images\\2023_test\\Ames\\TP2\\Ames-TP2-2335_21_61.TIF\n",
      "found  satellite_images\\2023_test\\Ames\\TP3\\Ames-TP3-2335_21_61.TIF\n"
     ]
    },
    {
     "name": "stderr",
     "output_type": "stream",
     "text": [
      "239it [00:07, 33.42it/s]"
     ]
    },
    {
     "name": "stdout",
     "output_type": "stream",
     "text": [
      "found  satellite_images\\2023_test\\Ames\\TP1\\Ames-TP1-2335_2_59.TIF\n",
      "found  satellite_images\\2023_test\\Ames\\TP2\\Ames-TP2-2335_2_59.TIF\n",
      "found  satellite_images\\2023_test\\Ames\\TP3\\Ames-TP3-2335_2_59.TIF\n",
      "found  satellite_images\\2023_test\\Ames\\TP1\\Ames-TP1-2335_13_59.TIF\n",
      "found  satellite_images\\2023_test\\Ames\\TP2\\Ames-TP2-2335_13_59.TIF\n",
      "found  satellite_images\\2023_test\\Ames\\TP3\\Ames-TP3-2335_13_59.TIF\n",
      "found  satellite_images\\2023_test\\Ames\\TP1\\Ames-TP1-2335_20_61.TIF\n",
      "found  satellite_images\\2023_test\\Ames\\TP2\\Ames-TP2-2335_20_61.TIF\n",
      "found  satellite_images\\2023_test\\Ames\\TP3\\Ames-TP3-2335_20_61.TIF\n",
      "found  satellite_images\\2023_test\\Ames\\TP1\\Ames-TP1-2335_18_57.TIF\n",
      "found  satellite_images\\2023_test\\Ames\\TP2\\Ames-TP2-2335_18_57.TIF\n",
      "found  satellite_images\\2023_test\\Ames\\TP3\\Ames-TP3-2335_18_57.TIF\n",
      "found  satellite_images\\2023_test\\Ames\\TP1\\Ames-TP1-2335_13_61.TIF\n",
      "found  satellite_images\\2023_test\\Ames\\TP2\\Ames-TP2-2335_13_61.TIF\n",
      "found  satellite_images\\2023_test\\Ames\\TP3\\Ames-TP3-2335_13_61.TIF\n",
      "found  satellite_images\\2023_test\\Ames\\TP1\\Ames-TP1-2335_8_59.TIF\n",
      "found  satellite_images\\2023_test\\Ames\\TP2\\Ames-TP2-2335_8_59.TIF\n",
      "found  satellite_images\\2023_test\\Ames\\TP3\\Ames-TP3-2335_8_59.TIF\n",
      "found  satellite_images\\2023_test\\Ames\\TP1\\Ames-TP1-2335_22_59.TIF\n",
      "found  satellite_images\\2023_test\\Ames\\TP2\\Ames-TP2-2335_22_59.TIF\n",
      "found  satellite_images\\2023_test\\Ames\\TP3\\Ames-TP3-2335_22_59.TIF\n",
      "found  satellite_images\\2023_test\\Ames\\TP1\\Ames-TP1-2335_22_57.TIF\n",
      "found  satellite_images\\2023_test\\Ames\\TP2\\Ames-TP2-2335_22_57.TIF\n"
     ]
    },
    {
     "name": "stderr",
     "output_type": "stream",
     "text": [
      "243it [00:07, 32.33it/s]"
     ]
    },
    {
     "name": "stdout",
     "output_type": "stream",
     "text": [
      "found  satellite_images\\2023_test\\Ames\\TP3\\Ames-TP3-2335_22_57.TIF\n",
      "found  satellite_images\\2023_test\\Ames\\TP1\\Ames-TP1-2335_6_61.TIF\n",
      "found  satellite_images\\2023_test\\Ames\\TP2\\Ames-TP2-2335_6_61.TIF\n",
      "found  satellite_images\\2023_test\\Ames\\TP3\\Ames-TP3-2335_6_61.TIF\n",
      "found  satellite_images\\2023_test\\Ames\\TP1\\Ames-TP1-2335_11_57.TIF\n",
      "found  satellite_images\\2023_test\\Ames\\TP2\\Ames-TP2-2335_11_57.TIF\n",
      "found  satellite_images\\2023_test\\Ames\\TP3\\Ames-TP3-2335_11_57.TIF\n",
      "found  satellite_images\\2023_test\\Ames\\TP1\\Ames-TP1-2335_9_59.TIF\n",
      "found  satellite_images\\2023_test\\Ames\\TP2\\Ames-TP2-2335_9_59.TIF\n",
      "found  satellite_images\\2023_test\\Ames\\TP3\\Ames-TP3-2335_9_59.TIF\n",
      "found  satellite_images\\2023_test\\Ames\\TP1\\Ames-TP1-2335_7_61.TIF\n",
      "found  satellite_images\\2023_test\\Ames\\TP2\\Ames-TP2-2335_7_61.TIF\n",
      "found  satellite_images\\2023_test\\Ames\\TP3\\Ames-TP3-2335_7_61.TIF\n",
      "found  satellite_images\\2023_test\\Ames\\TP1\\Ames-TP1-2335_19_55.TIF\n",
      "found  satellite_images\\2023_test\\Ames\\TP2\\Ames-TP2-2335_19_55.TIF\n",
      "found  satellite_images\\2023_test\\Ames\\TP3\\Ames-TP3-2335_19_55.TIF\n",
      "found  satellite_images\\2023_test\\Ames\\TP1\\Ames-TP1-2335_12_55.TIF\n",
      "found  satellite_images\\2023_test\\Ames\\TP2\\Ames-TP2-2335_12_55.TIF\n",
      "found  satellite_images\\2023_test\\Ames\\TP3\\Ames-TP3-2335_12_55.TIF\n",
      "found  satellite_images\\2023_test\\Ames\\TP1\\Ames-TP1-2335_34_59.TIF\n"
     ]
    },
    {
     "name": "stderr",
     "output_type": "stream",
     "text": [
      "251it [00:08, 31.95it/s]"
     ]
    },
    {
     "name": "stdout",
     "output_type": "stream",
     "text": [
      "found  satellite_images\\2023_test\\Ames\\TP2\\Ames-TP2-2335_34_59.TIF\n",
      "found  satellite_images\\2023_test\\Ames\\TP3\\Ames-TP3-2335_34_59.TIF\n",
      "found  satellite_images\\2023_test\\Ames\\TP1\\Ames-TP1-2335_29_61.TIF\n",
      "found  satellite_images\\2023_test\\Ames\\TP2\\Ames-TP2-2335_29_61.TIF\n",
      "found  satellite_images\\2023_test\\Ames\\TP3\\Ames-TP3-2335_29_61.TIF\n",
      "found  satellite_images\\2023_test\\Ames\\TP1\\Ames-TP1-2335_45_61.TIF\n",
      "found  satellite_images\\2023_test\\Ames\\TP2\\Ames-TP2-2335_45_61.TIF\n",
      "found  satellite_images\\2023_test\\Ames\\TP3\\Ames-TP3-2335_45_61.TIF\n",
      "found  satellite_images\\2023_test\\Ames\\TP1\\Ames-TP1-2335_24_57.TIF\n",
      "found  satellite_images\\2023_test\\Ames\\TP2\\Ames-TP2-2335_24_57.TIF\n",
      "found  satellite_images\\2023_test\\Ames\\TP3\\Ames-TP3-2335_24_57.TIF\n",
      "found  satellite_images\\2023_test\\Ames\\TP1\\Ames-TP1-2335_38_61.TIF\n",
      "found  satellite_images\\2023_test\\Ames\\TP2\\Ames-TP2-2335_38_61.TIF\n",
      "found  satellite_images\\2023_test\\Ames\\TP3\\Ames-TP3-2335_38_61.TIF\n",
      "found  satellite_images\\2023_test\\Ames\\TP1\\Ames-TP1-2335_30_61.TIF\n",
      "found  satellite_images\\2023_test\\Ames\\TP2\\Ames-TP2-2335_30_61.TIF\n",
      "found  satellite_images\\2023_test\\Ames\\TP3\\Ames-TP3-2335_30_61.TIF\n",
      "found  satellite_images\\2023_test\\Ames\\TP1\\Ames-TP1-2335_27_61.TIF\n",
      "found  satellite_images\\2023_test\\Ames\\TP2\\Ames-TP2-2335_27_61.TIF\n",
      "found  satellite_images\\2023_test\\Ames\\TP3\\Ames-TP3-2335_27_61.TIF\n"
     ]
    },
    {
     "name": "stderr",
     "output_type": "stream",
     "text": [
      "259it [00:08, 31.78it/s]"
     ]
    },
    {
     "name": "stdout",
     "output_type": "stream",
     "text": [
      "found  satellite_images\\2023_test\\Ames\\TP1\\Ames-TP1-2335_27_55.TIF\n",
      "found  satellite_images\\2023_test\\Ames\\TP2\\Ames-TP2-2335_27_55.TIF\n",
      "found  satellite_images\\2023_test\\Ames\\TP3\\Ames-TP3-2335_27_55.TIF\n",
      "found  satellite_images\\2023_test\\Ames\\TP1\\Ames-TP1-2335_28_57.TIF\n",
      "found  satellite_images\\2023_test\\Ames\\TP2\\Ames-TP2-2335_28_57.TIF\n",
      "found  satellite_images\\2023_test\\Ames\\TP3\\Ames-TP3-2335_28_57.TIF\n",
      "found  satellite_images\\2023_test\\Ames\\TP1\\Ames-TP1-2335_37_61.TIF\n",
      "found  satellite_images\\2023_test\\Ames\\TP2\\Ames-TP2-2335_37_61.TIF\n",
      "found  satellite_images\\2023_test\\Ames\\TP3\\Ames-TP3-2335_37_61.TIF\n",
      "found  satellite_images\\2023_test\\Ames\\TP1\\Ames-TP1-2335_32_55.TIF\n",
      "found  satellite_images\\2023_test\\Ames\\TP2\\Ames-TP2-2335_32_55.TIF\n",
      "found  satellite_images\\2023_test\\Ames\\TP3\\Ames-TP3-2335_32_55.TIF\n",
      "found  satellite_images\\2023_test\\Ames\\TP1\\Ames-TP1-2335_29_59.TIF\n",
      "found  satellite_images\\2023_test\\Ames\\TP2\\Ames-TP2-2335_29_59.TIF\n",
      "found  satellite_images\\2023_test\\Ames\\TP3\\Ames-TP3-2335_29_59.TIF\n",
      "found  satellite_images\\2023_test\\Ames\\TP1\\Ames-TP1-2335_38_59.TIF\n",
      "found  satellite_images\\2023_test\\Ames\\TP2\\Ames-TP2-2335_38_59.TIF\n",
      "found  satellite_images\\2023_test\\Ames\\TP3\\Ames-TP3-2335_38_59.TIF\n"
     ]
    },
    {
     "name": "stderr",
     "output_type": "stream",
     "text": [
      "263it [00:08, 32.50it/s]"
     ]
    },
    {
     "name": "stdout",
     "output_type": "stream",
     "text": [
      "found  satellite_images\\2023_test\\Ames\\TP1\\Ames-TP1-2335_44_59.TIF\n",
      "found  satellite_images\\2023_test\\Ames\\TP2\\Ames-TP2-2335_44_59.TIF\n",
      "found  satellite_images\\2023_test\\Ames\\TP3\\Ames-TP3-2335_44_59.TIF\n",
      "found  satellite_images\\2023_test\\Ames\\TP1\\Ames-TP1-2335_43_61.TIF\n",
      "found  satellite_images\\2023_test\\Ames\\TP2\\Ames-TP2-2335_43_61.TIF\n",
      "found  satellite_images\\2023_test\\Ames\\TP3\\Ames-TP3-2335_43_61.TIF\n",
      "found  satellite_images\\2023_test\\Ames\\TP1\\Ames-TP1-2335_24_55.TIF\n",
      "found  satellite_images\\2023_test\\Ames\\TP2\\Ames-TP2-2335_24_55.TIF\n",
      "found  satellite_images\\2023_test\\Ames\\TP3\\Ames-TP3-2335_24_55.TIF\n",
      "found  satellite_images\\2023_test\\Ames\\TP1\\Ames-TP1-2335_26_59.TIF\n",
      "found  satellite_images\\2023_test\\Ames\\TP2\\Ames-TP2-2335_26_59.TIF\n",
      "found  satellite_images\\2023_test\\Ames\\TP3\\Ames-TP3-2335_26_59.TIF\n",
      "found  satellite_images\\2023_test\\Ames\\TP1\\Ames-TP1-2335_43_57.TIF\n",
      "found  satellite_images\\2023_test\\Ames\\TP2\\Ames-TP2-2335_43_57.TIF\n",
      "found  satellite_images\\2023_test\\Ames\\TP3\\Ames-TP3-2335_43_57.TIF\n",
      "found  satellite_images\\2023_test\\Ames\\TP1\\Ames-TP1-2335_33_57.TIF\n",
      "found  satellite_images\\2023_test\\Ames\\TP2\\Ames-TP2-2335_33_57.TIF\n",
      "found  satellite_images\\2023_test\\Ames\\TP3\\Ames-TP3-2335_33_57.TIF\n",
      "found  satellite_images\\2023_test\\Ames\\TP1\\Ames-TP1-2335_26_61.TIF\n",
      "found  satellite_images\\2023_test\\Ames\\TP2\\Ames-TP2-2335_26_61.TIF\n",
      "found  satellite_images\\2023_test\\Ames\\TP3\\Ames-TP3-2335_26_61.TIF\n"
     ]
    },
    {
     "name": "stderr",
     "output_type": "stream",
     "text": [
      "271it [00:08, 30.74it/s]"
     ]
    },
    {
     "name": "stdout",
     "output_type": "stream",
     "text": [
      "found  satellite_images\\2023_test\\Ames\\TP1\\Ames-TP1-2335_25_59.TIF\n",
      "found  satellite_images\\2023_test\\Ames\\TP2\\Ames-TP2-2335_25_59.TIF\n",
      "found  satellite_images\\2023_test\\Ames\\TP3\\Ames-TP3-2335_25_59.TIF\n",
      "found  satellite_images\\2023_test\\Ames\\TP1\\Ames-TP1-2335_33_59.TIF\n",
      "found  satellite_images\\2023_test\\Ames\\TP2\\Ames-TP2-2335_33_59.TIF\n",
      "found  satellite_images\\2023_test\\Ames\\TP3\\Ames-TP3-2335_33_59.TIF\n",
      "found  satellite_images\\2023_test\\Ames\\TP1\\Ames-TP1-2335_41_57.TIF\n",
      "found  satellite_images\\2023_test\\Ames\\TP2\\Ames-TP2-2335_41_57.TIF\n",
      "found  satellite_images\\2023_test\\Ames\\TP3\\Ames-TP3-2335_41_57.TIF\n",
      "found  satellite_images\\2023_test\\Ames\\TP1\\Ames-TP1-2335_37_59.TIF\n",
      "found  satellite_images\\2023_test\\Ames\\TP2\\Ames-TP2-2335_37_59.TIF\n",
      "found  satellite_images\\2023_test\\Ames\\TP3\\Ames-TP3-2335_37_59.TIF\n",
      "found  satellite_images\\2023_test\\Ames\\TP1\\Ames-TP1-2335_37_57.TIF\n",
      "found  satellite_images\\2023_test\\Ames\\TP2\\Ames-TP2-2335_37_57.TIF\n",
      "found  satellite_images\\2023_test\\Ames\\TP3\\Ames-TP3-2335_37_57.TIF\n",
      "found  satellite_images\\2023_test\\Ames\\TP1\\Ames-TP1-2335_41_61.TIF\n",
      "found  satellite_images\\2023_test\\Ames\\TP2\\Ames-TP2-2335_41_61.TIF\n",
      "found  satellite_images\\2023_test\\Ames\\TP3\\Ames-TP3-2335_41_61.TIF\n",
      "found  satellite_images\\2023_test\\Ames\\TP1\\Ames-TP1-2335_25_55.TIF\n"
     ]
    },
    {
     "name": "stderr",
     "output_type": "stream",
     "text": [
      "279it [00:08, 31.12it/s]"
     ]
    },
    {
     "name": "stdout",
     "output_type": "stream",
     "text": [
      "found  satellite_images\\2023_test\\Ames\\TP2\\Ames-TP2-2335_25_55.TIF\n",
      "found  satellite_images\\2023_test\\Ames\\TP3\\Ames-TP3-2335_25_55.TIF\n",
      "found  satellite_images\\2023_test\\Ames\\TP1\\Ames-TP1-2335_41_59.TIF\n",
      "found  satellite_images\\2023_test\\Ames\\TP2\\Ames-TP2-2335_41_59.TIF\n",
      "found  satellite_images\\2023_test\\Ames\\TP3\\Ames-TP3-2335_41_59.TIF\n",
      "found  satellite_images\\2023_test\\Ames\\TP1\\Ames-TP1-2335_41_55.TIF\n",
      "found  satellite_images\\2023_test\\Ames\\TP2\\Ames-TP2-2335_41_55.TIF\n",
      "found  satellite_images\\2023_test\\Ames\\TP3\\Ames-TP3-2335_41_55.TIF\n",
      "found  satellite_images\\2023_test\\Ames\\TP1\\Ames-TP1-2335_28_61.TIF\n",
      "found  satellite_images\\2023_test\\Ames\\TP2\\Ames-TP2-2335_28_61.TIF\n",
      "found  satellite_images\\2023_test\\Ames\\TP3\\Ames-TP3-2335_28_61.TIF\n",
      "found  satellite_images\\2023_test\\Ames\\TP1\\Ames-TP1-2335_44_57.TIF\n",
      "found  satellite_images\\2023_test\\Ames\\TP2\\Ames-TP2-2335_44_57.TIF\n",
      "found  satellite_images\\2023_test\\Ames\\TP3\\Ames-TP3-2335_44_57.TIF\n",
      "found  satellite_images\\2023_test\\Ames\\TP1\\Ames-TP1-2335_31_59.TIF\n",
      "found  satellite_images\\2023_test\\Ames\\TP2\\Ames-TP2-2335_31_59.TIF\n",
      "found  satellite_images\\2023_test\\Ames\\TP3\\Ames-TP3-2335_31_59.TIF\n",
      "found  satellite_images\\2023_test\\Ames\\TP1\\Ames-TP1-2335_24_61.TIF\n",
      "found  satellite_images\\2023_test\\Ames\\TP2\\Ames-TP2-2335_24_61.TIF\n",
      "found  satellite_images\\2023_test\\Ames\\TP3\\Ames-TP3-2335_24_61.TIF\n"
     ]
    },
    {
     "name": "stderr",
     "output_type": "stream",
     "text": [
      "283it [00:09, 29.69it/s]"
     ]
    },
    {
     "name": "stdout",
     "output_type": "stream",
     "text": [
      "found  satellite_images\\2023_test\\Ames\\TP1\\Ames-TP1-2335_34_55.TIF\n",
      "found  satellite_images\\2023_test\\Ames\\TP2\\Ames-TP2-2335_34_55.TIF\n",
      "found  satellite_images\\2023_test\\Ames\\TP3\\Ames-TP3-2335_34_55.TIF\n",
      "found  satellite_images\\2023_test\\Ames\\TP1\\Ames-TP1-2335_25_61.TIF\n",
      "found  satellite_images\\2023_test\\Ames\\TP2\\Ames-TP2-2335_25_61.TIF\n",
      "found  satellite_images\\2023_test\\Ames\\TP3\\Ames-TP3-2335_25_61.TIF\n",
      "found  satellite_images\\2023_test\\Ames\\TP1\\Ames-TP1-2335_40_61.TIF\n",
      "found  satellite_images\\2023_test\\Ames\\TP2\\Ames-TP2-2335_40_61.TIF\n",
      "found  satellite_images\\2023_test\\Ames\\TP3\\Ames-TP3-2335_40_61.TIF\n",
      "found  satellite_images\\2023_test\\Ames\\TP1\\Ames-TP1-2335_45_57.TIF\n",
      "found  satellite_images\\2023_test\\Ames\\TP2\\Ames-TP2-2335_45_57.TIF\n",
      "found  satellite_images\\2023_test\\Ames\\TP3\\Ames-TP3-2335_45_57.TIF\n",
      "found  satellite_images\\2023_test\\Ames\\TP1\\Ames-TP1-2335_35_61.TIF\n",
      "found  satellite_images\\2023_test\\Ames\\TP2\\Ames-TP2-2335_35_61.TIF\n",
      "found  satellite_images\\2023_test\\Ames\\TP3\\Ames-TP3-2335_35_61.TIF\n",
      "found  satellite_images\\2023_test\\Ames\\TP1\\Ames-TP1-2335_37_55.TIF\n",
      "found  satellite_images\\2023_test\\Ames\\TP2\\Ames-TP2-2335_37_55.TIF\n"
     ]
    },
    {
     "name": "stderr",
     "output_type": "stream",
     "text": [
      "288it [00:09, 31.02it/s]"
     ]
    },
    {
     "name": "stdout",
     "output_type": "stream",
     "text": [
      "found  satellite_images\\2023_test\\Ames\\TP3\\Ames-TP3-2335_37_55.TIF\n",
      "found  satellite_images\\2023_test\\Ames\\TP1\\Ames-TP1-2335_35_55.TIF\n",
      "found  satellite_images\\2023_test\\Ames\\TP2\\Ames-TP2-2335_35_55.TIF\n",
      "found  satellite_images\\2023_test\\Ames\\TP3\\Ames-TP3-2335_35_55.TIF\n",
      "found  satellite_images\\2023_test\\Ames\\TP1\\Ames-TP1-2335_31_57.TIF\n",
      "found  satellite_images\\2023_test\\Ames\\TP2\\Ames-TP2-2335_31_57.TIF\n",
      "found  satellite_images\\2023_test\\Ames\\TP3\\Ames-TP3-2335_31_57.TIF\n",
      "found  satellite_images\\2023_test\\Ames\\TP1\\Ames-TP1-2335_40_59.TIF\n",
      "found  satellite_images\\2023_test\\Ames\\TP2\\Ames-TP2-2335_40_59.TIF\n",
      "found  satellite_images\\2023_test\\Ames\\TP3\\Ames-TP3-2335_40_59.TIF\n"
     ]
    },
    {
     "name": "stderr",
     "output_type": "stream",
     "text": [
      "\n"
     ]
    }
   ],
   "source": [
    "images = []\n",
    "numerical_features = []\n",
    "\n",
    "for index, row in tqdm(all_data.iterrows()):\n",
    "\n",
    "  location = row['location']\n",
    "  year = row['year']\n",
    "  if year == 2023:\n",
    "    year = '2023_test'\n",
    "  experiment = row['experiment']\n",
    "  if experiment == 'Hyrbrids':\n",
    "    experiment = 'Hybrids'\n",
    "  range = row['range']\n",
    "  row_ = row['row']\n",
    "  planting_date = row['planting_date']\n",
    "  time_points = sorted(os.listdir(os.path.join('satellite_images', str(year), location)))\n",
    "\n",
    "  new_images = []\n",
    "  new_numerical_features = []  \n",
    "  for time_point in time_points:\n",
    "    folder_path = os.path.join('satellite_images', str(year), location, time_point)\n",
    "    image_name = f'{location}-{time_point}-{experiment}_{range}_{row_}.TIF'\n",
    "    image_path = os.path.join(folder_path, image_name)\n",
    "    if os.path.exists(image_path):\n",
    "      satellite_image = get_image(image_path)\n",
    "      processed_image = process_image(satellite_image)\n",
    "      age = get_age(row['year'], location, time_point, planting_date)\n",
    "      age = age/365\n",
    "      new_images.append(processed_image)\n",
    "      new_numerical_features.append([row['location_Ames'],\n",
    "                     row['location_Crawfordsville'],\n",
    "                     row['location_Lincoln'],\n",
    "                     row['location_MOValley'],\n",
    "                     row['N_level_High'],\n",
    "                     row['N_level_Low'],\n",
    "                     row['N_level_Medium'],\n",
    "                     age])\n",
    "      print('found ',image_path)  \n",
    "    else:\n",
    "      print('not_found', image_path)\n",
    "  images.append(new_images)\n",
    "  numerical_features.append(new_numerical_features)  \n",
    "\n",
    "images = np.array(images)\n",
    "numerical_features = np.array(numerical_features)"
   ]
  },
  {
   "cell_type": "code",
   "execution_count": 14,
   "metadata": {
    "id": "h-tTJv8511uP"
   },
   "outputs": [],
   "source": [
    "data_dict = {'images': images,\n",
    "             'numerical_features': numerical_features,\n",
    "             'metadata': processed_data['metadata']}"
   ]
  },
  {
   "cell_type": "code",
   "execution_count": 15,
   "metadata": {
    "id": "YP6_g4OjPSEl"
   },
   "outputs": [],
   "source": [
    "f = open('processed_test_data_minamx_normalized_trimmed.pkl', 'wb')\n",
    "pickle.dump(data_dict, f)\n",
    "f.close()"
   ]
  },
  {
   "cell_type": "code",
   "execution_count": null,
   "metadata": {},
   "outputs": [],
   "source": []
  }
 ],
 "metadata": {
  "colab": {
   "provenance": []
  },
  "kernelspec": {
   "display_name": "Python 3 (ipykernel)",
   "language": "python",
   "name": "python3"
  },
  "language_info": {
   "codemirror_mode": {
    "name": "ipython",
    "version": 3
   },
   "file_extension": ".py",
   "mimetype": "text/x-python",
   "name": "python",
   "nbconvert_exporter": "python",
   "pygments_lexer": "ipython3",
   "version": "3.12.4"
  }
 },
 "nbformat": 4,
 "nbformat_minor": 4
}
