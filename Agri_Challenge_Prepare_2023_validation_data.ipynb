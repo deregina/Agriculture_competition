{
 "cells": [
  {
   "cell_type": "code",
   "execution_count": 2,
   "metadata": {
    "id": "qYdeTQtpxBb9"
   },
   "outputs": [],
   "source": [
    "import pandas as pd\n",
    "import numpy as np\n",
    "import matplotlib.pyplot as plt\n",
    "import pickle\n",
    "from PIL import Image\n",
    "import requests\n",
    "from sklearn.preprocessing import OneHotEncoder\n",
    "import os\n",
    "import cv2 as cv\n",
    "import rasterio\n",
    "from sklearn.model_selection import train_test_split\n",
    "from tqdm import tqdm"
   ]
  },
  {
   "cell_type": "code",
   "execution_count": 3,
   "metadata": {
    "id": "ENTUtpV31KsS"
   },
   "outputs": [],
   "source": [
    "def makedir(path):\n",
    "    if not os.path.exists(path):\n",
    "        os.makedirs(path)\n",
    "\n",
    "def norm(band):\n",
    "  band_min, band_max = band.min(), band.max()\n",
    "  return ((band - band_min)/(band_max - band_min))\n",
    "\n",
    "def get_image(image_path):\n",
    "  src = rasterio.open(image_path, 'r')\n",
    "  S_images=src.read()\n",
    "  c0 = norm(S_images[0].astype(np.float32))\n",
    "  c1 = norm(S_images[1].astype(np.float32))\n",
    "  c2 = norm(S_images[2].astype(np.float32))\n",
    "  c3 = norm(S_images[3].astype(np.float32))\n",
    "  c4 = norm(S_images[4].astype(np.float32))\n",
    "  c5 = norm(S_images[5].astype(np.float32))\n",
    "  image = np.dstack((c0,c1,c2,c3,c4,c5))\n",
    "  src.close()\n",
    "  return image\n",
    "\n",
    "def process_image(satellite_image):\n",
    "  h,w,c = satellite_image.shape\n",
    "  if w < h:\n",
    "    satellite_image = np.transpose(satellite_image, (1, 0, 2))\n",
    "  resized_image = cv.resize(satellite_image, (25, 25), interpolation=cv.INTER_CUBIC)\n",
    "  return resized_image\n",
    "\n",
    "def get_age(year, location, time_point, planting_date):\n",
    "  collection_date = doc[str(year)][location][time_point]\n",
    "  planting_date = pd.to_datetime(planting_date)\n",
    "  collection_date = pd.to_datetime(collection_date)\n",
    "  return (collection_date-planting_date).days"
   ]
  },
  {
   "cell_type": "code",
   "execution_count": 4,
   "metadata": {
    "id": "NAbZekXOxRvI"
   },
   "outputs": [],
   "source": [
    "val_2023_split = pd.read_csv('data_processed/val_2023.csv')"
   ]
  },
  {
   "cell_type": "code",
   "execution_count": 5,
   "metadata": {
    "id": "nrR8wMSFxoLF"
   },
   "outputs": [],
   "source": [
    "f = open('data_processed/doc_2023.pkl', 'rb')\n",
    "doc_2023 = pickle.load(f)\n",
    "f.close()\n",
    "f = open('data_processed/val_2023.pkl', 'rb')\n",
    "data_split = pickle.load(f)\n",
    "f.close()"
   ]
  },
  {
   "cell_type": "code",
   "execution_count": 6,
   "metadata": {
    "id": "ULZn___fx3y7"
   },
   "outputs": [],
   "source": [
    "doc = {}\n",
    "doc['2023'] = doc_2023"
   ]
  },
  {
   "cell_type": "markdown",
   "metadata": {
    "id": "gox1_k-nCu-0"
   },
   "source": [
    "Steps in data preprocessing:\n",
    "\n",
    "\n",
    "*   Remove Scottsbluff from training set (scottsbluff plot length is different from all other data)\n",
    "*   Remove rows with nan\n",
    "*   Remove genotype (2023 val set has two genotypes that are new) and irrigationProvided\n",
    "*   Divide yield by max yield. Store max yield in metadata\n",
    "*   Convert location, N_level into one hot encoded form\n",
    "*   Get the satellite images for each row. Transpose image if width is shorter than height. Reside to 25 by 25. And min max normalize each channel of the image.\n",
    "*   For each satellite image, Calculate age by finding difference between planting date and time point. Divide age by 365.\n",
    "*   Make a list of data samples and another list of yields\n",
    "*   Divide the list into training vs validation\n",
    "*   Save as numpy array or pickle file\n",
    "\n"
   ]
  },
  {
   "cell_type": "code",
   "execution_count": 8,
   "metadata": {
    "id": "JSFFQDdix8Fn"
   },
   "outputs": [],
   "source": [
    "all_data = val_2023_split"
   ]
  },
  {
   "cell_type": "code",
   "execution_count": 9,
   "metadata": {
    "colab": {
     "base_uri": "https://localhost:8080/",
     "height": 206
    },
    "id": "QwahIaLHx8nS",
    "outputId": "e88b98b6-08c1-4650-9517-4a6e28cff787"
   },
   "outputs": [
    {
     "data": {
      "text/html": [
       "<div>\n",
       "<style scoped>\n",
       "    .dataframe tbody tr th:only-of-type {\n",
       "        vertical-align: middle;\n",
       "    }\n",
       "\n",
       "    .dataframe tbody tr th {\n",
       "        vertical-align: top;\n",
       "    }\n",
       "\n",
       "    .dataframe thead th {\n",
       "        text-align: right;\n",
       "    }\n",
       "</style>\n",
       "<table border=\"1\" class=\"dataframe\">\n",
       "  <thead>\n",
       "    <tr style=\"text-align: right;\">\n",
       "      <th></th>\n",
       "      <th>year</th>\n",
       "      <th>location</th>\n",
       "      <th>irrigationProvided</th>\n",
       "      <th>experiment</th>\n",
       "      <th>range</th>\n",
       "      <th>row</th>\n",
       "      <th>N_level</th>\n",
       "      <th>genotype</th>\n",
       "      <th>planting_date</th>\n",
       "      <th>location_Ames</th>\n",
       "      <th>location_Crawfordsville</th>\n",
       "      <th>location_Lincoln</th>\n",
       "      <th>location_MOValley</th>\n",
       "      <th>N_level_High</th>\n",
       "      <th>N_level_Low</th>\n",
       "      <th>N_level_Medium</th>\n",
       "    </tr>\n",
       "  </thead>\n",
       "  <tbody>\n",
       "    <tr>\n",
       "      <th>0</th>\n",
       "      <td>2023</td>\n",
       "      <td>Ames</td>\n",
       "      <td>0</td>\n",
       "      <td>2315</td>\n",
       "      <td>12</td>\n",
       "      <td>11</td>\n",
       "      <td>Low</td>\n",
       "      <td>PHN46 X PHB47</td>\n",
       "      <td>5/19/23</td>\n",
       "      <td>1.0</td>\n",
       "      <td>0.0</td>\n",
       "      <td>0.0</td>\n",
       "      <td>0.0</td>\n",
       "      <td>0.0</td>\n",
       "      <td>1.0</td>\n",
       "      <td>0.0</td>\n",
       "    </tr>\n",
       "    <tr>\n",
       "      <th>1</th>\n",
       "      <td>2023</td>\n",
       "      <td>Ames</td>\n",
       "      <td>0</td>\n",
       "      <td>2315</td>\n",
       "      <td>3</td>\n",
       "      <td>13</td>\n",
       "      <td>Low</td>\n",
       "      <td>B73 X MO17</td>\n",
       "      <td>5/19/23</td>\n",
       "      <td>1.0</td>\n",
       "      <td>0.0</td>\n",
       "      <td>0.0</td>\n",
       "      <td>0.0</td>\n",
       "      <td>0.0</td>\n",
       "      <td>1.0</td>\n",
       "      <td>0.0</td>\n",
       "    </tr>\n",
       "    <tr>\n",
       "      <th>2</th>\n",
       "      <td>2023</td>\n",
       "      <td>Ames</td>\n",
       "      <td>0</td>\n",
       "      <td>2315</td>\n",
       "      <td>18</td>\n",
       "      <td>13</td>\n",
       "      <td>Low</td>\n",
       "      <td>B73 X PHM49</td>\n",
       "      <td>5/19/23</td>\n",
       "      <td>1.0</td>\n",
       "      <td>0.0</td>\n",
       "      <td>0.0</td>\n",
       "      <td>0.0</td>\n",
       "      <td>0.0</td>\n",
       "      <td>1.0</td>\n",
       "      <td>0.0</td>\n",
       "    </tr>\n",
       "    <tr>\n",
       "      <th>3</th>\n",
       "      <td>2023</td>\n",
       "      <td>Ames</td>\n",
       "      <td>0</td>\n",
       "      <td>2315</td>\n",
       "      <td>2</td>\n",
       "      <td>15</td>\n",
       "      <td>Low</td>\n",
       "      <td>LH185 X LH82</td>\n",
       "      <td>5/19/23</td>\n",
       "      <td>1.0</td>\n",
       "      <td>0.0</td>\n",
       "      <td>0.0</td>\n",
       "      <td>0.0</td>\n",
       "      <td>0.0</td>\n",
       "      <td>1.0</td>\n",
       "      <td>0.0</td>\n",
       "    </tr>\n",
       "    <tr>\n",
       "      <th>4</th>\n",
       "      <td>2023</td>\n",
       "      <td>Ames</td>\n",
       "      <td>0</td>\n",
       "      <td>2315</td>\n",
       "      <td>5</td>\n",
       "      <td>15</td>\n",
       "      <td>Low</td>\n",
       "      <td>2369 X PHN82</td>\n",
       "      <td>5/19/23</td>\n",
       "      <td>1.0</td>\n",
       "      <td>0.0</td>\n",
       "      <td>0.0</td>\n",
       "      <td>0.0</td>\n",
       "      <td>0.0</td>\n",
       "      <td>1.0</td>\n",
       "      <td>0.0</td>\n",
       "    </tr>\n",
       "  </tbody>\n",
       "</table>\n",
       "</div>"
      ],
      "text/plain": [
       "   year location  irrigationProvided  experiment  range  row N_level  \\\n",
       "0  2023     Ames                   0        2315     12   11     Low   \n",
       "1  2023     Ames                   0        2315      3   13     Low   \n",
       "2  2023     Ames                   0        2315     18   13     Low   \n",
       "3  2023     Ames                   0        2315      2   15     Low   \n",
       "4  2023     Ames                   0        2315      5   15     Low   \n",
       "\n",
       "        genotype planting_date  location_Ames  location_Crawfordsville  \\\n",
       "0  PHN46 X PHB47       5/19/23            1.0                      0.0   \n",
       "1     B73 X MO17       5/19/23            1.0                      0.0   \n",
       "2    B73 X PHM49       5/19/23            1.0                      0.0   \n",
       "3   LH185 X LH82       5/19/23            1.0                      0.0   \n",
       "4   2369 X PHN82       5/19/23            1.0                      0.0   \n",
       "\n",
       "   location_Lincoln  location_MOValley  N_level_High  N_level_Low  \\\n",
       "0               0.0                0.0           0.0          1.0   \n",
       "1               0.0                0.0           0.0          1.0   \n",
       "2               0.0                0.0           0.0          1.0   \n",
       "3               0.0                0.0           0.0          1.0   \n",
       "4               0.0                0.0           0.0          1.0   \n",
       "\n",
       "   N_level_Medium  \n",
       "0             0.0  \n",
       "1             0.0  \n",
       "2             0.0  \n",
       "3             0.0  \n",
       "4             0.0  "
      ]
     },
     "execution_count": 9,
     "metadata": {},
     "output_type": "execute_result"
    }
   ],
   "source": [
    "all_data.head()"
   ]
  },
  {
   "cell_type": "code",
   "execution_count": 10,
   "metadata": {
    "id": "G-T6UI0FF5CC"
   },
   "outputs": [],
   "source": [
    "with open('processed_data.pkl', 'rb') as f:\n",
    "  processed_data = pickle.load(f)"
   ]
  },
  {
   "cell_type": "code",
   "execution_count": 11,
   "metadata": {},
   "outputs": [],
   "source": [
    "max_yield = processed_data['metadata']['max_yield']"
   ]
  },
  {
   "cell_type": "code",
   "execution_count": 12,
   "metadata": {
    "id": "7eJphPF9FjxP"
   },
   "outputs": [],
   "source": [
    "all_data = all_data.drop(columns=['genotype','irrigationProvided'])"
   ]
  },
  {
   "cell_type": "code",
   "execution_count": 13,
   "metadata": {
    "colab": {
     "base_uri": "https://localhost:8080/",
     "height": 226
    },
    "id": "L0nOru_5z-IR",
    "outputId": "10386676-935b-44cd-c4c5-28f4c01c9174"
   },
   "outputs": [
    {
     "data": {
      "text/html": [
       "<div>\n",
       "<style scoped>\n",
       "    .dataframe tbody tr th:only-of-type {\n",
       "        vertical-align: middle;\n",
       "    }\n",
       "\n",
       "    .dataframe tbody tr th {\n",
       "        vertical-align: top;\n",
       "    }\n",
       "\n",
       "    .dataframe thead th {\n",
       "        text-align: right;\n",
       "    }\n",
       "</style>\n",
       "<table border=\"1\" class=\"dataframe\">\n",
       "  <thead>\n",
       "    <tr style=\"text-align: right;\">\n",
       "      <th></th>\n",
       "      <th>year</th>\n",
       "      <th>location</th>\n",
       "      <th>experiment</th>\n",
       "      <th>range</th>\n",
       "      <th>row</th>\n",
       "      <th>N_level</th>\n",
       "      <th>planting_date</th>\n",
       "      <th>location_Ames</th>\n",
       "      <th>location_Crawfordsville</th>\n",
       "      <th>location_Lincoln</th>\n",
       "      <th>location_MOValley</th>\n",
       "      <th>N_level_High</th>\n",
       "      <th>N_level_Low</th>\n",
       "      <th>N_level_Medium</th>\n",
       "    </tr>\n",
       "  </thead>\n",
       "  <tbody>\n",
       "    <tr>\n",
       "      <th>0</th>\n",
       "      <td>2023</td>\n",
       "      <td>Ames</td>\n",
       "      <td>2315</td>\n",
       "      <td>12</td>\n",
       "      <td>11</td>\n",
       "      <td>Low</td>\n",
       "      <td>5/19/23</td>\n",
       "      <td>1.0</td>\n",
       "      <td>0.0</td>\n",
       "      <td>0.0</td>\n",
       "      <td>0.0</td>\n",
       "      <td>0.0</td>\n",
       "      <td>1.0</td>\n",
       "      <td>0.0</td>\n",
       "    </tr>\n",
       "    <tr>\n",
       "      <th>1</th>\n",
       "      <td>2023</td>\n",
       "      <td>Ames</td>\n",
       "      <td>2315</td>\n",
       "      <td>3</td>\n",
       "      <td>13</td>\n",
       "      <td>Low</td>\n",
       "      <td>5/19/23</td>\n",
       "      <td>1.0</td>\n",
       "      <td>0.0</td>\n",
       "      <td>0.0</td>\n",
       "      <td>0.0</td>\n",
       "      <td>0.0</td>\n",
       "      <td>1.0</td>\n",
       "      <td>0.0</td>\n",
       "    </tr>\n",
       "    <tr>\n",
       "      <th>2</th>\n",
       "      <td>2023</td>\n",
       "      <td>Ames</td>\n",
       "      <td>2315</td>\n",
       "      <td>18</td>\n",
       "      <td>13</td>\n",
       "      <td>Low</td>\n",
       "      <td>5/19/23</td>\n",
       "      <td>1.0</td>\n",
       "      <td>0.0</td>\n",
       "      <td>0.0</td>\n",
       "      <td>0.0</td>\n",
       "      <td>0.0</td>\n",
       "      <td>1.0</td>\n",
       "      <td>0.0</td>\n",
       "    </tr>\n",
       "    <tr>\n",
       "      <th>3</th>\n",
       "      <td>2023</td>\n",
       "      <td>Ames</td>\n",
       "      <td>2315</td>\n",
       "      <td>2</td>\n",
       "      <td>15</td>\n",
       "      <td>Low</td>\n",
       "      <td>5/19/23</td>\n",
       "      <td>1.0</td>\n",
       "      <td>0.0</td>\n",
       "      <td>0.0</td>\n",
       "      <td>0.0</td>\n",
       "      <td>0.0</td>\n",
       "      <td>1.0</td>\n",
       "      <td>0.0</td>\n",
       "    </tr>\n",
       "    <tr>\n",
       "      <th>4</th>\n",
       "      <td>2023</td>\n",
       "      <td>Ames</td>\n",
       "      <td>2315</td>\n",
       "      <td>5</td>\n",
       "      <td>15</td>\n",
       "      <td>Low</td>\n",
       "      <td>5/19/23</td>\n",
       "      <td>1.0</td>\n",
       "      <td>0.0</td>\n",
       "      <td>0.0</td>\n",
       "      <td>0.0</td>\n",
       "      <td>0.0</td>\n",
       "      <td>1.0</td>\n",
       "      <td>0.0</td>\n",
       "    </tr>\n",
       "  </tbody>\n",
       "</table>\n",
       "</div>"
      ],
      "text/plain": [
       "   year location  experiment  range  row N_level planting_date  location_Ames  \\\n",
       "0  2023     Ames        2315     12   11     Low       5/19/23            1.0   \n",
       "1  2023     Ames        2315      3   13     Low       5/19/23            1.0   \n",
       "2  2023     Ames        2315     18   13     Low       5/19/23            1.0   \n",
       "3  2023     Ames        2315      2   15     Low       5/19/23            1.0   \n",
       "4  2023     Ames        2315      5   15     Low       5/19/23            1.0   \n",
       "\n",
       "   location_Crawfordsville  location_Lincoln  location_MOValley  N_level_High  \\\n",
       "0                      0.0               0.0                0.0           0.0   \n",
       "1                      0.0               0.0                0.0           0.0   \n",
       "2                      0.0               0.0                0.0           0.0   \n",
       "3                      0.0               0.0                0.0           0.0   \n",
       "4                      0.0               0.0                0.0           0.0   \n",
       "\n",
       "   N_level_Low  N_level_Medium  \n",
       "0          1.0             0.0  \n",
       "1          1.0             0.0  \n",
       "2          1.0             0.0  \n",
       "3          1.0             0.0  \n",
       "4          1.0             0.0  "
      ]
     },
     "execution_count": 13,
     "metadata": {},
     "output_type": "execute_result"
    }
   ],
   "source": [
    "all_data.head()"
   ]
  },
  {
   "cell_type": "code",
   "execution_count": 14,
   "metadata": {
    "colab": {
     "base_uri": "https://localhost:8080/"
    },
    "id": "ZsYZY9nP2gvl",
    "outputId": "95cd9427-d97e-450c-c4d8-d67d0f0943a0",
    "scrolled": true
   },
   "outputs": [
    {
     "name": "stderr",
     "output_type": "stream",
     "text": [
      "4it [00:00, 29.74it/s]"
     ]
    },
    {
     "name": "stdout",
     "output_type": "stream",
     "text": [
      "found  satellite_images\\2023_val\\Ames\\TP1\\Ames-TP1-2315_12_11.TIF\n",
      "found  satellite_images\\2023_val\\Ames\\TP2\\Ames-TP2-2315_12_11.TIF\n",
      "found  satellite_images\\2023_val\\Ames\\TP3\\Ames-TP3-2315_12_11.TIF\n",
      "found  satellite_images\\2023_val\\Ames\\TP1\\Ames-TP1-2315_3_13.TIF\n",
      "found  satellite_images\\2023_val\\Ames\\TP2\\Ames-TP2-2315_3_13.TIF\n",
      "found  satellite_images\\2023_val\\Ames\\TP3\\Ames-TP3-2315_3_13.TIF\n",
      "found  satellite_images\\2023_val\\Ames\\TP1\\Ames-TP1-2315_18_13.TIF\n",
      "found  satellite_images\\2023_val\\Ames\\TP2\\Ames-TP2-2315_18_13.TIF\n",
      "found  satellite_images\\2023_val\\Ames\\TP3\\Ames-TP3-2315_18_13.TIF\n",
      "found  satellite_images\\2023_val\\Ames\\TP1\\Ames-TP1-2315_2_15.TIF\n",
      "found  satellite_images\\2023_val\\Ames\\TP2\\Ames-TP2-2315_2_15.TIF\n",
      "found  satellite_images\\2023_val\\Ames\\TP3\\Ames-TP3-2315_2_15.TIF\n",
      "found  satellite_images\\2023_val\\Ames\\TP1\\Ames-TP1-2315_5_15.TIF\n",
      "found  satellite_images\\2023_val\\Ames\\TP2\\Ames-TP2-2315_5_15.TIF\n",
      "found  satellite_images\\2023_val\\Ames\\TP3\\Ames-TP3-2315_5_15.TIF\n",
      "found  satellite_images\\2023_val\\Ames\\TP1\\Ames-TP1-2315_5_13.TIF\n",
      "found  satellite_images\\2023_val\\Ames\\TP2\\Ames-TP2-2315_5_13.TIF\n",
      "found  satellite_images\\2023_val\\Ames\\TP3\\Ames-TP3-2315_5_13.TIF\n",
      "found  satellite_images\\2023_val\\Ames\\TP1\\Ames-TP1-2315_6_11.TIF\n",
      "found  satellite_images\\2023_val\\Ames\\TP2\\Ames-TP2-2315_6_11.TIF\n"
     ]
    },
    {
     "name": "stderr",
     "output_type": "stream",
     "text": [
      "12it [00:00, 35.71it/s]"
     ]
    },
    {
     "name": "stdout",
     "output_type": "stream",
     "text": [
      "found  satellite_images\\2023_val\\Ames\\TP3\\Ames-TP3-2315_6_11.TIF\n",
      "found  satellite_images\\2023_val\\Ames\\TP1\\Ames-TP1-2315_6_15.TIF\n",
      "found  satellite_images\\2023_val\\Ames\\TP2\\Ames-TP2-2315_6_15.TIF\n",
      "found  satellite_images\\2023_val\\Ames\\TP3\\Ames-TP3-2315_6_15.TIF\n",
      "found  satellite_images\\2023_val\\Ames\\TP1\\Ames-TP1-2315_22_11.TIF\n",
      "found  satellite_images\\2023_val\\Ames\\TP2\\Ames-TP2-2315_22_11.TIF\n",
      "found  satellite_images\\2023_val\\Ames\\TP3\\Ames-TP3-2315_22_11.TIF\n",
      "found  satellite_images\\2023_val\\Ames\\TP1\\Ames-TP1-2315_5_17.TIF\n",
      "found  satellite_images\\2023_val\\Ames\\TP2\\Ames-TP2-2315_5_17.TIF\n",
      "found  satellite_images\\2023_val\\Ames\\TP3\\Ames-TP3-2315_5_17.TIF\n",
      "found  satellite_images\\2023_val\\Ames\\TP1\\Ames-TP1-2315_13_13.TIF\n",
      "found  satellite_images\\2023_val\\Ames\\TP2\\Ames-TP2-2315_13_13.TIF\n",
      "found  satellite_images\\2023_val\\Ames\\TP3\\Ames-TP3-2315_13_13.TIF\n",
      "found  satellite_images\\2023_val\\Ames\\TP1\\Ames-TP1-2315_21_15.TIF\n",
      "found  satellite_images\\2023_val\\Ames\\TP2\\Ames-TP2-2315_21_15.TIF\n",
      "found  satellite_images\\2023_val\\Ames\\TP3\\Ames-TP3-2315_21_15.TIF\n",
      "found  satellite_images\\2023_val\\Ames\\TP1\\Ames-TP1-2315_14_11.TIF\n",
      "found  satellite_images\\2023_val\\Ames\\TP2\\Ames-TP2-2315_14_11.TIF\n",
      "found  satellite_images\\2023_val\\Ames\\TP3\\Ames-TP3-2315_14_11.TIF\n",
      "found  satellite_images\\2023_val\\Ames\\TP1\\Ames-TP1-2315_2_11.TIF\n",
      "found  satellite_images\\2023_val\\Ames\\TP2\\Ames-TP2-2315_2_11.TIF\n",
      "found  satellite_images\\2023_val\\Ames\\TP3\\Ames-TP3-2315_2_11.TIF\n"
     ]
    },
    {
     "name": "stderr",
     "output_type": "stream",
     "text": [
      "20it [00:00, 36.77it/s]"
     ]
    },
    {
     "name": "stdout",
     "output_type": "stream",
     "text": [
      "found  satellite_images\\2023_val\\Ames\\TP1\\Ames-TP1-2315_12_17.TIF\n",
      "found  satellite_images\\2023_val\\Ames\\TP2\\Ames-TP2-2315_12_17.TIF\n",
      "found  satellite_images\\2023_val\\Ames\\TP3\\Ames-TP3-2315_12_17.TIF\n",
      "found  satellite_images\\2023_val\\Ames\\TP1\\Ames-TP1-2315_11_17.TIF\n",
      "found  satellite_images\\2023_val\\Ames\\TP2\\Ames-TP2-2315_11_17.TIF\n",
      "found  satellite_images\\2023_val\\Ames\\TP3\\Ames-TP3-2315_11_17.TIF\n",
      "found  satellite_images\\2023_val\\Ames\\TP1\\Ames-TP1-2315_4_15.TIF\n",
      "found  satellite_images\\2023_val\\Ames\\TP2\\Ames-TP2-2315_4_15.TIF\n",
      "found  satellite_images\\2023_val\\Ames\\TP3\\Ames-TP3-2315_4_15.TIF\n",
      "found  satellite_images\\2023_val\\Ames\\TP1\\Ames-TP1-2315_20_13.TIF\n",
      "found  satellite_images\\2023_val\\Ames\\TP2\\Ames-TP2-2315_20_13.TIF\n",
      "found  satellite_images\\2023_val\\Ames\\TP3\\Ames-TP3-2315_20_13.TIF\n",
      "found  satellite_images\\2023_val\\Ames\\TP1\\Ames-TP1-2315_22_17.TIF\n",
      "found  satellite_images\\2023_val\\Ames\\TP2\\Ames-TP2-2315_22_17.TIF\n",
      "found  satellite_images\\2023_val\\Ames\\TP3\\Ames-TP3-2315_22_17.TIF\n",
      "found  satellite_images\\2023_val\\Ames\\TP1\\Ames-TP1-2315_10_11.TIF\n",
      "found  satellite_images\\2023_val\\Ames\\TP2\\Ames-TP2-2315_10_11.TIF\n",
      "found  satellite_images\\2023_val\\Ames\\TP3\\Ames-TP3-2315_10_11.TIF\n",
      "found  satellite_images\\2023_val\\Ames\\TP1\\Ames-TP1-2315_21_13.TIF\n",
      "found  satellite_images\\2023_val\\Ames\\TP2\\Ames-TP2-2315_21_13.TIF\n",
      "found  satellite_images\\2023_val\\Ames\\TP3\\Ames-TP3-2315_21_13.TIF\n",
      "found  satellite_images\\2023_val\\Ames\\TP1\\Ames-TP1-2315_22_13.TIF\n",
      "found  satellite_images\\2023_val\\Ames\\TP2\\Ames-TP2-2315_22_13.TIF\n",
      "found  satellite_images\\2023_val\\Ames\\TP3\\Ames-TP3-2315_22_13.TIF\n"
     ]
    },
    {
     "name": "stderr",
     "output_type": "stream",
     "text": [
      "28it [00:00, 35.56it/s]"
     ]
    },
    {
     "name": "stdout",
     "output_type": "stream",
     "text": [
      "found  satellite_images\\2023_val\\Ames\\TP1\\Ames-TP1-2315_6_17.TIF\n",
      "found  satellite_images\\2023_val\\Ames\\TP2\\Ames-TP2-2315_6_17.TIF\n",
      "found  satellite_images\\2023_val\\Ames\\TP3\\Ames-TP3-2315_6_17.TIF\n",
      "found  satellite_images\\2023_val\\Ames\\TP1\\Ames-TP1-2315_17_15.TIF\n",
      "found  satellite_images\\2023_val\\Ames\\TP2\\Ames-TP2-2315_17_15.TIF\n",
      "found  satellite_images\\2023_val\\Ames\\TP3\\Ames-TP3-2315_17_15.TIF\n",
      "found  satellite_images\\2023_val\\Ames\\TP1\\Ames-TP1-2315_16_11.TIF\n",
      "found  satellite_images\\2023_val\\Ames\\TP2\\Ames-TP2-2315_16_11.TIF\n",
      "found  satellite_images\\2023_val\\Ames\\TP3\\Ames-TP3-2315_16_11.TIF\n",
      "found  satellite_images\\2023_val\\Ames\\TP1\\Ames-TP1-2315_7_17.TIF\n",
      "found  satellite_images\\2023_val\\Ames\\TP2\\Ames-TP2-2315_7_17.TIF\n",
      "found  satellite_images\\2023_val\\Ames\\TP3\\Ames-TP3-2315_7_17.TIF\n",
      "found  satellite_images\\2023_val\\Ames\\TP1\\Ames-TP1-2315_15_13.TIF\n",
      "found  satellite_images\\2023_val\\Ames\\TP2\\Ames-TP2-2315_15_13.TIF\n",
      "found  satellite_images\\2023_val\\Ames\\TP3\\Ames-TP3-2315_15_13.TIF\n",
      "found  satellite_images\\2023_val\\Ames\\TP1\\Ames-TP1-2315_17_13.TIF\n",
      "found  satellite_images\\2023_val\\Ames\\TP2\\Ames-TP2-2315_17_13.TIF\n",
      "found  satellite_images\\2023_val\\Ames\\TP3\\Ames-TP3-2315_17_13.TIF\n",
      "found  satellite_images\\2023_val\\Ames\\TP1\\Ames-TP1-2315_21_11.TIF\n",
      "found  satellite_images\\2023_val\\Ames\\TP2\\Ames-TP2-2315_21_11.TIF\n",
      "found  satellite_images\\2023_val\\Ames\\TP3\\Ames-TP3-2315_21_11.TIF\n",
      "found  satellite_images\\2023_val\\Ames\\TP1\\Ames-TP1-2315_19_15.TIF\n",
      "found  satellite_images\\2023_val\\Ames\\TP2\\Ames-TP2-2315_19_15.TIF\n",
      "found  satellite_images\\2023_val\\Ames\\TP3\\Ames-TP3-2315_19_15.TIF\n"
     ]
    },
    {
     "name": "stderr",
     "output_type": "stream",
     "text": [
      "36it [00:01, 35.52it/s]"
     ]
    },
    {
     "name": "stdout",
     "output_type": "stream",
     "text": [
      "found  satellite_images\\2023_val\\Ames\\TP1\\Ames-TP1-2315_20_15.TIF\n",
      "found  satellite_images\\2023_val\\Ames\\TP2\\Ames-TP2-2315_20_15.TIF\n",
      "found  satellite_images\\2023_val\\Ames\\TP3\\Ames-TP3-2315_20_15.TIF\n",
      "found  satellite_images\\2023_val\\Ames\\TP1\\Ames-TP1-2315_19_11.TIF\n",
      "found  satellite_images\\2023_val\\Ames\\TP2\\Ames-TP2-2315_19_11.TIF\n",
      "found  satellite_images\\2023_val\\Ames\\TP3\\Ames-TP3-2315_19_11.TIF\n",
      "found  satellite_images\\2023_val\\Ames\\TP1\\Ames-TP1-2315_12_15.TIF\n",
      "found  satellite_images\\2023_val\\Ames\\TP2\\Ames-TP2-2315_12_15.TIF\n",
      "found  satellite_images\\2023_val\\Ames\\TP3\\Ames-TP3-2315_12_15.TIF\n",
      "found  satellite_images\\2023_val\\Ames\\TP1\\Ames-TP1-2315_3_15.TIF\n",
      "found  satellite_images\\2023_val\\Ames\\TP2\\Ames-TP2-2315_3_15.TIF\n",
      "found  satellite_images\\2023_val\\Ames\\TP3\\Ames-TP3-2315_3_15.TIF\n",
      "found  satellite_images\\2023_val\\Ames\\TP1\\Ames-TP1-2315_11_11.TIF\n",
      "found  satellite_images\\2023_val\\Ames\\TP2\\Ames-TP2-2315_11_11.TIF\n",
      "found  satellite_images\\2023_val\\Ames\\TP3\\Ames-TP3-2315_11_11.TIF\n",
      "found  satellite_images\\2023_val\\Ames\\TP1\\Ames-TP1-2315_4_11.TIF\n",
      "found  satellite_images\\2023_val\\Ames\\TP2\\Ames-TP2-2315_4_11.TIF\n",
      "found  satellite_images\\2023_val\\Ames\\TP3\\Ames-TP3-2315_4_11.TIF\n",
      "found  satellite_images\\2023_val\\Ames\\TP1\\Ames-TP1-2315_10_17.TIF\n",
      "found  satellite_images\\2023_val\\Ames\\TP2\\Ames-TP2-2315_10_17.TIF\n",
      "found  satellite_images\\2023_val\\Ames\\TP3\\Ames-TP3-2315_10_17.TIF\n",
      "found  satellite_images\\2023_val\\Ames\\TP1\\Ames-TP1-2315_14_13.TIF\n",
      "found  satellite_images\\2023_val\\Ames\\TP2\\Ames-TP2-2315_14_13.TIF\n"
     ]
    },
    {
     "name": "stderr",
     "output_type": "stream",
     "text": [
      "44it [00:01, 34.31it/s]"
     ]
    },
    {
     "name": "stdout",
     "output_type": "stream",
     "text": [
      "found  satellite_images\\2023_val\\Ames\\TP3\\Ames-TP3-2315_14_13.TIF\n",
      "found  satellite_images\\2023_val\\Ames\\TP1\\Ames-TP1-2315_18_11.TIF\n",
      "found  satellite_images\\2023_val\\Ames\\TP2\\Ames-TP2-2315_18_11.TIF\n",
      "found  satellite_images\\2023_val\\Ames\\TP3\\Ames-TP3-2315_18_11.TIF\n",
      "found  satellite_images\\2023_val\\Ames\\TP1\\Ames-TP1-2315_3_11.TIF\n",
      "found  satellite_images\\2023_val\\Ames\\TP2\\Ames-TP2-2315_3_11.TIF\n",
      "found  satellite_images\\2023_val\\Ames\\TP3\\Ames-TP3-2315_3_11.TIF\n",
      "found  satellite_images\\2023_val\\Ames\\TP1\\Ames-TP1-2315_21_17.TIF\n",
      "found  satellite_images\\2023_val\\Ames\\TP2\\Ames-TP2-2315_21_17.TIF\n",
      "found  satellite_images\\2023_val\\Ames\\TP3\\Ames-TP3-2315_21_17.TIF\n",
      "found  satellite_images\\2023_val\\Ames\\TP1\\Ames-TP1-2315_36_13.TIF\n",
      "found  satellite_images\\2023_val\\Ames\\TP2\\Ames-TP2-2315_36_13.TIF\n",
      "found  satellite_images\\2023_val\\Ames\\TP3\\Ames-TP3-2315_36_13.TIF\n",
      "found  satellite_images\\2023_val\\Ames\\TP1\\Ames-TP1-2315_45_15.TIF\n",
      "found  satellite_images\\2023_val\\Ames\\TP2\\Ames-TP2-2315_45_15.TIF\n",
      "found  satellite_images\\2023_val\\Ames\\TP3\\Ames-TP3-2315_45_15.TIF\n",
      "found  satellite_images\\2023_val\\Ames\\TP1\\Ames-TP1-2315_30_15.TIF\n",
      "found  satellite_images\\2023_val\\Ames\\TP2\\Ames-TP2-2315_30_15.TIF\n",
      "found  satellite_images\\2023_val\\Ames\\TP3\\Ames-TP3-2315_30_15.TIF\n",
      "found  satellite_images\\2023_val\\Ames\\TP1\\Ames-TP1-2315_24_13.TIF\n",
      "found  satellite_images\\2023_val\\Ames\\TP2\\Ames-TP2-2315_24_13.TIF\n"
     ]
    },
    {
     "name": "stderr",
     "output_type": "stream",
     "text": [
      "48it [00:01, 29.11it/s]"
     ]
    },
    {
     "name": "stdout",
     "output_type": "stream",
     "text": [
      "found  satellite_images\\2023_val\\Ames\\TP3\\Ames-TP3-2315_24_13.TIF\n",
      "found  satellite_images\\2023_val\\Ames\\TP1\\Ames-TP1-2315_27_15.TIF\n",
      "found  satellite_images\\2023_val\\Ames\\TP2\\Ames-TP2-2315_27_15.TIF\n",
      "found  satellite_images\\2023_val\\Ames\\TP3\\Ames-TP3-2315_27_15.TIF\n",
      "found  satellite_images\\2023_val\\Ames\\TP1\\Ames-TP1-2315_27_13.TIF\n",
      "found  satellite_images\\2023_val\\Ames\\TP2\\Ames-TP2-2315_27_13.TIF\n",
      "found  satellite_images\\2023_val\\Ames\\TP3\\Ames-TP3-2315_27_13.TIF\n",
      "found  satellite_images\\2023_val\\Ames\\TP1\\Ames-TP1-2315_28_11.TIF\n",
      "found  satellite_images\\2023_val\\Ames\\TP2\\Ames-TP2-2315_28_11.TIF\n",
      "found  satellite_images\\2023_val\\Ames\\TP3\\Ames-TP3-2315_28_11.TIF\n",
      "found  satellite_images\\2023_val\\Ames\\TP1\\Ames-TP1-2315_28_15.TIF\n",
      "found  satellite_images\\2023_val\\Ames\\TP2\\Ames-TP2-2315_28_15.TIF\n",
      "found  satellite_images\\2023_val\\Ames\\TP3\\Ames-TP3-2315_28_15.TIF\n",
      "found  satellite_images\\2023_val\\Ames\\TP1\\Ames-TP1-2315_38_17.TIF\n"
     ]
    },
    {
     "name": "stderr",
     "output_type": "stream",
     "text": [
      "56it [00:01, 30.79it/s]"
     ]
    },
    {
     "name": "stdout",
     "output_type": "stream",
     "text": [
      "found  satellite_images\\2023_val\\Ames\\TP2\\Ames-TP2-2315_38_17.TIF\n",
      "found  satellite_images\\2023_val\\Ames\\TP3\\Ames-TP3-2315_38_17.TIF\n",
      "found  satellite_images\\2023_val\\Ames\\TP1\\Ames-TP1-2315_45_13.TIF\n",
      "found  satellite_images\\2023_val\\Ames\\TP2\\Ames-TP2-2315_45_13.TIF\n",
      "found  satellite_images\\2023_val\\Ames\\TP3\\Ames-TP3-2315_45_13.TIF\n",
      "found  satellite_images\\2023_val\\Ames\\TP1\\Ames-TP1-2315_33_11.TIF\n",
      "found  satellite_images\\2023_val\\Ames\\TP2\\Ames-TP2-2315_33_11.TIF\n",
      "found  satellite_images\\2023_val\\Ames\\TP3\\Ames-TP3-2315_33_11.TIF\n",
      "found  satellite_images\\2023_val\\Ames\\TP1\\Ames-TP1-2315_29_11.TIF\n",
      "found  satellite_images\\2023_val\\Ames\\TP2\\Ames-TP2-2315_29_11.TIF\n",
      "found  satellite_images\\2023_val\\Ames\\TP3\\Ames-TP3-2315_29_11.TIF\n",
      "found  satellite_images\\2023_val\\Ames\\TP1\\Ames-TP1-2315_39_17.TIF\n",
      "found  satellite_images\\2023_val\\Ames\\TP2\\Ames-TP2-2315_39_17.TIF\n",
      "found  satellite_images\\2023_val\\Ames\\TP3\\Ames-TP3-2315_39_17.TIF\n",
      "found  satellite_images\\2023_val\\Ames\\TP1\\Ames-TP1-2315_36_11.TIF\n",
      "found  satellite_images\\2023_val\\Ames\\TP2\\Ames-TP2-2315_36_11.TIF\n",
      "found  satellite_images\\2023_val\\Ames\\TP3\\Ames-TP3-2315_36_11.TIF\n",
      "found  satellite_images\\2023_val\\Ames\\TP1\\Ames-TP1-2315_34_17.TIF\n",
      "found  satellite_images\\2023_val\\Ames\\TP2\\Ames-TP2-2315_34_17.TIF\n",
      "found  satellite_images\\2023_val\\Ames\\TP3\\Ames-TP3-2315_34_17.TIF\n"
     ]
    },
    {
     "name": "stderr",
     "output_type": "stream",
     "text": [
      "60it [00:01, 30.63it/s]"
     ]
    },
    {
     "name": "stdout",
     "output_type": "stream",
     "text": [
      "found  satellite_images\\2023_val\\Ames\\TP1\\Ames-TP1-2315_32_13.TIF\n",
      "found  satellite_images\\2023_val\\Ames\\TP2\\Ames-TP2-2315_32_13.TIF\n",
      "found  satellite_images\\2023_val\\Ames\\TP3\\Ames-TP3-2315_32_13.TIF\n",
      "found  satellite_images\\2023_val\\Ames\\TP1\\Ames-TP1-2315_41_17.TIF\n",
      "found  satellite_images\\2023_val\\Ames\\TP2\\Ames-TP2-2315_41_17.TIF\n",
      "found  satellite_images\\2023_val\\Ames\\TP3\\Ames-TP3-2315_41_17.TIF\n",
      "found  satellite_images\\2023_val\\Ames\\TP1\\Ames-TP1-2315_25_13.TIF\n",
      "found  satellite_images\\2023_val\\Ames\\TP2\\Ames-TP2-2315_25_13.TIF\n",
      "found  satellite_images\\2023_val\\Ames\\TP3\\Ames-TP3-2315_25_13.TIF\n",
      "found  satellite_images\\2023_val\\Ames\\TP1\\Ames-TP1-2315_44_17.TIF\n",
      "found  satellite_images\\2023_val\\Ames\\TP2\\Ames-TP2-2315_44_17.TIF\n",
      "found  satellite_images\\2023_val\\Ames\\TP3\\Ames-TP3-2315_44_17.TIF\n",
      "found  satellite_images\\2023_val\\Ames\\TP1\\Ames-TP1-2315_44_11.TIF\n",
      "found  satellite_images\\2023_val\\Ames\\TP2\\Ames-TP2-2315_44_11.TIF\n",
      "found  satellite_images\\2023_val\\Ames\\TP3\\Ames-TP3-2315_44_11.TIF\n",
      "found  satellite_images\\2023_val\\Ames\\TP1\\Ames-TP1-2315_38_11.TIF\n",
      "found  satellite_images\\2023_val\\Ames\\TP2\\Ames-TP2-2315_38_11.TIF\n"
     ]
    },
    {
     "name": "stderr",
     "output_type": "stream",
     "text": [
      "68it [00:02, 30.01it/s]"
     ]
    },
    {
     "name": "stdout",
     "output_type": "stream",
     "text": [
      "found  satellite_images\\2023_val\\Ames\\TP3\\Ames-TP3-2315_38_11.TIF\n",
      "found  satellite_images\\2023_val\\Ames\\TP1\\Ames-TP1-2315_31_17.TIF\n",
      "found  satellite_images\\2023_val\\Ames\\TP2\\Ames-TP2-2315_31_17.TIF\n",
      "found  satellite_images\\2023_val\\Ames\\TP3\\Ames-TP3-2315_31_17.TIF\n",
      "found  satellite_images\\2023_val\\Ames\\TP1\\Ames-TP1-2315_29_17.TIF\n",
      "found  satellite_images\\2023_val\\Ames\\TP2\\Ames-TP2-2315_29_17.TIF\n",
      "found  satellite_images\\2023_val\\Ames\\TP3\\Ames-TP3-2315_29_17.TIF\n",
      "found  satellite_images\\2023_val\\Ames\\TP1\\Ames-TP1-2315_35_13.TIF\n",
      "found  satellite_images\\2023_val\\Ames\\TP2\\Ames-TP2-2315_35_13.TIF\n",
      "found  satellite_images\\2023_val\\Ames\\TP3\\Ames-TP3-2315_35_13.TIF\n",
      "found  satellite_images\\2023_val\\Ames\\TP1\\Ames-TP1-2315_28_17.TIF\n",
      "found  satellite_images\\2023_val\\Ames\\TP2\\Ames-TP2-2315_28_17.TIF\n",
      "found  satellite_images\\2023_val\\Ames\\TP3\\Ames-TP3-2315_28_17.TIF\n",
      "found  satellite_images\\2023_val\\Ames\\TP1\\Ames-TP1-2315_26_15.TIF\n",
      "found  satellite_images\\2023_val\\Ames\\TP2\\Ames-TP2-2315_26_15.TIF\n",
      "found  satellite_images\\2023_val\\Ames\\TP3\\Ames-TP3-2315_26_15.TIF\n",
      "found  satellite_images\\2023_val\\Ames\\TP1\\Ames-TP1-2315_37_15.TIF\n",
      "found  satellite_images\\2023_val\\Ames\\TP2\\Ames-TP2-2315_37_15.TIF\n",
      "found  satellite_images\\2023_val\\Ames\\TP3\\Ames-TP3-2315_37_15.TIF\n"
     ]
    },
    {
     "name": "stderr",
     "output_type": "stream",
     "text": [
      "72it [00:02, 28.97it/s]"
     ]
    },
    {
     "name": "stdout",
     "output_type": "stream",
     "text": [
      "found  satellite_images\\2023_val\\Ames\\TP1\\Ames-TP1-2315_31_13.TIF\n",
      "found  satellite_images\\2023_val\\Ames\\TP2\\Ames-TP2-2315_31_13.TIF\n",
      "found  satellite_images\\2023_val\\Ames\\TP3\\Ames-TP3-2315_31_13.TIF\n",
      "found  satellite_images\\2023_val\\Ames\\TP1\\Ames-TP1-2315_38_15.TIF\n",
      "found  satellite_images\\2023_val\\Ames\\TP2\\Ames-TP2-2315_38_15.TIF\n",
      "found  satellite_images\\2023_val\\Ames\\TP3\\Ames-TP3-2315_38_15.TIF\n",
      "found  satellite_images\\2023_val\\Ames\\TP1\\Ames-TP1-2315_32_11.TIF\n",
      "found  satellite_images\\2023_val\\Ames\\TP2\\Ames-TP2-2315_32_11.TIF\n",
      "found  satellite_images\\2023_val\\Ames\\TP3\\Ames-TP3-2315_32_11.TIF\n",
      "found  satellite_images\\2023_val\\Ames\\TP1\\Ames-TP1-2315_39_13.TIF\n",
      "found  satellite_images\\2023_val\\Ames\\TP2\\Ames-TP2-2315_39_13.TIF\n",
      "found  satellite_images\\2023_val\\Ames\\TP3\\Ames-TP3-2315_39_13.TIF\n",
      "found  satellite_images\\2023_val\\Ames\\TP1\\Ames-TP1-2315_42_13.TIF\n",
      "found  satellite_images\\2023_val\\Ames\\TP2\\Ames-TP2-2315_42_13.TIF\n",
      "found  satellite_images\\2023_val\\Ames\\TP3\\Ames-TP3-2315_42_13.TIF\n",
      "found  satellite_images\\2023_val\\Ames\\TP1\\Ames-TP1-2315_24_11.TIF\n",
      "found  satellite_images\\2023_val\\Ames\\TP2\\Ames-TP2-2315_24_11.TIF\n"
     ]
    },
    {
     "name": "stderr",
     "output_type": "stream",
     "text": [
      "79it [00:02, 29.35it/s]"
     ]
    },
    {
     "name": "stdout",
     "output_type": "stream",
     "text": [
      "found  satellite_images\\2023_val\\Ames\\TP3\\Ames-TP3-2315_24_11.TIF\n",
      "found  satellite_images\\2023_val\\Ames\\TP1\\Ames-TP1-2315_41_13.TIF\n",
      "found  satellite_images\\2023_val\\Ames\\TP2\\Ames-TP2-2315_41_13.TIF\n",
      "found  satellite_images\\2023_val\\Ames\\TP3\\Ames-TP3-2315_41_13.TIF\n",
      "found  satellite_images\\2023_val\\Ames\\TP1\\Ames-TP1-2315_32_17.TIF\n",
      "found  satellite_images\\2023_val\\Ames\\TP2\\Ames-TP2-2315_32_17.TIF\n",
      "found  satellite_images\\2023_val\\Ames\\TP3\\Ames-TP3-2315_32_17.TIF\n",
      "found  satellite_images\\2023_val\\Ames\\TP1\\Ames-TP1-2315_26_11.TIF\n",
      "found  satellite_images\\2023_val\\Ames\\TP2\\Ames-TP2-2315_26_11.TIF\n",
      "found  satellite_images\\2023_val\\Ames\\TP3\\Ames-TP3-2315_26_11.TIF\n",
      "found  satellite_images\\2023_val\\Ames\\TP1\\Ames-TP1-2315_42_17.TIF\n",
      "found  satellite_images\\2023_val\\Ames\\TP2\\Ames-TP2-2315_42_17.TIF\n",
      "found  satellite_images\\2023_val\\Ames\\TP3\\Ames-TP3-2315_42_17.TIF\n",
      "found  satellite_images\\2023_val\\Ames\\TP1\\Ames-TP1-2315_42_11.TIF\n",
      "found  satellite_images\\2023_val\\Ames\\TP2\\Ames-TP2-2315_42_11.TIF\n",
      "found  satellite_images\\2023_val\\Ames\\TP3\\Ames-TP3-2315_42_11.TIF\n",
      "found  satellite_images\\2023_val\\Ames\\TP1\\Ames-TP1-2315_33_17.TIF\n",
      "found  satellite_images\\2023_val\\Ames\\TP2\\Ames-TP2-2315_33_17.TIF\n",
      "found  satellite_images\\2023_val\\Ames\\TP3\\Ames-TP3-2315_33_17.TIF\n",
      "found  satellite_images\\2023_val\\Ames\\TP1\\Ames-TP1-2315_27_17.TIF\n"
     ]
    },
    {
     "name": "stderr",
     "output_type": "stream",
     "text": [
      "87it [00:02, 31.42it/s]"
     ]
    },
    {
     "name": "stdout",
     "output_type": "stream",
     "text": [
      "found  satellite_images\\2023_val\\Ames\\TP2\\Ames-TP2-2315_27_17.TIF\n",
      "found  satellite_images\\2023_val\\Ames\\TP3\\Ames-TP3-2315_27_17.TIF\n",
      "found  satellite_images\\2023_val\\Ames\\TP1\\Ames-TP1-2315_40_15.TIF\n",
      "found  satellite_images\\2023_val\\Ames\\TP2\\Ames-TP2-2315_40_15.TIF\n",
      "found  satellite_images\\2023_val\\Ames\\TP3\\Ames-TP3-2315_40_15.TIF\n",
      "found  satellite_images\\2023_val\\Ames\\TP1\\Ames-TP1-2325_3_39.TIF\n",
      "found  satellite_images\\2023_val\\Ames\\TP2\\Ames-TP2-2325_3_39.TIF\n",
      "found  satellite_images\\2023_val\\Ames\\TP3\\Ames-TP3-2325_3_39.TIF\n",
      "found  satellite_images\\2023_val\\Ames\\TP1\\Ames-TP1-2325_4_37.TIF\n",
      "found  satellite_images\\2023_val\\Ames\\TP2\\Ames-TP2-2325_4_37.TIF\n",
      "found  satellite_images\\2023_val\\Ames\\TP3\\Ames-TP3-2325_4_37.TIF\n",
      "found  satellite_images\\2023_val\\Ames\\TP1\\Ames-TP1-2325_10_37.TIF\n",
      "found  satellite_images\\2023_val\\Ames\\TP2\\Ames-TP2-2325_10_37.TIF\n",
      "found  satellite_images\\2023_val\\Ames\\TP3\\Ames-TP3-2325_10_37.TIF\n",
      "found  satellite_images\\2023_val\\Ames\\TP1\\Ames-TP1-2325_13_37.TIF\n",
      "found  satellite_images\\2023_val\\Ames\\TP2\\Ames-TP2-2325_13_37.TIF\n",
      "found  satellite_images\\2023_val\\Ames\\TP3\\Ames-TP3-2325_13_37.TIF\n",
      "found  satellite_images\\2023_val\\Ames\\TP1\\Ames-TP1-2325_7_35.TIF\n",
      "found  satellite_images\\2023_val\\Ames\\TP2\\Ames-TP2-2325_7_35.TIF\n",
      "found  satellite_images\\2023_val\\Ames\\TP3\\Ames-TP3-2325_7_35.TIF\n"
     ]
    },
    {
     "name": "stderr",
     "output_type": "stream",
     "text": [
      "91it [00:02, 29.05it/s]"
     ]
    },
    {
     "name": "stdout",
     "output_type": "stream",
     "text": [
      "found  satellite_images\\2023_val\\Ames\\TP1\\Ames-TP1-2325_21_31.TIF\n",
      "found  satellite_images\\2023_val\\Ames\\TP2\\Ames-TP2-2325_21_31.TIF\n",
      "found  satellite_images\\2023_val\\Ames\\TP3\\Ames-TP3-2325_21_31.TIF\n",
      "found  satellite_images\\2023_val\\Ames\\TP1\\Ames-TP1-2325_12_33.TIF\n",
      "found  satellite_images\\2023_val\\Ames\\TP2\\Ames-TP2-2325_12_33.TIF\n",
      "found  satellite_images\\2023_val\\Ames\\TP3\\Ames-TP3-2325_12_33.TIF\n",
      "found  satellite_images\\2023_val\\Ames\\TP1\\Ames-TP1-2325_17_33.TIF\n",
      "found  satellite_images\\2023_val\\Ames\\TP2\\Ames-TP2-2325_17_33.TIF\n",
      "found  satellite_images\\2023_val\\Ames\\TP3\\Ames-TP3-2325_17_33.TIF\n",
      "found  satellite_images\\2023_val\\Ames\\TP1\\Ames-TP1-2325_7_33.TIF\n",
      "found  satellite_images\\2023_val\\Ames\\TP2\\Ames-TP2-2325_7_33.TIF\n",
      "found  satellite_images\\2023_val\\Ames\\TP3\\Ames-TP3-2325_7_33.TIF\n",
      "found  satellite_images\\2023_val\\Ames\\TP1\\Ames-TP1-2325_22_33.TIF\n"
     ]
    },
    {
     "name": "stderr",
     "output_type": "stream",
     "text": [
      "95it [00:02, 30.42it/s]"
     ]
    },
    {
     "name": "stdout",
     "output_type": "stream",
     "text": [
      "found  satellite_images\\2023_val\\Ames\\TP2\\Ames-TP2-2325_22_33.TIF\n",
      "found  satellite_images\\2023_val\\Ames\\TP3\\Ames-TP3-2325_22_33.TIF\n",
      "found  satellite_images\\2023_val\\Ames\\TP1\\Ames-TP1-2325_9_35.TIF\n",
      "found  satellite_images\\2023_val\\Ames\\TP2\\Ames-TP2-2325_9_35.TIF\n",
      "found  satellite_images\\2023_val\\Ames\\TP3\\Ames-TP3-2325_9_35.TIF\n",
      "found  satellite_images\\2023_val\\Ames\\TP1\\Ames-TP1-2325_10_41.TIF\n",
      "found  satellite_images\\2023_val\\Ames\\TP2\\Ames-TP2-2325_10_41.TIF\n",
      "found  satellite_images\\2023_val\\Ames\\TP3\\Ames-TP3-2325_10_41.TIF\n",
      "found  satellite_images\\2023_val\\Ames\\TP1\\Ames-TP1-2325_7_31.TIF\n",
      "found  satellite_images\\2023_val\\Ames\\TP2\\Ames-TP2-2325_7_31.TIF\n",
      "found  satellite_images\\2023_val\\Ames\\TP3\\Ames-TP3-2325_7_31.TIF\n",
      "found  satellite_images\\2023_val\\Ames\\TP1\\Ames-TP1-2325_4_33.TIF\n",
      "found  satellite_images\\2023_val\\Ames\\TP2\\Ames-TP2-2325_4_33.TIF\n",
      "found  satellite_images\\2023_val\\Ames\\TP3\\Ames-TP3-2325_4_33.TIF\n",
      "found  satellite_images\\2023_val\\Ames\\TP1\\Ames-TP1-2325_9_31.TIF\n",
      "found  satellite_images\\2023_val\\Ames\\TP2\\Ames-TP2-2325_9_31.TIF\n",
      "found  satellite_images\\2023_val\\Ames\\TP3\\Ames-TP3-2325_9_31.TIF\n",
      "found  satellite_images\\2023_val\\Ames\\TP1\\Ames-TP1-2325_2_39.TIF\n",
      "found  satellite_images\\2023_val\\Ames\\TP2\\Ames-TP2-2325_2_39.TIF\n"
     ]
    },
    {
     "name": "stderr",
     "output_type": "stream",
     "text": [
      "103it [00:03, 32.35it/s]"
     ]
    },
    {
     "name": "stdout",
     "output_type": "stream",
     "text": [
      "found  satellite_images\\2023_val\\Ames\\TP3\\Ames-TP3-2325_2_39.TIF\n",
      "found  satellite_images\\2023_val\\Ames\\TP1\\Ames-TP1-2325_18_35.TIF\n",
      "found  satellite_images\\2023_val\\Ames\\TP2\\Ames-TP2-2325_18_35.TIF\n",
      "found  satellite_images\\2023_val\\Ames\\TP3\\Ames-TP3-2325_18_35.TIF\n",
      "found  satellite_images\\2023_val\\Ames\\TP1\\Ames-TP1-2325_18_31.TIF\n",
      "found  satellite_images\\2023_val\\Ames\\TP2\\Ames-TP2-2325_18_31.TIF\n",
      "found  satellite_images\\2023_val\\Ames\\TP3\\Ames-TP3-2325_18_31.TIF\n",
      "found  satellite_images\\2023_val\\Ames\\TP1\\Ames-TP1-2325_6_33.TIF\n",
      "found  satellite_images\\2023_val\\Ames\\TP2\\Ames-TP2-2325_6_33.TIF\n",
      "found  satellite_images\\2023_val\\Ames\\TP3\\Ames-TP3-2325_6_33.TIF\n",
      "found  satellite_images\\2023_val\\Ames\\TP1\\Ames-TP1-2325_6_37.TIF\n",
      "found  satellite_images\\2023_val\\Ames\\TP2\\Ames-TP2-2325_6_37.TIF\n",
      "found  satellite_images\\2023_val\\Ames\\TP3\\Ames-TP3-2325_6_37.TIF\n",
      "found  satellite_images\\2023_val\\Ames\\TP1\\Ames-TP1-2325_5_37.TIF\n",
      "found  satellite_images\\2023_val\\Ames\\TP2\\Ames-TP2-2325_5_37.TIF\n",
      "found  satellite_images\\2023_val\\Ames\\TP3\\Ames-TP3-2325_5_37.TIF\n",
      "found  satellite_images\\2023_val\\Ames\\TP1\\Ames-TP1-2325_6_41.TIF\n",
      "found  satellite_images\\2023_val\\Ames\\TP2\\Ames-TP2-2325_6_41.TIF\n",
      "found  satellite_images\\2023_val\\Ames\\TP3\\Ames-TP3-2325_6_41.TIF\n",
      "found  satellite_images\\2023_val\\Ames\\TP1\\Ames-TP1-2325_8_31.TIF\n",
      "found  satellite_images\\2023_val\\Ames\\TP2\\Ames-TP2-2325_8_31.TIF\n",
      "found  satellite_images\\2023_val\\Ames\\TP3\\Ames-TP3-2325_8_31.TIF\n",
      "found  satellite_images\\2023_val\\Ames\\TP1\\Ames-TP1-2325_16_41.TIF\n",
      "found  satellite_images\\2023_val\\Ames\\TP2\\Ames-TP2-2325_16_41.TIF\n"
     ]
    },
    {
     "name": "stderr",
     "output_type": "stream",
     "text": [
      "111it [00:03, 34.12it/s]"
     ]
    },
    {
     "name": "stdout",
     "output_type": "stream",
     "text": [
      "found  satellite_images\\2023_val\\Ames\\TP3\\Ames-TP3-2325_16_41.TIF\n",
      "found  satellite_images\\2023_val\\Ames\\TP1\\Ames-TP1-2325_3_37.TIF\n",
      "found  satellite_images\\2023_val\\Ames\\TP2\\Ames-TP2-2325_3_37.TIF\n",
      "found  satellite_images\\2023_val\\Ames\\TP3\\Ames-TP3-2325_3_37.TIF\n",
      "found  satellite_images\\2023_val\\Ames\\TP1\\Ames-TP1-2325_3_41.TIF\n",
      "found  satellite_images\\2023_val\\Ames\\TP2\\Ames-TP2-2325_3_41.TIF\n",
      "found  satellite_images\\2023_val\\Ames\\TP3\\Ames-TP3-2325_3_41.TIF\n",
      "found  satellite_images\\2023_val\\Ames\\TP1\\Ames-TP1-2325_2_37.TIF\n",
      "found  satellite_images\\2023_val\\Ames\\TP2\\Ames-TP2-2325_2_37.TIF\n",
      "found  satellite_images\\2023_val\\Ames\\TP3\\Ames-TP3-2325_2_37.TIF\n",
      "found  satellite_images\\2023_val\\Ames\\TP1\\Ames-TP1-2325_7_41.TIF\n",
      "found  satellite_images\\2023_val\\Ames\\TP2\\Ames-TP2-2325_7_41.TIF\n",
      "found  satellite_images\\2023_val\\Ames\\TP3\\Ames-TP3-2325_7_41.TIF\n",
      "found  satellite_images\\2023_val\\Ames\\TP1\\Ames-TP1-2325_9_37.TIF\n",
      "found  satellite_images\\2023_val\\Ames\\TP2\\Ames-TP2-2325_9_37.TIF\n",
      "found  satellite_images\\2023_val\\Ames\\TP3\\Ames-TP3-2325_9_37.TIF\n",
      "found  satellite_images\\2023_val\\Ames\\TP1\\Ames-TP1-2325_13_35.TIF\n",
      "found  satellite_images\\2023_val\\Ames\\TP2\\Ames-TP2-2325_13_35.TIF\n",
      "found  satellite_images\\2023_val\\Ames\\TP3\\Ames-TP3-2325_13_35.TIF\n",
      "found  satellite_images\\2023_val\\Ames\\TP1\\Ames-TP1-2325_2_31.TIF\n",
      "found  satellite_images\\2023_val\\Ames\\TP2\\Ames-TP2-2325_2_31.TIF\n",
      "found  satellite_images\\2023_val\\Ames\\TP3\\Ames-TP3-2325_2_31.TIF\n"
     ]
    },
    {
     "name": "stderr",
     "output_type": "stream",
     "text": [
      "119it [00:03, 33.90it/s]"
     ]
    },
    {
     "name": "stdout",
     "output_type": "stream",
     "text": [
      "found  satellite_images\\2023_val\\Ames\\TP1\\Ames-TP1-2325_5_39.TIF\n",
      "found  satellite_images\\2023_val\\Ames\\TP2\\Ames-TP2-2325_5_39.TIF\n",
      "found  satellite_images\\2023_val\\Ames\\TP3\\Ames-TP3-2325_5_39.TIF\n",
      "found  satellite_images\\2023_val\\Ames\\TP1\\Ames-TP1-2325_10_33.TIF\n",
      "found  satellite_images\\2023_val\\Ames\\TP2\\Ames-TP2-2325_10_33.TIF\n",
      "found  satellite_images\\2023_val\\Ames\\TP3\\Ames-TP3-2325_10_33.TIF\n",
      "found  satellite_images\\2023_val\\Ames\\TP1\\Ames-TP1-2325_8_39.TIF\n",
      "found  satellite_images\\2023_val\\Ames\\TP2\\Ames-TP2-2325_8_39.TIF\n",
      "found  satellite_images\\2023_val\\Ames\\TP3\\Ames-TP3-2325_8_39.TIF\n",
      "found  satellite_images\\2023_val\\Ames\\TP1\\Ames-TP1-2325_16_31.TIF\n",
      "found  satellite_images\\2023_val\\Ames\\TP2\\Ames-TP2-2325_16_31.TIF\n",
      "found  satellite_images\\2023_val\\Ames\\TP3\\Ames-TP3-2325_16_31.TIF\n",
      "found  satellite_images\\2023_val\\Ames\\TP1\\Ames-TP1-2325_17_31.TIF\n",
      "found  satellite_images\\2023_val\\Ames\\TP2\\Ames-TP2-2325_17_31.TIF\n",
      "found  satellite_images\\2023_val\\Ames\\TP3\\Ames-TP3-2325_17_31.TIF\n",
      "found  satellite_images\\2023_val\\Ames\\TP1\\Ames-TP1-2325_5_31.TIF\n",
      "found  satellite_images\\2023_val\\Ames\\TP2\\Ames-TP2-2325_5_31.TIF\n",
      "found  satellite_images\\2023_val\\Ames\\TP3\\Ames-TP3-2325_5_31.TIF\n",
      "found  satellite_images\\2023_val\\Ames\\TP1\\Ames-TP1-2325_2_41.TIF\n",
      "found  satellite_images\\2023_val\\Ames\\TP2\\Ames-TP2-2325_2_41.TIF\n",
      "found  satellite_images\\2023_val\\Ames\\TP3\\Ames-TP3-2325_2_41.TIF\n",
      "found  satellite_images\\2023_val\\Ames\\TP1\\Ames-TP1-2325_2_35.TIF\n"
     ]
    },
    {
     "name": "stderr",
     "output_type": "stream",
     "text": [
      "127it [00:03, 34.72it/s]"
     ]
    },
    {
     "name": "stdout",
     "output_type": "stream",
     "text": [
      "found  satellite_images\\2023_val\\Ames\\TP2\\Ames-TP2-2325_2_35.TIF\n",
      "found  satellite_images\\2023_val\\Ames\\TP3\\Ames-TP3-2325_2_35.TIF\n",
      "found  satellite_images\\2023_val\\Ames\\TP1\\Ames-TP1-2325_16_37.TIF\n",
      "found  satellite_images\\2023_val\\Ames\\TP2\\Ames-TP2-2325_16_37.TIF\n",
      "found  satellite_images\\2023_val\\Ames\\TP3\\Ames-TP3-2325_16_37.TIF\n",
      "found  satellite_images\\2023_val\\Ames\\TP1\\Ames-TP1-2325_12_41.TIF\n",
      "found  satellite_images\\2023_val\\Ames\\TP2\\Ames-TP2-2325_12_41.TIF\n",
      "found  satellite_images\\2023_val\\Ames\\TP3\\Ames-TP3-2325_12_41.TIF\n",
      "found  satellite_images\\2023_val\\Ames\\TP1\\Ames-TP1-2325_8_35.TIF\n",
      "found  satellite_images\\2023_val\\Ames\\TP2\\Ames-TP2-2325_8_35.TIF\n",
      "found  satellite_images\\2023_val\\Ames\\TP3\\Ames-TP3-2325_8_35.TIF\n",
      "found  satellite_images\\2023_val\\Ames\\TP1\\Ames-TP1-2325_20_37.TIF\n",
      "found  satellite_images\\2023_val\\Ames\\TP2\\Ames-TP2-2325_20_37.TIF\n",
      "found  satellite_images\\2023_val\\Ames\\TP3\\Ames-TP3-2325_20_37.TIF\n",
      "found  satellite_images\\2023_val\\Ames\\TP1\\Ames-TP1-2325_5_35.TIF\n",
      "found  satellite_images\\2023_val\\Ames\\TP2\\Ames-TP2-2325_5_35.TIF\n",
      "found  satellite_images\\2023_val\\Ames\\TP3\\Ames-TP3-2325_5_35.TIF\n",
      "found  satellite_images\\2023_val\\Ames\\TP1\\Ames-TP1-2325_17_41.TIF\n",
      "found  satellite_images\\2023_val\\Ames\\TP2\\Ames-TP2-2325_17_41.TIF\n",
      "found  satellite_images\\2023_val\\Ames\\TP3\\Ames-TP3-2325_17_41.TIF\n"
     ]
    },
    {
     "name": "stderr",
     "output_type": "stream",
     "text": [
      "131it [00:04, 33.21it/s]"
     ]
    },
    {
     "name": "stdout",
     "output_type": "stream",
     "text": [
      "found  satellite_images\\2023_val\\Ames\\TP1\\Ames-TP1-2325_17_39.TIF\n",
      "found  satellite_images\\2023_val\\Ames\\TP2\\Ames-TP2-2325_17_39.TIF\n",
      "found  satellite_images\\2023_val\\Ames\\TP3\\Ames-TP3-2325_17_39.TIF\n",
      "found  satellite_images\\2023_val\\Ames\\TP1\\Ames-TP1-2325_15_31.TIF\n",
      "found  satellite_images\\2023_val\\Ames\\TP2\\Ames-TP2-2325_15_31.TIF\n",
      "found  satellite_images\\2023_val\\Ames\\TP3\\Ames-TP3-2325_15_31.TIF\n",
      "found  satellite_images\\2023_val\\Ames\\TP1\\Ames-TP1-2325_10_39.TIF\n",
      "found  satellite_images\\2023_val\\Ames\\TP2\\Ames-TP2-2325_10_39.TIF\n",
      "found  satellite_images\\2023_val\\Ames\\TP3\\Ames-TP3-2325_10_39.TIF\n",
      "found  satellite_images\\2023_val\\Ames\\TP1\\Ames-TP1-2325_19_33.TIF\n",
      "found  satellite_images\\2023_val\\Ames\\TP2\\Ames-TP2-2325_19_33.TIF\n",
      "found  satellite_images\\2023_val\\Ames\\TP3\\Ames-TP3-2325_19_33.TIF\n",
      "found  satellite_images\\2023_val\\Ames\\TP1\\Ames-TP1-2325_18_37.TIF\n",
      "found  satellite_images\\2023_val\\Ames\\TP2\\Ames-TP2-2325_18_37.TIF\n",
      "found  satellite_images\\2023_val\\Ames\\TP3\\Ames-TP3-2325_18_37.TIF\n",
      "found  satellite_images\\2023_val\\Ames\\TP1\\Ames-TP1-2325_18_41.TIF\n",
      "found  satellite_images\\2023_val\\Ames\\TP2\\Ames-TP2-2325_18_41.TIF\n",
      "found  satellite_images\\2023_val\\Ames\\TP3\\Ames-TP3-2325_18_41.TIF\n",
      "found  satellite_images\\2023_val\\Ames\\TP1\\Ames-TP1-2325_5_33.TIF\n"
     ]
    },
    {
     "name": "stderr",
     "output_type": "stream",
     "text": [
      "139it [00:04, 31.66it/s]"
     ]
    },
    {
     "name": "stdout",
     "output_type": "stream",
     "text": [
      "found  satellite_images\\2023_val\\Ames\\TP2\\Ames-TP2-2325_5_33.TIF\n",
      "found  satellite_images\\2023_val\\Ames\\TP3\\Ames-TP3-2325_5_33.TIF\n",
      "found  satellite_images\\2023_val\\Ames\\TP1\\Ames-TP1-2325_19_37.TIF\n",
      "found  satellite_images\\2023_val\\Ames\\TP2\\Ames-TP2-2325_19_37.TIF\n",
      "found  satellite_images\\2023_val\\Ames\\TP3\\Ames-TP3-2325_19_37.TIF\n",
      "found  satellite_images\\2023_val\\Ames\\TP1\\Ames-TP1-2325_22_31.TIF\n",
      "found  satellite_images\\2023_val\\Ames\\TP2\\Ames-TP2-2325_22_31.TIF\n",
      "found  satellite_images\\2023_val\\Ames\\TP3\\Ames-TP3-2325_22_31.TIF\n",
      "found  satellite_images\\2023_val\\Ames\\TP1\\Ames-TP1-2325_13_41.TIF\n",
      "found  satellite_images\\2023_val\\Ames\\TP2\\Ames-TP2-2325_13_41.TIF\n",
      "found  satellite_images\\2023_val\\Ames\\TP3\\Ames-TP3-2325_13_41.TIF\n",
      "found  satellite_images\\2023_val\\Ames\\TP1\\Ames-TP1-2325_20_39.TIF\n",
      "found  satellite_images\\2023_val\\Ames\\TP2\\Ames-TP2-2325_20_39.TIF\n",
      "found  satellite_images\\2023_val\\Ames\\TP3\\Ames-TP3-2325_20_39.TIF\n",
      "found  satellite_images\\2023_val\\Ames\\TP1\\Ames-TP1-2325_21_41.TIF\n",
      "found  satellite_images\\2023_val\\Ames\\TP2\\Ames-TP2-2325_21_41.TIF\n",
      "found  satellite_images\\2023_val\\Ames\\TP3\\Ames-TP3-2325_21_41.TIF\n",
      "found  satellite_images\\2023_val\\Ames\\TP1\\Ames-TP1-2325_11_41.TIF\n",
      "found  satellite_images\\2023_val\\Ames\\TP2\\Ames-TP2-2325_11_41.TIF\n"
     ]
    },
    {
     "name": "stderr",
     "output_type": "stream",
     "text": [
      "143it [00:04, 30.65it/s]"
     ]
    },
    {
     "name": "stdout",
     "output_type": "stream",
     "text": [
      "found  satellite_images\\2023_val\\Ames\\TP3\\Ames-TP3-2325_11_41.TIF\n",
      "found  satellite_images\\2023_val\\Ames\\TP1\\Ames-TP1-2325_3_35.TIF\n",
      "found  satellite_images\\2023_val\\Ames\\TP2\\Ames-TP2-2325_3_35.TIF\n",
      "found  satellite_images\\2023_val\\Ames\\TP3\\Ames-TP3-2325_3_35.TIF\n",
      "found  satellite_images\\2023_val\\Ames\\TP1\\Ames-TP1-2325_23_41.TIF\n",
      "found  satellite_images\\2023_val\\Ames\\TP2\\Ames-TP2-2325_23_41.TIF\n",
      "found  satellite_images\\2023_val\\Ames\\TP3\\Ames-TP3-2325_23_41.TIF\n",
      "found  satellite_images\\2023_val\\Ames\\TP1\\Ames-TP1-2325_33_37.TIF\n",
      "found  satellite_images\\2023_val\\Ames\\TP2\\Ames-TP2-2325_33_37.TIF\n",
      "found  satellite_images\\2023_val\\Ames\\TP3\\Ames-TP3-2325_33_37.TIF\n",
      "found  satellite_images\\2023_val\\Ames\\TP1\\Ames-TP1-2325_25_41.TIF\n",
      "found  satellite_images\\2023_val\\Ames\\TP2\\Ames-TP2-2325_25_41.TIF\n",
      "found  satellite_images\\2023_val\\Ames\\TP3\\Ames-TP3-2325_25_41.TIF\n",
      "found  satellite_images\\2023_val\\Ames\\TP1\\Ames-TP1-2325_31_37.TIF\n",
      "found  satellite_images\\2023_val\\Ames\\TP2\\Ames-TP2-2325_31_37.TIF\n",
      "found  satellite_images\\2023_val\\Ames\\TP3\\Ames-TP3-2325_31_37.TIF\n",
      "found  satellite_images\\2023_val\\Ames\\TP1\\Ames-TP1-2325_32_39.TIF\n",
      "found  satellite_images\\2023_val\\Ames\\TP2\\Ames-TP2-2325_32_39.TIF\n"
     ]
    },
    {
     "name": "stderr",
     "output_type": "stream",
     "text": [
      "151it [00:04, 28.79it/s]"
     ]
    },
    {
     "name": "stdout",
     "output_type": "stream",
     "text": [
      "found  satellite_images\\2023_val\\Ames\\TP3\\Ames-TP3-2325_32_39.TIF\n",
      "found  satellite_images\\2023_val\\Ames\\TP1\\Ames-TP1-2325_42_37.TIF\n",
      "found  satellite_images\\2023_val\\Ames\\TP2\\Ames-TP2-2325_42_37.TIF\n",
      "found  satellite_images\\2023_val\\Ames\\TP3\\Ames-TP3-2325_42_37.TIF\n",
      "found  satellite_images\\2023_val\\Ames\\TP1\\Ames-TP1-2325_34_31.TIF\n",
      "found  satellite_images\\2023_val\\Ames\\TP2\\Ames-TP2-2325_34_31.TIF\n",
      "found  satellite_images\\2023_val\\Ames\\TP3\\Ames-TP3-2325_34_31.TIF\n",
      "found  satellite_images\\2023_val\\Ames\\TP1\\Ames-TP1-2325_32_31.TIF\n",
      "found  satellite_images\\2023_val\\Ames\\TP2\\Ames-TP2-2325_32_31.TIF\n",
      "found  satellite_images\\2023_val\\Ames\\TP3\\Ames-TP3-2325_32_31.TIF\n",
      "found  satellite_images\\2023_val\\Ames\\TP1\\Ames-TP1-2325_40_35.TIF\n",
      "found  satellite_images\\2023_val\\Ames\\TP2\\Ames-TP2-2325_40_35.TIF\n",
      "found  satellite_images\\2023_val\\Ames\\TP3\\Ames-TP3-2325_40_35.TIF\n",
      "found  satellite_images\\2023_val\\Ames\\TP1\\Ames-TP1-2325_29_41.TIF\n",
      "found  satellite_images\\2023_val\\Ames\\TP2\\Ames-TP2-2325_29_41.TIF\n",
      "found  satellite_images\\2023_val\\Ames\\TP3\\Ames-TP3-2325_29_41.TIF\n",
      "found  satellite_images\\2023_val\\Ames\\TP1\\Ames-TP1-2325_29_39.TIF\n",
      "found  satellite_images\\2023_val\\Ames\\TP2\\Ames-TP2-2325_29_39.TIF\n",
      "found  satellite_images\\2023_val\\Ames\\TP3\\Ames-TP3-2325_29_39.TIF\n",
      "found  satellite_images\\2023_val\\Ames\\TP1\\Ames-TP1-2325_28_35.TIF\n",
      "found  satellite_images\\2023_val\\Ames\\TP2\\Ames-TP2-2325_28_35.TIF\n"
     ]
    },
    {
     "name": "stderr",
     "output_type": "stream",
     "text": [
      "155it [00:04, 29.19it/s]"
     ]
    },
    {
     "name": "stdout",
     "output_type": "stream",
     "text": [
      "found  satellite_images\\2023_val\\Ames\\TP3\\Ames-TP3-2325_28_35.TIF\n",
      "found  satellite_images\\2023_val\\Ames\\TP1\\Ames-TP1-2325_33_35.TIF\n",
      "found  satellite_images\\2023_val\\Ames\\TP2\\Ames-TP2-2325_33_35.TIF\n",
      "found  satellite_images\\2023_val\\Ames\\TP3\\Ames-TP3-2325_33_35.TIF\n",
      "found  satellite_images\\2023_val\\Ames\\TP1\\Ames-TP1-2325_34_35.TIF\n",
      "found  satellite_images\\2023_val\\Ames\\TP2\\Ames-TP2-2325_34_35.TIF\n",
      "found  satellite_images\\2023_val\\Ames\\TP3\\Ames-TP3-2325_34_35.TIF\n",
      "found  satellite_images\\2023_val\\Ames\\TP1\\Ames-TP1-2325_37_37.TIF\n",
      "found  satellite_images\\2023_val\\Ames\\TP2\\Ames-TP2-2325_37_37.TIF\n",
      "found  satellite_images\\2023_val\\Ames\\TP3\\Ames-TP3-2325_37_37.TIF\n",
      "found  satellite_images\\2023_val\\Ames\\TP1\\Ames-TP1-2325_41_37.TIF\n",
      "found  satellite_images\\2023_val\\Ames\\TP2\\Ames-TP2-2325_41_37.TIF\n",
      "found  satellite_images\\2023_val\\Ames\\TP3\\Ames-TP3-2325_41_37.TIF\n",
      "found  satellite_images\\2023_val\\Ames\\TP1\\Ames-TP1-2325_39_41.TIF\n",
      "found  satellite_images\\2023_val\\Ames\\TP2\\Ames-TP2-2325_39_41.TIF\n",
      "found  satellite_images\\2023_val\\Ames\\TP3\\Ames-TP3-2325_39_41.TIF\n",
      "found  satellite_images\\2023_val\\Ames\\TP1\\Ames-TP1-2325_23_37.TIF\n"
     ]
    },
    {
     "name": "stderr",
     "output_type": "stream",
     "text": [
      "163it [00:05, 30.87it/s]"
     ]
    },
    {
     "name": "stdout",
     "output_type": "stream",
     "text": [
      "found  satellite_images\\2023_val\\Ames\\TP2\\Ames-TP2-2325_23_37.TIF\n",
      "found  satellite_images\\2023_val\\Ames\\TP3\\Ames-TP3-2325_23_37.TIF\n",
      "found  satellite_images\\2023_val\\Ames\\TP1\\Ames-TP1-2325_42_33.TIF\n",
      "found  satellite_images\\2023_val\\Ames\\TP2\\Ames-TP2-2325_42_33.TIF\n",
      "found  satellite_images\\2023_val\\Ames\\TP3\\Ames-TP3-2325_42_33.TIF\n",
      "found  satellite_images\\2023_val\\Ames\\TP1\\Ames-TP1-2325_36_35.TIF\n",
      "found  satellite_images\\2023_val\\Ames\\TP2\\Ames-TP2-2325_36_35.TIF\n",
      "found  satellite_images\\2023_val\\Ames\\TP3\\Ames-TP3-2325_36_35.TIF\n",
      "found  satellite_images\\2023_val\\Ames\\TP1\\Ames-TP1-2325_24_37.TIF\n",
      "found  satellite_images\\2023_val\\Ames\\TP2\\Ames-TP2-2325_24_37.TIF\n",
      "found  satellite_images\\2023_val\\Ames\\TP3\\Ames-TP3-2325_24_37.TIF\n",
      "found  satellite_images\\2023_val\\Ames\\TP1\\Ames-TP1-2325_43_39.TIF\n",
      "found  satellite_images\\2023_val\\Ames\\TP2\\Ames-TP2-2325_43_39.TIF\n",
      "found  satellite_images\\2023_val\\Ames\\TP3\\Ames-TP3-2325_43_39.TIF\n",
      "found  satellite_images\\2023_val\\Ames\\TP1\\Ames-TP1-2325_31_31.TIF\n",
      "found  satellite_images\\2023_val\\Ames\\TP2\\Ames-TP2-2325_31_31.TIF\n",
      "found  satellite_images\\2023_val\\Ames\\TP3\\Ames-TP3-2325_31_31.TIF\n",
      "found  satellite_images\\2023_val\\Ames\\TP1\\Ames-TP1-2325_35_37.TIF\n",
      "found  satellite_images\\2023_val\\Ames\\TP2\\Ames-TP2-2325_35_37.TIF\n"
     ]
    },
    {
     "name": "stderr",
     "output_type": "stream",
     "text": [
      "171it [00:05, 31.66it/s]"
     ]
    },
    {
     "name": "stdout",
     "output_type": "stream",
     "text": [
      "found  satellite_images\\2023_val\\Ames\\TP3\\Ames-TP3-2325_35_37.TIF\n",
      "found  satellite_images\\2023_val\\Ames\\TP1\\Ames-TP1-2325_31_33.TIF\n",
      "found  satellite_images\\2023_val\\Ames\\TP2\\Ames-TP2-2325_31_33.TIF\n",
      "found  satellite_images\\2023_val\\Ames\\TP3\\Ames-TP3-2325_31_33.TIF\n",
      "found  satellite_images\\2023_val\\Ames\\TP1\\Ames-TP1-2325_29_33.TIF\n",
      "found  satellite_images\\2023_val\\Ames\\TP2\\Ames-TP2-2325_29_33.TIF\n",
      "found  satellite_images\\2023_val\\Ames\\TP3\\Ames-TP3-2325_29_33.TIF\n",
      "found  satellite_images\\2023_val\\Ames\\TP1\\Ames-TP1-2325_41_33.TIF\n",
      "found  satellite_images\\2023_val\\Ames\\TP2\\Ames-TP2-2325_41_33.TIF\n",
      "found  satellite_images\\2023_val\\Ames\\TP3\\Ames-TP3-2325_41_33.TIF\n",
      "found  satellite_images\\2023_val\\Ames\\TP1\\Ames-TP1-2325_42_31.TIF\n",
      "found  satellite_images\\2023_val\\Ames\\TP2\\Ames-TP2-2325_42_31.TIF\n",
      "found  satellite_images\\2023_val\\Ames\\TP3\\Ames-TP3-2325_42_31.TIF\n",
      "found  satellite_images\\2023_val\\Ames\\TP1\\Ames-TP1-2325_37_41.TIF\n",
      "found  satellite_images\\2023_val\\Ames\\TP2\\Ames-TP2-2325_37_41.TIF\n",
      "found  satellite_images\\2023_val\\Ames\\TP3\\Ames-TP3-2325_37_41.TIF\n",
      "found  satellite_images\\2023_val\\Ames\\TP1\\Ames-TP1-2325_38_41.TIF\n",
      "found  satellite_images\\2023_val\\Ames\\TP2\\Ames-TP2-2325_38_41.TIF\n",
      "found  satellite_images\\2023_val\\Ames\\TP3\\Ames-TP3-2325_38_41.TIF\n"
     ]
    },
    {
     "name": "stderr",
     "output_type": "stream",
     "text": [
      "175it [00:05, 31.32it/s]"
     ]
    },
    {
     "name": "stdout",
     "output_type": "stream",
     "text": [
      "found  satellite_images\\2023_val\\Ames\\TP1\\Ames-TP1-2325_27_33.TIF\n",
      "found  satellite_images\\2023_val\\Ames\\TP2\\Ames-TP2-2325_27_33.TIF\n",
      "found  satellite_images\\2023_val\\Ames\\TP3\\Ames-TP3-2325_27_33.TIF\n",
      "found  satellite_images\\2023_val\\Ames\\TP1\\Ames-TP1-2325_31_35.TIF\n",
      "found  satellite_images\\2023_val\\Ames\\TP2\\Ames-TP2-2325_31_35.TIF\n",
      "found  satellite_images\\2023_val\\Ames\\TP3\\Ames-TP3-2325_31_35.TIF\n",
      "found  satellite_images\\2023_val\\Ames\\TP1\\Ames-TP1-2325_33_33.TIF\n",
      "found  satellite_images\\2023_val\\Ames\\TP2\\Ames-TP2-2325_33_33.TIF\n",
      "found  satellite_images\\2023_val\\Ames\\TP3\\Ames-TP3-2325_33_33.TIF\n",
      "found  satellite_images\\2023_val\\Ames\\TP1\\Ames-TP1-2325_27_31.TIF\n",
      "found  satellite_images\\2023_val\\Ames\\TP2\\Ames-TP2-2325_27_31.TIF\n",
      "found  satellite_images\\2023_val\\Ames\\TP3\\Ames-TP3-2325_27_31.TIF\n",
      "found  satellite_images\\2023_val\\Ames\\TP1\\Ames-TP1-2325_36_41.TIF\n",
      "found  satellite_images\\2023_val\\Ames\\TP2\\Ames-TP2-2325_36_41.TIF\n",
      "found  satellite_images\\2023_val\\Ames\\TP3\\Ames-TP3-2325_36_41.TIF\n",
      "found  satellite_images\\2023_val\\Ames\\TP1\\Ames-TP1-2325_41_31.TIF\n"
     ]
    },
    {
     "name": "stderr",
     "output_type": "stream",
     "text": [
      "183it [00:05, 30.90it/s]"
     ]
    },
    {
     "name": "stdout",
     "output_type": "stream",
     "text": [
      "found  satellite_images\\2023_val\\Ames\\TP2\\Ames-TP2-2325_41_31.TIF\n",
      "found  satellite_images\\2023_val\\Ames\\TP3\\Ames-TP3-2325_41_31.TIF\n",
      "found  satellite_images\\2023_val\\Ames\\TP1\\Ames-TP1-2325_31_39.TIF\n",
      "found  satellite_images\\2023_val\\Ames\\TP2\\Ames-TP2-2325_31_39.TIF\n",
      "found  satellite_images\\2023_val\\Ames\\TP3\\Ames-TP3-2325_31_39.TIF\n",
      "found  satellite_images\\2023_val\\Ames\\TP1\\Ames-TP1-2325_23_35.TIF\n",
      "found  satellite_images\\2023_val\\Ames\\TP2\\Ames-TP2-2325_23_35.TIF\n",
      "found  satellite_images\\2023_val\\Ames\\TP3\\Ames-TP3-2325_23_35.TIF\n",
      "found  satellite_images\\2023_val\\Ames\\TP1\\Ames-TP1-2325_23_33.TIF\n",
      "found  satellite_images\\2023_val\\Ames\\TP2\\Ames-TP2-2325_23_33.TIF\n",
      "found  satellite_images\\2023_val\\Ames\\TP3\\Ames-TP3-2325_23_33.TIF\n",
      "found  satellite_images\\2023_val\\Ames\\TP1\\Ames-TP1-2325_38_39.TIF\n",
      "found  satellite_images\\2023_val\\Ames\\TP2\\Ames-TP2-2325_38_39.TIF\n",
      "found  satellite_images\\2023_val\\Ames\\TP3\\Ames-TP3-2325_38_39.TIF\n",
      "found  satellite_images\\2023_val\\Ames\\TP1\\Ames-TP1-2325_41_35.TIF\n",
      "found  satellite_images\\2023_val\\Ames\\TP2\\Ames-TP2-2325_41_35.TIF\n",
      "found  satellite_images\\2023_val\\Ames\\TP3\\Ames-TP3-2325_41_35.TIF\n",
      "found  satellite_images\\2023_val\\Ames\\TP1\\Ames-TP1-2325_28_33.TIF\n",
      "found  satellite_images\\2023_val\\Ames\\TP2\\Ames-TP2-2325_28_33.TIF\n",
      "found  satellite_images\\2023_val\\Ames\\TP3\\Ames-TP3-2325_28_33.TIF\n"
     ]
    },
    {
     "name": "stderr",
     "output_type": "stream",
     "text": [
      "187it [00:05, 31.70it/s]"
     ]
    },
    {
     "name": "stdout",
     "output_type": "stream",
     "text": [
      "found  satellite_images\\2023_val\\Ames\\TP1\\Ames-TP1-2325_35_41.TIF\n",
      "found  satellite_images\\2023_val\\Ames\\TP2\\Ames-TP2-2325_35_41.TIF\n",
      "found  satellite_images\\2023_val\\Ames\\TP3\\Ames-TP3-2325_35_41.TIF\n",
      "found  satellite_images\\2023_val\\Ames\\TP1\\Ames-TP1-2325_36_39.TIF\n",
      "found  satellite_images\\2023_val\\Ames\\TP2\\Ames-TP2-2325_36_39.TIF\n",
      "found  satellite_images\\2023_val\\Ames\\TP3\\Ames-TP3-2325_36_39.TIF\n",
      "found  satellite_images\\2023_val\\Ames\\TP1\\Ames-TP1-2325_38_31.TIF\n",
      "found  satellite_images\\2023_val\\Ames\\TP2\\Ames-TP2-2325_38_31.TIF\n",
      "found  satellite_images\\2023_val\\Ames\\TP3\\Ames-TP3-2325_38_31.TIF\n",
      "found  satellite_images\\2023_val\\Ames\\TP1\\Ames-TP1-2325_38_33.TIF\n",
      "found  satellite_images\\2023_val\\Ames\\TP2\\Ames-TP2-2325_38_33.TIF\n",
      "found  satellite_images\\2023_val\\Ames\\TP3\\Ames-TP3-2325_38_33.TIF\n",
      "found  satellite_images\\2023_val\\Ames\\TP1\\Ames-TP1-2325_23_39.TIF\n",
      "found  satellite_images\\2023_val\\Ames\\TP2\\Ames-TP2-2325_23_39.TIF\n",
      "found  satellite_images\\2023_val\\Ames\\TP3\\Ames-TP3-2325_23_39.TIF\n",
      "found  satellite_images\\2023_val\\Ames\\TP1\\Ames-TP1-2325_37_35.TIF\n",
      "found  satellite_images\\2023_val\\Ames\\TP2\\Ames-TP2-2325_37_35.TIF\n",
      "found  satellite_images\\2023_val\\Ames\\TP3\\Ames-TP3-2325_37_35.TIF\n",
      "found  satellite_images\\2023_val\\Ames\\TP1\\Ames-TP1-2325_32_35.TIF\n"
     ]
    },
    {
     "name": "stderr",
     "output_type": "stream",
     "text": [
      "195it [00:06, 32.43it/s]"
     ]
    },
    {
     "name": "stdout",
     "output_type": "stream",
     "text": [
      "found  satellite_images\\2023_val\\Ames\\TP2\\Ames-TP2-2325_32_35.TIF\n",
      "found  satellite_images\\2023_val\\Ames\\TP3\\Ames-TP3-2325_32_35.TIF\n",
      "found  satellite_images\\2023_val\\Ames\\TP1\\Ames-TP1-2325_39_35.TIF\n",
      "found  satellite_images\\2023_val\\Ames\\TP2\\Ames-TP2-2325_39_35.TIF\n",
      "found  satellite_images\\2023_val\\Ames\\TP3\\Ames-TP3-2325_39_35.TIF\n",
      "found  satellite_images\\2023_val\\Ames\\TP1\\Ames-TP1-2325_39_31.TIF\n",
      "found  satellite_images\\2023_val\\Ames\\TP2\\Ames-TP2-2325_39_31.TIF\n",
      "found  satellite_images\\2023_val\\Ames\\TP3\\Ames-TP3-2325_39_31.TIF\n",
      "found  satellite_images\\2023_val\\Ames\\TP1\\Ames-TP1-2325_27_35.TIF\n",
      "found  satellite_images\\2023_val\\Ames\\TP2\\Ames-TP2-2325_27_35.TIF\n",
      "found  satellite_images\\2023_val\\Ames\\TP3\\Ames-TP3-2325_27_35.TIF\n",
      "found  satellite_images\\2023_val\\Ames\\TP1\\Ames-TP1-2325_27_39.TIF\n",
      "found  satellite_images\\2023_val\\Ames\\TP2\\Ames-TP2-2325_27_39.TIF\n",
      "found  satellite_images\\2023_val\\Ames\\TP3\\Ames-TP3-2325_27_39.TIF\n",
      "found  satellite_images\\2023_val\\Ames\\TP1\\Ames-TP1-2325_26_41.TIF\n",
      "found  satellite_images\\2023_val\\Ames\\TP2\\Ames-TP2-2325_26_41.TIF\n",
      "found  satellite_images\\2023_val\\Ames\\TP3\\Ames-TP3-2325_26_41.TIF\n",
      "found  satellite_images\\2023_val\\Ames\\TP1\\Ames-TP1-2325_34_41.TIF\n",
      "found  satellite_images\\2023_val\\Ames\\TP2\\Ames-TP2-2325_34_41.TIF\n",
      "found  satellite_images\\2023_val\\Ames\\TP3\\Ames-TP3-2325_34_41.TIF\n"
     ]
    },
    {
     "name": "stderr",
     "output_type": "stream",
     "text": [
      "199it [00:06, 30.91it/s]"
     ]
    },
    {
     "name": "stdout",
     "output_type": "stream",
     "text": [
      "found  satellite_images\\2023_val\\Ames\\TP1\\Ames-TP1-2325_33_39.TIF\n",
      "found  satellite_images\\2023_val\\Ames\\TP2\\Ames-TP2-2325_33_39.TIF\n",
      "found  satellite_images\\2023_val\\Ames\\TP3\\Ames-TP3-2325_33_39.TIF\n",
      "found  satellite_images\\2023_val\\Ames\\TP1\\Ames-TP1-2325_25_33.TIF\n",
      "found  satellite_images\\2023_val\\Ames\\TP2\\Ames-TP2-2325_25_33.TIF\n",
      "found  satellite_images\\2023_val\\Ames\\TP3\\Ames-TP3-2325_25_33.TIF\n",
      "found  satellite_images\\2023_val\\Ames\\TP1\\Ames-TP1-2325_41_41.TIF\n",
      "found  satellite_images\\2023_val\\Ames\\TP2\\Ames-TP2-2325_41_41.TIF\n",
      "found  satellite_images\\2023_val\\Ames\\TP3\\Ames-TP3-2325_41_41.TIF\n",
      "found  satellite_images\\2023_val\\Ames\\TP1\\Ames-TP1-2325_28_31.TIF\n",
      "found  satellite_images\\2023_val\\Ames\\TP2\\Ames-TP2-2325_28_31.TIF\n",
      "found  satellite_images\\2023_val\\Ames\\TP3\\Ames-TP3-2325_28_31.TIF\n",
      "found  satellite_images\\2023_val\\Ames\\TP1\\Ames-TP1-2335_11_55.TIF\n",
      "found  satellite_images\\2023_val\\Ames\\TP2\\Ames-TP2-2335_11_55.TIF\n",
      "found  satellite_images\\2023_val\\Ames\\TP3\\Ames-TP3-2335_11_55.TIF\n",
      "found  satellite_images\\2023_val\\Ames\\TP1\\Ames-TP1-2335_8_57.TIF\n",
      "found  satellite_images\\2023_val\\Ames\\TP2\\Ames-TP2-2335_8_57.TIF\n",
      "found  satellite_images\\2023_val\\Ames\\TP3\\Ames-TP3-2335_8_57.TIF\n",
      "found  satellite_images\\2023_val\\Ames\\TP1\\Ames-TP1-2335_17_59.TIF\n",
      "found  satellite_images\\2023_val\\Ames\\TP2\\Ames-TP2-2335_17_59.TIF\n",
      "found  satellite_images\\2023_val\\Ames\\TP3\\Ames-TP3-2335_17_59.TIF\n"
     ]
    },
    {
     "name": "stderr",
     "output_type": "stream",
     "text": [
      "207it [00:06, 32.50it/s]"
     ]
    },
    {
     "name": "stdout",
     "output_type": "stream",
     "text": [
      "found  satellite_images\\2023_val\\Ames\\TP1\\Ames-TP1-2335_18_61.TIF\n",
      "found  satellite_images\\2023_val\\Ames\\TP2\\Ames-TP2-2335_18_61.TIF\n",
      "found  satellite_images\\2023_val\\Ames\\TP3\\Ames-TP3-2335_18_61.TIF\n",
      "found  satellite_images\\2023_val\\Ames\\TP1\\Ames-TP1-2335_16_59.TIF\n",
      "found  satellite_images\\2023_val\\Ames\\TP2\\Ames-TP2-2335_16_59.TIF\n",
      "found  satellite_images\\2023_val\\Ames\\TP3\\Ames-TP3-2335_16_59.TIF\n",
      "found  satellite_images\\2023_val\\Ames\\TP1\\Ames-TP1-2335_5_59.TIF\n",
      "found  satellite_images\\2023_val\\Ames\\TP2\\Ames-TP2-2335_5_59.TIF\n",
      "found  satellite_images\\2023_val\\Ames\\TP3\\Ames-TP3-2335_5_59.TIF\n",
      "found  satellite_images\\2023_val\\Ames\\TP1\\Ames-TP1-2335_5_57.TIF\n",
      "found  satellite_images\\2023_val\\Ames\\TP2\\Ames-TP2-2335_5_57.TIF\n",
      "found  satellite_images\\2023_val\\Ames\\TP3\\Ames-TP3-2335_5_57.TIF\n",
      "found  satellite_images\\2023_val\\Ames\\TP1\\Ames-TP1-2335_6_55.TIF\n",
      "found  satellite_images\\2023_val\\Ames\\TP2\\Ames-TP2-2335_6_55.TIF\n",
      "found  satellite_images\\2023_val\\Ames\\TP3\\Ames-TP3-2335_6_55.TIF\n",
      "found  satellite_images\\2023_val\\Ames\\TP1\\Ames-TP1-2335_6_59.TIF\n",
      "found  satellite_images\\2023_val\\Ames\\TP2\\Ames-TP2-2335_6_59.TIF\n",
      "found  satellite_images\\2023_val\\Ames\\TP3\\Ames-TP3-2335_6_59.TIF\n",
      "found  satellite_images\\2023_val\\Ames\\TP1\\Ames-TP1-2335_20_59.TIF\n",
      "found  satellite_images\\2023_val\\Ames\\TP2\\Ames-TP2-2335_20_59.TIF\n",
      "found  satellite_images\\2023_val\\Ames\\TP3\\Ames-TP3-2335_20_59.TIF\n",
      "found  satellite_images\\2023_val\\Ames\\TP1\\Ames-TP1-2335_4_55.TIF\n",
      "found  satellite_images\\2023_val\\Ames\\TP2\\Ames-TP2-2335_4_55.TIF\n"
     ]
    },
    {
     "name": "stderr",
     "output_type": "stream",
     "text": [
      "215it [00:06, 33.66it/s]"
     ]
    },
    {
     "name": "stdout",
     "output_type": "stream",
     "text": [
      "found  satellite_images\\2023_val\\Ames\\TP3\\Ames-TP3-2335_4_55.TIF\n",
      "found  satellite_images\\2023_val\\Ames\\TP1\\Ames-TP1-2335_12_59.TIF\n",
      "found  satellite_images\\2023_val\\Ames\\TP2\\Ames-TP2-2335_12_59.TIF\n",
      "found  satellite_images\\2023_val\\Ames\\TP3\\Ames-TP3-2335_12_59.TIF\n",
      "found  satellite_images\\2023_val\\Ames\\TP1\\Ames-TP1-2335_19_61.TIF\n",
      "found  satellite_images\\2023_val\\Ames\\TP2\\Ames-TP2-2335_19_61.TIF\n",
      "found  satellite_images\\2023_val\\Ames\\TP3\\Ames-TP3-2335_19_61.TIF\n",
      "found  satellite_images\\2023_val\\Ames\\TP1\\Ames-TP1-2335_18_55.TIF\n",
      "found  satellite_images\\2023_val\\Ames\\TP2\\Ames-TP2-2335_18_55.TIF\n",
      "found  satellite_images\\2023_val\\Ames\\TP3\\Ames-TP3-2335_18_55.TIF\n",
      "found  satellite_images\\2023_val\\Ames\\TP1\\Ames-TP1-2335_10_59.TIF\n",
      "found  satellite_images\\2023_val\\Ames\\TP2\\Ames-TP2-2335_10_59.TIF\n",
      "found  satellite_images\\2023_val\\Ames\\TP3\\Ames-TP3-2335_10_59.TIF\n",
      "found  satellite_images\\2023_val\\Ames\\TP1\\Ames-TP1-2335_8_61.TIF\n",
      "found  satellite_images\\2023_val\\Ames\\TP2\\Ames-TP2-2335_8_61.TIF\n",
      "found  satellite_images\\2023_val\\Ames\\TP3\\Ames-TP3-2335_8_61.TIF\n",
      "found  satellite_images\\2023_val\\Ames\\TP1\\Ames-TP1-2335_4_61.TIF\n",
      "found  satellite_images\\2023_val\\Ames\\TP2\\Ames-TP2-2335_4_61.TIF\n",
      "found  satellite_images\\2023_val\\Ames\\TP3\\Ames-TP3-2335_4_61.TIF\n",
      "found  satellite_images\\2023_val\\Ames\\TP1\\Ames-TP1-2335_17_55.TIF\n"
     ]
    },
    {
     "name": "stderr",
     "output_type": "stream",
     "text": [
      "223it [00:06, 32.23it/s]"
     ]
    },
    {
     "name": "stdout",
     "output_type": "stream",
     "text": [
      "found  satellite_images\\2023_val\\Ames\\TP2\\Ames-TP2-2335_17_55.TIF\n",
      "found  satellite_images\\2023_val\\Ames\\TP3\\Ames-TP3-2335_17_55.TIF\n",
      "found  satellite_images\\2023_val\\Ames\\TP1\\Ames-TP1-2335_9_57.TIF\n",
      "found  satellite_images\\2023_val\\Ames\\TP2\\Ames-TP2-2335_9_57.TIF\n",
      "found  satellite_images\\2023_val\\Ames\\TP3\\Ames-TP3-2335_9_57.TIF\n",
      "found  satellite_images\\2023_val\\Ames\\TP1\\Ames-TP1-2335_16_61.TIF\n",
      "found  satellite_images\\2023_val\\Ames\\TP2\\Ames-TP2-2335_16_61.TIF\n",
      "found  satellite_images\\2023_val\\Ames\\TP3\\Ames-TP3-2335_16_61.TIF\n",
      "found  satellite_images\\2023_val\\Ames\\TP1\\Ames-TP1-2335_18_59.TIF\n",
      "found  satellite_images\\2023_val\\Ames\\TP2\\Ames-TP2-2335_18_59.TIF\n",
      "found  satellite_images\\2023_val\\Ames\\TP3\\Ames-TP3-2335_18_59.TIF\n",
      "found  satellite_images\\2023_val\\Ames\\TP1\\Ames-TP1-2335_15_55.TIF\n",
      "found  satellite_images\\2023_val\\Ames\\TP2\\Ames-TP2-2335_15_55.TIF\n",
      "found  satellite_images\\2023_val\\Ames\\TP3\\Ames-TP3-2335_15_55.TIF\n",
      "found  satellite_images\\2023_val\\Ames\\TP1\\Ames-TP1-2335_21_59.TIF\n",
      "found  satellite_images\\2023_val\\Ames\\TP2\\Ames-TP2-2335_21_59.TIF\n",
      "found  satellite_images\\2023_val\\Ames\\TP3\\Ames-TP3-2335_21_59.TIF\n",
      "found  satellite_images\\2023_val\\Ames\\TP1\\Ames-TP1-2335_12_61.TIF\n",
      "found  satellite_images\\2023_val\\Ames\\TP2\\Ames-TP2-2335_12_61.TIF\n",
      "found  satellite_images\\2023_val\\Ames\\TP3\\Ames-TP3-2335_12_61.TIF\n"
     ]
    },
    {
     "name": "stderr",
     "output_type": "stream",
     "text": [
      "231it [00:07, 34.35it/s]"
     ]
    },
    {
     "name": "stdout",
     "output_type": "stream",
     "text": [
      "found  satellite_images\\2023_val\\Ames\\TP1\\Ames-TP1-2335_21_57.TIF\n",
      "found  satellite_images\\2023_val\\Ames\\TP2\\Ames-TP2-2335_21_57.TIF\n",
      "found  satellite_images\\2023_val\\Ames\\TP3\\Ames-TP3-2335_21_57.TIF\n",
      "found  satellite_images\\2023_val\\Ames\\TP1\\Ames-TP1-2335_22_61.TIF\n",
      "found  satellite_images\\2023_val\\Ames\\TP2\\Ames-TP2-2335_22_61.TIF\n",
      "found  satellite_images\\2023_val\\Ames\\TP3\\Ames-TP3-2335_22_61.TIF\n",
      "found  satellite_images\\2023_val\\Ames\\TP1\\Ames-TP1-2335_19_57.TIF\n",
      "found  satellite_images\\2023_val\\Ames\\TP2\\Ames-TP2-2335_19_57.TIF\n",
      "found  satellite_images\\2023_val\\Ames\\TP3\\Ames-TP3-2335_19_57.TIF\n",
      "found  satellite_images\\2023_val\\Ames\\TP1\\Ames-TP1-2335_9_61.TIF\n",
      "found  satellite_images\\2023_val\\Ames\\TP2\\Ames-TP2-2335_9_61.TIF\n",
      "found  satellite_images\\2023_val\\Ames\\TP3\\Ames-TP3-2335_9_61.TIF\n",
      "found  satellite_images\\2023_val\\Ames\\TP1\\Ames-TP1-2335_2_55.TIF\n",
      "found  satellite_images\\2023_val\\Ames\\TP2\\Ames-TP2-2335_2_55.TIF\n",
      "found  satellite_images\\2023_val\\Ames\\TP3\\Ames-TP3-2335_2_55.TIF\n",
      "found  satellite_images\\2023_val\\Ames\\TP1\\Ames-TP1-2335_2_57.TIF\n",
      "found  satellite_images\\2023_val\\Ames\\TP2\\Ames-TP2-2335_2_57.TIF\n",
      "found  satellite_images\\2023_val\\Ames\\TP3\\Ames-TP3-2335_2_57.TIF\n",
      "found  satellite_images\\2023_val\\Ames\\TP1\\Ames-TP1-2335_3_57.TIF\n",
      "found  satellite_images\\2023_val\\Ames\\TP2\\Ames-TP2-2335_3_57.TIF\n",
      "found  satellite_images\\2023_val\\Ames\\TP3\\Ames-TP3-2335_3_57.TIF\n"
     ]
    },
    {
     "name": "stderr",
     "output_type": "stream",
     "text": [
      "235it [00:07, 33.23it/s]"
     ]
    },
    {
     "name": "stdout",
     "output_type": "stream",
     "text": [
      "found  satellite_images\\2023_val\\Ames\\TP1\\Ames-TP1-2335_11_61.TIF\n",
      "found  satellite_images\\2023_val\\Ames\\TP2\\Ames-TP2-2335_11_61.TIF\n",
      "found  satellite_images\\2023_val\\Ames\\TP3\\Ames-TP3-2335_11_61.TIF\n",
      "found  satellite_images\\2023_val\\Ames\\TP1\\Ames-TP1-2335_11_59.TIF\n",
      "found  satellite_images\\2023_val\\Ames\\TP2\\Ames-TP2-2335_11_59.TIF\n",
      "found  satellite_images\\2023_val\\Ames\\TP3\\Ames-TP3-2335_11_59.TIF\n",
      "found  satellite_images\\2023_val\\Ames\\TP1\\Ames-TP1-2335_17_61.TIF\n",
      "found  satellite_images\\2023_val\\Ames\\TP2\\Ames-TP2-2335_17_61.TIF\n",
      "found  satellite_images\\2023_val\\Ames\\TP3\\Ames-TP3-2335_17_61.TIF\n",
      "found  satellite_images\\2023_val\\Ames\\TP1\\Ames-TP1-2335_10_55.TIF\n",
      "found  satellite_images\\2023_val\\Ames\\TP2\\Ames-TP2-2335_10_55.TIF\n",
      "found  satellite_images\\2023_val\\Ames\\TP3\\Ames-TP3-2335_10_55.TIF\n",
      "found  satellite_images\\2023_val\\Ames\\TP1\\Ames-TP1-2335_9_55.TIF\n",
      "found  satellite_images\\2023_val\\Ames\\TP2\\Ames-TP2-2335_9_55.TIF\n",
      "found  satellite_images\\2023_val\\Ames\\TP3\\Ames-TP3-2335_9_55.TIF\n",
      "found  satellite_images\\2023_val\\Ames\\TP1\\Ames-TP1-2335_10_61.TIF\n",
      "found  satellite_images\\2023_val\\Ames\\TP2\\Ames-TP2-2335_10_61.TIF\n"
     ]
    },
    {
     "name": "stderr",
     "output_type": "stream",
     "text": [
      "239it [00:07, 28.46it/s]"
     ]
    },
    {
     "name": "stdout",
     "output_type": "stream",
     "text": [
      "found  satellite_images\\2023_val\\Ames\\TP3\\Ames-TP3-2335_10_61.TIF\n",
      "found  satellite_images\\2023_val\\Ames\\TP1\\Ames-TP1-2335_13_55.TIF\n",
      "found  satellite_images\\2023_val\\Ames\\TP2\\Ames-TP2-2335_13_55.TIF\n",
      "found  satellite_images\\2023_val\\Ames\\TP3\\Ames-TP3-2335_13_55.TIF\n",
      "found  satellite_images\\2023_val\\Ames\\TP1\\Ames-TP1-2335_22_55.TIF\n",
      "found  satellite_images\\2023_val\\Ames\\TP2\\Ames-TP2-2335_22_55.TIF\n",
      "found  satellite_images\\2023_val\\Ames\\TP3\\Ames-TP3-2335_22_55.TIF\n",
      "found  satellite_images\\2023_val\\Ames\\TP1\\Ames-TP1-2335_8_55.TIF\n",
      "found  satellite_images\\2023_val\\Ames\\TP2\\Ames-TP2-2335_8_55.TIF\n",
      "found  satellite_images\\2023_val\\Ames\\TP3\\Ames-TP3-2335_8_55.TIF\n",
      "found  satellite_images\\2023_val\\Ames\\TP1\\Ames-TP1-2335_19_59.TIF\n",
      "found  satellite_images\\2023_val\\Ames\\TP2\\Ames-TP2-2335_19_59.TIF\n",
      "found  satellite_images\\2023_val\\Ames\\TP3\\Ames-TP3-2335_19_59.TIF\n",
      "found  satellite_images\\2023_val\\Ames\\TP1\\Ames-TP1-2335_36_59.TIF\n",
      "found  satellite_images\\2023_val\\Ames\\TP2\\Ames-TP2-2335_36_59.TIF\n"
     ]
    },
    {
     "name": "stderr",
     "output_type": "stream",
     "text": [
      "246it [00:07, 28.49it/s]"
     ]
    },
    {
     "name": "stdout",
     "output_type": "stream",
     "text": [
      "found  satellite_images\\2023_val\\Ames\\TP3\\Ames-TP3-2335_36_59.TIF\n",
      "found  satellite_images\\2023_val\\Ames\\TP1\\Ames-TP1-2335_31_61.TIF\n",
      "found  satellite_images\\2023_val\\Ames\\TP2\\Ames-TP2-2335_31_61.TIF\n",
      "found  satellite_images\\2023_val\\Ames\\TP3\\Ames-TP3-2335_31_61.TIF\n",
      "found  satellite_images\\2023_val\\Ames\\TP1\\Ames-TP1-2335_42_55.TIF\n",
      "found  satellite_images\\2023_val\\Ames\\TP2\\Ames-TP2-2335_42_55.TIF\n",
      "found  satellite_images\\2023_val\\Ames\\TP3\\Ames-TP3-2335_42_55.TIF\n",
      "found  satellite_images\\2023_val\\Ames\\TP1\\Ames-TP1-2335_39_59.TIF\n",
      "found  satellite_images\\2023_val\\Ames\\TP2\\Ames-TP2-2335_39_59.TIF\n",
      "found  satellite_images\\2023_val\\Ames\\TP3\\Ames-TP3-2335_39_59.TIF\n",
      "found  satellite_images\\2023_val\\Ames\\TP1\\Ames-TP1-2335_36_57.TIF\n",
      "found  satellite_images\\2023_val\\Ames\\TP2\\Ames-TP2-2335_36_57.TIF\n",
      "found  satellite_images\\2023_val\\Ames\\TP3\\Ames-TP3-2335_36_57.TIF\n",
      "found  satellite_images\\2023_val\\Ames\\TP1\\Ames-TP1-2335_27_59.TIF\n",
      "found  satellite_images\\2023_val\\Ames\\TP2\\Ames-TP2-2335_27_59.TIF\n",
      "found  satellite_images\\2023_val\\Ames\\TP3\\Ames-TP3-2335_27_59.TIF\n",
      "found  satellite_images\\2023_val\\Ames\\TP1\\Ames-TP1-2335_27_57.TIF\n",
      "found  satellite_images\\2023_val\\Ames\\TP2\\Ames-TP2-2335_27_57.TIF\n",
      "found  satellite_images\\2023_val\\Ames\\TP3\\Ames-TP3-2335_27_57.TIF\n"
     ]
    },
    {
     "name": "stderr",
     "output_type": "stream",
     "text": [
      "254it [00:08, 30.04it/s]"
     ]
    },
    {
     "name": "stdout",
     "output_type": "stream",
     "text": [
      "found  satellite_images\\2023_val\\Ames\\TP1\\Ames-TP1-2335_28_55.TIF\n",
      "found  satellite_images\\2023_val\\Ames\\TP2\\Ames-TP2-2335_28_55.TIF\n",
      "found  satellite_images\\2023_val\\Ames\\TP3\\Ames-TP3-2335_28_55.TIF\n",
      "found  satellite_images\\2023_val\\Ames\\TP1\\Ames-TP1-2335_28_59.TIF\n",
      "found  satellite_images\\2023_val\\Ames\\TP2\\Ames-TP2-2335_28_59.TIF\n",
      "found  satellite_images\\2023_val\\Ames\\TP3\\Ames-TP3-2335_28_59.TIF\n",
      "found  satellite_images\\2023_val\\Ames\\TP1\\Ames-TP1-2335_29_55.TIF\n",
      "found  satellite_images\\2023_val\\Ames\\TP2\\Ames-TP2-2335_29_55.TIF\n",
      "found  satellite_images\\2023_val\\Ames\\TP3\\Ames-TP3-2335_29_55.TIF\n",
      "found  satellite_images\\2023_val\\Ames\\TP1\\Ames-TP1-2335_31_55.TIF\n",
      "found  satellite_images\\2023_val\\Ames\\TP2\\Ames-TP2-2335_31_55.TIF\n",
      "found  satellite_images\\2023_val\\Ames\\TP3\\Ames-TP3-2335_31_55.TIF\n",
      "found  satellite_images\\2023_val\\Ames\\TP1\\Ames-TP1-2335_30_55.TIF\n",
      "found  satellite_images\\2023_val\\Ames\\TP2\\Ames-TP2-2335_30_55.TIF\n",
      "found  satellite_images\\2023_val\\Ames\\TP3\\Ames-TP3-2335_30_55.TIF\n",
      "found  satellite_images\\2023_val\\Ames\\TP1\\Ames-TP1-2335_32_57.TIF\n",
      "found  satellite_images\\2023_val\\Ames\\TP2\\Ames-TP2-2335_32_57.TIF\n",
      "found  satellite_images\\2023_val\\Ames\\TP3\\Ames-TP3-2335_32_57.TIF\n",
      "found  satellite_images\\2023_val\\Ames\\TP1\\Ames-TP1-2335_24_59.TIF\n",
      "found  satellite_images\\2023_val\\Ames\\TP2\\Ames-TP2-2335_24_59.TIF\n",
      "found  satellite_images\\2023_val\\Ames\\TP3\\Ames-TP3-2335_24_59.TIF\n"
     ]
    },
    {
     "name": "stderr",
     "output_type": "stream",
     "text": [
      "261it [00:08, 29.20it/s]"
     ]
    },
    {
     "name": "stdout",
     "output_type": "stream",
     "text": [
      "found  satellite_images\\2023_val\\Ames\\TP1\\Ames-TP1-2335_44_55.TIF\n",
      "found  satellite_images\\2023_val\\Ames\\TP2\\Ames-TP2-2335_44_55.TIF\n",
      "found  satellite_images\\2023_val\\Ames\\TP3\\Ames-TP3-2335_44_55.TIF\n",
      "found  satellite_images\\2023_val\\Ames\\TP1\\Ames-TP1-2335_35_57.TIF\n",
      "found  satellite_images\\2023_val\\Ames\\TP2\\Ames-TP2-2335_35_57.TIF\n",
      "found  satellite_images\\2023_val\\Ames\\TP3\\Ames-TP3-2335_35_57.TIF\n",
      "found  satellite_images\\2023_val\\Ames\\TP1\\Ames-TP1-2335_40_55.TIF\n",
      "found  satellite_images\\2023_val\\Ames\\TP2\\Ames-TP2-2335_40_55.TIF\n",
      "found  satellite_images\\2023_val\\Ames\\TP3\\Ames-TP3-2335_40_55.TIF\n",
      "found  satellite_images\\2023_val\\Ames\\TP1\\Ames-TP1-2335_25_57.TIF\n",
      "found  satellite_images\\2023_val\\Ames\\TP2\\Ames-TP2-2335_25_57.TIF\n",
      "found  satellite_images\\2023_val\\Ames\\TP3\\Ames-TP3-2335_25_57.TIF\n",
      "found  satellite_images\\2023_val\\Ames\\TP1\\Ames-TP1-2335_26_55.TIF\n",
      "found  satellite_images\\2023_val\\Ames\\TP2\\Ames-TP2-2335_26_55.TIF\n",
      "found  satellite_images\\2023_val\\Ames\\TP3\\Ames-TP3-2335_26_55.TIF\n",
      "found  satellite_images\\2023_val\\Ames\\TP1\\Ames-TP1-2335_40_57.TIF\n",
      "found  satellite_images\\2023_val\\Ames\\TP2\\Ames-TP2-2335_40_57.TIF\n",
      "found  satellite_images\\2023_val\\Ames\\TP3\\Ames-TP3-2335_40_57.TIF\n"
     ]
    },
    {
     "name": "stderr",
     "output_type": "stream",
     "text": [
      "264it [00:08, 27.59it/s]"
     ]
    },
    {
     "name": "stdout",
     "output_type": "stream",
     "text": [
      "found  satellite_images\\2023_val\\Ames\\TP1\\Ames-TP1-2335_38_55.TIF\n",
      "found  satellite_images\\2023_val\\Ames\\TP2\\Ames-TP2-2335_38_55.TIF\n",
      "found  satellite_images\\2023_val\\Ames\\TP3\\Ames-TP3-2335_38_55.TIF\n",
      "found  satellite_images\\2023_val\\Ames\\TP1\\Ames-TP1-2335_33_55.TIF\n",
      "found  satellite_images\\2023_val\\Ames\\TP2\\Ames-TP2-2335_33_55.TIF\n",
      "found  satellite_images\\2023_val\\Ames\\TP3\\Ames-TP3-2335_33_55.TIF\n",
      "found  satellite_images\\2023_val\\Ames\\TP1\\Ames-TP1-2335_39_57.TIF\n",
      "found  satellite_images\\2023_val\\Ames\\TP2\\Ames-TP2-2335_39_57.TIF\n",
      "found  satellite_images\\2023_val\\Ames\\TP3\\Ames-TP3-2335_39_57.TIF\n",
      "found  satellite_images\\2023_val\\Ames\\TP1\\Ames-TP1-2335_42_61.TIF\n",
      "found  satellite_images\\2023_val\\Ames\\TP2\\Ames-TP2-2335_42_61.TIF\n",
      "found  satellite_images\\2023_val\\Ames\\TP3\\Ames-TP3-2335_42_61.TIF\n",
      "found  satellite_images\\2023_val\\Ames\\TP1\\Ames-TP1-2335_35_59.TIF\n",
      "found  satellite_images\\2023_val\\Ames\\TP2\\Ames-TP2-2335_35_59.TIF\n",
      "found  satellite_images\\2023_val\\Ames\\TP3\\Ames-TP3-2335_35_59.TIF\n"
     ]
    },
    {
     "name": "stderr",
     "output_type": "stream",
     "text": [
      "272it [00:08, 29.57it/s]"
     ]
    },
    {
     "name": "stdout",
     "output_type": "stream",
     "text": [
      "found  satellite_images\\2023_val\\Ames\\TP1\\Ames-TP1-2335_30_59.TIF\n",
      "found  satellite_images\\2023_val\\Ames\\TP2\\Ames-TP2-2335_30_59.TIF\n",
      "found  satellite_images\\2023_val\\Ames\\TP3\\Ames-TP3-2335_30_59.TIF\n",
      "found  satellite_images\\2023_val\\Ames\\TP1\\Ames-TP1-2335_33_61.TIF\n",
      "found  satellite_images\\2023_val\\Ames\\TP2\\Ames-TP2-2335_33_61.TIF\n",
      "found  satellite_images\\2023_val\\Ames\\TP3\\Ames-TP3-2335_33_61.TIF\n",
      "found  satellite_images\\2023_val\\Ames\\TP1\\Ames-TP1-2335_30_57.TIF\n",
      "found  satellite_images\\2023_val\\Ames\\TP2\\Ames-TP2-2335_30_57.TIF\n",
      "found  satellite_images\\2023_val\\Ames\\TP3\\Ames-TP3-2335_30_57.TIF\n",
      "found  satellite_images\\2023_val\\Ames\\TP1\\Ames-TP1-2335_43_59.TIF\n",
      "found  satellite_images\\2023_val\\Ames\\TP2\\Ames-TP2-2335_43_59.TIF\n",
      "found  satellite_images\\2023_val\\Ames\\TP3\\Ames-TP3-2335_43_59.TIF\n",
      "found  satellite_images\\2023_val\\Ames\\TP1\\Ames-TP1-2335_36_55.TIF\n",
      "found  satellite_images\\2023_val\\Ames\\TP2\\Ames-TP2-2335_36_55.TIF\n",
      "found  satellite_images\\2023_val\\Ames\\TP3\\Ames-TP3-2335_36_55.TIF\n",
      "found  satellite_images\\2023_val\\Ames\\TP1\\Ames-TP1-2335_34_61.TIF\n",
      "found  satellite_images\\2023_val\\Ames\\TP2\\Ames-TP2-2335_34_61.TIF\n",
      "found  satellite_images\\2023_val\\Ames\\TP3\\Ames-TP3-2335_34_61.TIF\n"
     ]
    },
    {
     "name": "stderr",
     "output_type": "stream",
     "text": [
      "275it [00:08, 29.35it/s]"
     ]
    },
    {
     "name": "stdout",
     "output_type": "stream",
     "text": [
      "found  satellite_images\\2023_val\\Ames\\TP1\\Ames-TP1-2335_43_55.TIF\n",
      "found  satellite_images\\2023_val\\Ames\\TP2\\Ames-TP2-2335_43_55.TIF\n",
      "found  satellite_images\\2023_val\\Ames\\TP3\\Ames-TP3-2335_43_55.TIF\n",
      "found  satellite_images\\2023_val\\Ames\\TP1\\Ames-TP1-2335_32_59.TIF\n",
      "found  satellite_images\\2023_val\\Ames\\TP2\\Ames-TP2-2335_32_59.TIF\n",
      "found  satellite_images\\2023_val\\Ames\\TP3\\Ames-TP3-2335_32_59.TIF\n",
      "found  satellite_images\\2023_val\\Ames\\TP1\\Ames-TP1-2335_44_61.TIF\n",
      "found  satellite_images\\2023_val\\Ames\\TP2\\Ames-TP2-2335_44_61.TIF\n",
      "found  satellite_images\\2023_val\\Ames\\TP3\\Ames-TP3-2335_44_61.TIF\n",
      "found  satellite_images\\2023_val\\Ames\\TP1\\Ames-TP1-2335_39_55.TIF\n",
      "found  satellite_images\\2023_val\\Ames\\TP2\\Ames-TP2-2335_39_55.TIF\n",
      "found  satellite_images\\2023_val\\Ames\\TP3\\Ames-TP3-2335_39_55.TIF\n",
      "found  satellite_images\\2023_val\\Ames\\TP1\\Ames-TP1-2335_42_57.TIF\n",
      "found  satellite_images\\2023_val\\Ames\\TP2\\Ames-TP2-2335_42_57.TIF\n",
      "found  satellite_images\\2023_val\\Ames\\TP3\\Ames-TP3-2335_42_57.TIF\n",
      "found  satellite_images\\2023_val\\Ames\\TP1\\Ames-TP1-2335_39_61.TIF\n",
      "found  satellite_images\\2023_val\\Ames\\TP2\\Ames-TP2-2335_39_61.TIF\n",
      "found  satellite_images\\2023_val\\Ames\\TP3\\Ames-TP3-2335_39_61.TIF\n"
     ]
    },
    {
     "name": "stderr",
     "output_type": "stream",
     "text": [
      "282it [00:08, 31.46it/s]"
     ]
    },
    {
     "name": "stdout",
     "output_type": "stream",
     "text": [
      "found  satellite_images\\2023_val\\Ames\\TP1\\Ames-TP1-2335_42_59.TIF\n",
      "found  satellite_images\\2023_val\\Ames\\TP2\\Ames-TP2-2335_42_59.TIF\n",
      "found  satellite_images\\2023_val\\Ames\\TP3\\Ames-TP3-2335_42_59.TIF\n",
      "found  satellite_images\\2023_val\\Ames\\TP1\\Ames-TP1-2335_36_61.TIF\n",
      "found  satellite_images\\2023_val\\Ames\\TP2\\Ames-TP2-2335_36_61.TIF\n",
      "found  satellite_images\\2023_val\\Ames\\TP3\\Ames-TP3-2335_36_61.TIF\n",
      "found  satellite_images\\2023_val\\Ames\\TP1\\Ames-TP1-2335_32_61.TIF\n",
      "found  satellite_images\\2023_val\\Ames\\TP2\\Ames-TP2-2335_32_61.TIF\n",
      "found  satellite_images\\2023_val\\Ames\\TP3\\Ames-TP3-2335_32_61.TIF\n",
      "found  satellite_images\\2023_val\\Ames\\TP1\\Ames-TP1-2335_45_59.TIF\n",
      "found  satellite_images\\2023_val\\Ames\\TP2\\Ames-TP2-2335_45_59.TIF\n",
      "found  satellite_images\\2023_val\\Ames\\TP3\\Ames-TP3-2335_45_59.TIF\n"
     ]
    },
    {
     "name": "stderr",
     "output_type": "stream",
     "text": [
      "\n"
     ]
    }
   ],
   "source": [
    "images = []\n",
    "numerical_features = []\n",
    "\n",
    "for index, row in tqdm(all_data.iterrows()):\n",
    "\n",
    "  location = row['location']\n",
    "  year = row['year']\n",
    "  if year == 2023:\n",
    "    year = '2023_val'\n",
    "  experiment = row['experiment']\n",
    "  if experiment == 'Hyrbrids':\n",
    "    experiment = 'Hybrids'\n",
    "  range = row['range']\n",
    "  row_ = row['row']\n",
    "  planting_date = row['planting_date']\n",
    "  time_points = sorted(os.listdir(os.path.join('satellite_images', str(year), location)))\n",
    "\n",
    "  new_images = []\n",
    "  new_numerical_features = []  \n",
    "  for time_point in time_points:\n",
    "    folder_path = os.path.join('satellite_images', str(year), location, time_point)\n",
    "    image_name = f'{location}-{time_point}-{experiment}_{range}_{row_}.TIF'\n",
    "    image_path = os.path.join(folder_path, image_name)\n",
    "    if os.path.exists(image_path):\n",
    "      satellite_image = get_image(image_path)\n",
    "      processed_image = process_image(satellite_image)\n",
    "      age = get_age(row['year'], location, time_point, planting_date)\n",
    "      age = age/365\n",
    "      new_images.append(processed_image)\n",
    "      new_numerical_features.append([row['location_Ames'],\n",
    "                     row['location_Crawfordsville'],\n",
    "                     row['location_Lincoln'],\n",
    "                     row['location_MOValley'],\n",
    "                     row['N_level_High'],\n",
    "                     row['N_level_Low'],\n",
    "                     row['N_level_Medium'],\n",
    "                     age])\n",
    "      print('found ',image_path)  \n",
    "    else:\n",
    "      print('not_found', image_path)\n",
    "  images.append(new_images)\n",
    "  numerical_features.append(new_numerical_features)  \n",
    "\n",
    "images = np.array(images)\n",
    "numerical_features = np.array(numerical_features)"
   ]
  },
  {
   "cell_type": "code",
   "execution_count": 16,
   "metadata": {
    "id": "h-tTJv8511uP"
   },
   "outputs": [],
   "source": [
    "data_dict = {'images': images,\n",
    "             'numerical_features': numerical_features,\n",
    "             'metadata': processed_data['metadata']}"
   ]
  },
  {
   "cell_type": "code",
   "execution_count": 18,
   "metadata": {
    "id": "YP6_g4OjPSEl"
   },
   "outputs": [],
   "source": [
    "f = open('processed_val_data_2023.pkl', 'wb')\n",
    "pickle.dump(data_dict, f)\n",
    "f.close()"
   ]
  },
  {
   "cell_type": "code",
   "execution_count": null,
   "metadata": {},
   "outputs": [],
   "source": []
  }
 ],
 "metadata": {
  "colab": {
   "provenance": []
  },
  "kernelspec": {
   "display_name": "Python 3 (ipykernel)",
   "language": "python",
   "name": "python3"
  },
  "language_info": {
   "codemirror_mode": {
    "name": "ipython",
    "version": 3
   },
   "file_extension": ".py",
   "mimetype": "text/x-python",
   "name": "python",
   "nbconvert_exporter": "python",
   "pygments_lexer": "ipython3",
   "version": "3.12.4"
  }
 },
 "nbformat": 4,
 "nbformat_minor": 4
}
