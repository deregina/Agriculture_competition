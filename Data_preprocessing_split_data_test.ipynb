{
 "cells": [
  {
   "cell_type": "code",
   "execution_count": 1,
   "id": "0f9955be-f863-4259-a6ba-066603bb91f8",
   "metadata": {
    "id": "0f9955be-f863-4259-a6ba-066603bb91f8"
   },
   "outputs": [],
   "source": [
    "import os\n",
    "import pandas as pd\n",
    "import math\n",
    "import random\n",
    "import pickle"
   ]
  },
  {
   "cell_type": "code",
   "execution_count": 2,
   "id": "5d0ae913-3cc3-4339-b2e8-3ace4a9f056c",
   "metadata": {
    "id": "5d0ae913-3cc3-4339-b2e8-3ace4a9f056c"
   },
   "outputs": [],
   "source": [
    "pd.set_option('display.max_columns', None)\n",
    "pd.set_option('display.max_rows', None)"
   ]
  },
  {
   "cell_type": "code",
   "execution_count": 3,
   "id": "33b39b8f-007b-45ef-8860-3040c7e1cf83",
   "metadata": {
    "id": "33b39b8f-007b-45ef-8860-3040c7e1cf83"
   },
   "outputs": [],
   "source": [
    "def makedir(path):\n",
    "    if not os.path.exists(path):\n",
    "        os.makedirs(path)"
   ]
  },
  {
   "cell_type": "code",
   "execution_count": 4,
   "id": "fabf9223-1c61-4809-9c12-ad0a4c1fb60f",
   "metadata": {
    "id": "fabf9223-1c61-4809-9c12-ad0a4c1fb60f"
   },
   "outputs": [],
   "source": [
    "savedir = 'data_processed'\n",
    "makedir(savedir)"
   ]
  },
  {
   "cell_type": "markdown",
   "id": "ae51c073-dd2f-4cb2-8ce2-717665ac76ff",
   "metadata": {
    "id": "ae51c073-dd2f-4cb2-8ce2-717665ac76ff"
   },
   "source": [
    "## Get date of collection"
   ]
  },
  {
   "cell_type": "markdown",
   "id": "99243067-bf41-4ed4-acaa-d860c6aa7cb1",
   "metadata": {
    "id": "99243067-bf41-4ed4-acaa-d860c6aa7cb1"
   },
   "source": [
    "### Date of collection 2023"
   ]
  },
  {
   "cell_type": "code",
   "execution_count": 7,
   "id": "555a852e-b965-4554-af5d-41feee3e478e",
   "metadata": {
    "id": "555a852e-b965-4554-af5d-41feee3e478e"
   },
   "outputs": [],
   "source": [
    "doc_df = pd.read_excel('train_2023/2023/DataPublication_final/GroundTruth/DateofCollection.xlsx')\n",
    "doc_2023 = {}\n",
    "for index, row in doc_df.iterrows():\n",
    "    if row['Location'] not in doc_2023.keys():\n",
    "        doc_2023[row['Location']] = {}\n",
    "    doc_2023[row['Location']][row['time']] = row['Date']\n",
    "save_path = os.path.join(savedir, 'doc_2023.pkl')\n",
    "f = open(save_path,'wb')\n",
    "pickle.dump(doc_2023,f)\n",
    "f.close()"
   ]
  },
  {
   "cell_type": "markdown",
   "id": "484da9bb-df2d-49a8-a057-e12704c4e31b",
   "metadata": {
    "id": "484da9bb-df2d-49a8-a057-e12704c4e31b"
   },
   "source": [
    "## Get GT data"
   ]
  },
  {
   "cell_type": "code",
   "execution_count": 9,
   "id": "8f5db17e-31c4-40e8-b71b-95b39de5938a",
   "metadata": {
    "id": "8f5db17e-31c4-40e8-b71b-95b39de5938a"
   },
   "outputs": [],
   "source": [
    "data_list = []\n",
    "columns = ['year', 'location', 'irrigationProvided', 'experiment', 'range', 'row', 'N_level', 'genotype', 'planting_date']+['location_Ames', 'location_Crawfordsville', 'location_Lincoln', 'location_MOValley'] + ['N_level_High', 'N_level_Low', 'N_level_Medium']"
   ]
  },
  {
   "cell_type": "markdown",
   "id": "98162a65-64c4-4c31-8383-8ac42257bc4a",
   "metadata": {
    "id": "98162a65-64c4-4c31-8383-8ac42257bc4a"
   },
   "source": [
    "### 2023 Val data"
   ]
  },
  {
   "cell_type": "code",
   "execution_count": 11,
   "id": "CoOcE2prAJ34",
   "metadata": {
    "colab": {
     "base_uri": "https://localhost:8080/"
    },
    "id": "CoOcE2prAJ34",
    "outputId": "385d7ec8-fa43-4920-e70d-bcfc9960c1ae"
   },
   "outputs": [
    {
     "name": "stdout",
     "output_type": "stream",
     "text": [
      "plotLength\n",
      "17.5    288\n",
      "Name: count, dtype: int64\n"
     ]
    }
   ],
   "source": [
    "df_test_2023 = pd.read_csv('test_HIPS_HYBRIDS_2023_V2.3.csv')\n",
    "print(df_test_2023['plotLength'].value_counts())"
   ]
  },
  {
   "cell_type": "code",
   "execution_count": 12,
   "id": "61df5c60-1597-4087-94ed-29e4d22dfcfb",
   "metadata": {
    "colab": {
     "base_uri": "https://localhost:8080/"
    },
    "id": "61df5c60-1597-4087-94ed-29e4d22dfcfb",
    "outputId": "4193bc0b-7db1-4657-b6aa-0db68b9b7894"
   },
   "outputs": [],
   "source": [
    "df_test_2023 = df_test_2023.drop(columns = ['qrCode','poundsOfNitrogenPerAcre','plotLength', 'block','plotNumber','totalStandCount', 'daysToAnthesis', 'GDDToAnthesis', 'yieldPerAcre'])"
   ]
  },
  {
   "cell_type": "code",
   "execution_count": 13,
   "id": "a00a4d3b-18ec-4038-911d-6822cc9d85c7",
   "metadata": {
    "colab": {
     "base_uri": "https://localhost:8080/",
     "height": 206
    },
    "id": "a00a4d3b-18ec-4038-911d-6822cc9d85c7",
    "outputId": "f3faeae0-2597-462c-f204-2ad7a2301dcb"
   },
   "outputs": [
    {
     "data": {
      "text/html": [
       "<div>\n",
       "<style scoped>\n",
       "    .dataframe tbody tr th:only-of-type {\n",
       "        vertical-align: middle;\n",
       "    }\n",
       "\n",
       "    .dataframe tbody tr th {\n",
       "        vertical-align: top;\n",
       "    }\n",
       "\n",
       "    .dataframe thead th {\n",
       "        text-align: right;\n",
       "    }\n",
       "</style>\n",
       "<table border=\"1\" class=\"dataframe\">\n",
       "  <thead>\n",
       "    <tr style=\"text-align: right;\">\n",
       "      <th></th>\n",
       "      <th>location</th>\n",
       "      <th>irrigationProvided</th>\n",
       "      <th>nitrogenTreatment</th>\n",
       "      <th>experiment</th>\n",
       "      <th>row</th>\n",
       "      <th>range</th>\n",
       "      <th>genotype</th>\n",
       "      <th>plantingDate</th>\n",
       "    </tr>\n",
       "  </thead>\n",
       "  <tbody>\n",
       "    <tr>\n",
       "      <th>0</th>\n",
       "      <td>Ames</td>\n",
       "      <td>0</td>\n",
       "      <td>Low</td>\n",
       "      <td>2315</td>\n",
       "      <td>15</td>\n",
       "      <td>9</td>\n",
       "      <td>LH185 X LH145</td>\n",
       "      <td>5/19/23</td>\n",
       "    </tr>\n",
       "    <tr>\n",
       "      <th>1</th>\n",
       "      <td>Ames</td>\n",
       "      <td>0</td>\n",
       "      <td>Low</td>\n",
       "      <td>2315</td>\n",
       "      <td>11</td>\n",
       "      <td>7</td>\n",
       "      <td>PHN46 X PHK56</td>\n",
       "      <td>5/19/23</td>\n",
       "    </tr>\n",
       "    <tr>\n",
       "      <th>2</th>\n",
       "      <td>Ames</td>\n",
       "      <td>0</td>\n",
       "      <td>Low</td>\n",
       "      <td>2315</td>\n",
       "      <td>17</td>\n",
       "      <td>4</td>\n",
       "      <td>PHN46 X W606S</td>\n",
       "      <td>5/19/23</td>\n",
       "    </tr>\n",
       "    <tr>\n",
       "      <th>3</th>\n",
       "      <td>Ames</td>\n",
       "      <td>0</td>\n",
       "      <td>Low</td>\n",
       "      <td>2315</td>\n",
       "      <td>17</td>\n",
       "      <td>20</td>\n",
       "      <td>B73 X PHZ51</td>\n",
       "      <td>5/19/23</td>\n",
       "    </tr>\n",
       "    <tr>\n",
       "      <th>4</th>\n",
       "      <td>Ames</td>\n",
       "      <td>0</td>\n",
       "      <td>Low</td>\n",
       "      <td>2315</td>\n",
       "      <td>13</td>\n",
       "      <td>19</td>\n",
       "      <td>LH145 X LH162</td>\n",
       "      <td>5/19/23</td>\n",
       "    </tr>\n",
       "  </tbody>\n",
       "</table>\n",
       "</div>"
      ],
      "text/plain": [
       "  location  irrigationProvided nitrogenTreatment  experiment  row  range  \\\n",
       "0     Ames                   0               Low        2315   15      9   \n",
       "1     Ames                   0               Low        2315   11      7   \n",
       "2     Ames                   0               Low        2315   17      4   \n",
       "3     Ames                   0               Low        2315   17     20   \n",
       "4     Ames                   0               Low        2315   13     19   \n",
       "\n",
       "        genotype plantingDate  \n",
       "0  LH185 X LH145      5/19/23  \n",
       "1  PHN46 X PHK56      5/19/23  \n",
       "2  PHN46 X W606S      5/19/23  \n",
       "3    B73 X PHZ51      5/19/23  \n",
       "4  LH145 X LH162      5/19/23  "
      ]
     },
     "execution_count": 13,
     "metadata": {},
     "output_type": "execute_result"
    }
   ],
   "source": [
    "df_test_2023.head()"
   ]
  },
  {
   "cell_type": "code",
   "execution_count": 14,
   "id": "6c34a8a9-671a-4825-9afe-8f46c7f0589d",
   "metadata": {
    "id": "6c34a8a9-671a-4825-9afe-8f46c7f0589d"
   },
   "outputs": [],
   "source": [
    "for index, row in df_test_2023.iterrows():\n",
    "    new_row = []\n",
    "    new_row.append('2023')\n",
    "    new_row.append(row['location'])\n",
    "    new_row.append(row['irrigationProvided'])\n",
    "    new_row.append(row['experiment'])\n",
    "    new_row.append(row['range'])\n",
    "    new_row.append(row['row'])\n",
    "    new_row.append(row['nitrogenTreatment'])\n",
    "    new_row.append(row['genotype'])\n",
    "    new_row.append(row['plantingDate'])\n",
    "    new_row += [1.0, 0.0, 0.0, 0.0]\n",
    "    if row['nitrogenTreatment'] == 'Low':\n",
    "        new_row += [0.0, 1.0, 0.0]\n",
    "    if row['nitrogenTreatment'] == 'High':\n",
    "        new_row += [1.0, 0.0, 0.0]\n",
    "    if row['nitrogenTreatment'] == 'Medium':\n",
    "        new_row += [0.0, 0.0, 1.0]\n",
    "    data_list.append(new_row)"
   ]
  },
  {
   "cell_type": "code",
   "execution_count": 15,
   "id": "572a18a1-85c9-4a47-8f13-726febda6671",
   "metadata": {
    "colab": {
     "base_uri": "https://localhost:8080/"
    },
    "id": "572a18a1-85c9-4a47-8f13-726febda6671",
    "outputId": "cbc1a5d7-00e7-47e7-c2e3-b3747ee0e52b"
   },
   "outputs": [],
   "source": [
    "total_count = len(data_list)\n",
    "data_split_dict = {'columns': columns, 'val': data_list}\n",
    "\n",
    "f = open(os.path.join(savedir,'test_2023.pkl'), 'wb')\n",
    "pickle.dump(data_split_dict,f)\n",
    "f.close()"
   ]
  },
  {
   "cell_type": "code",
   "execution_count": 16,
   "id": "jLY41VmVulFD",
   "metadata": {
    "id": "jLY41VmVulFD"
   },
   "outputs": [],
   "source": [
    "f = open(os.path.join(savedir,'test_2023.csv'),'w')\n",
    "f.write(','.join(columns)+'\\n')\n",
    "for line in data_split_dict['val']:\n",
    "    f.write(','.join([str(l) for l in line])+'\\n')\n",
    "f.close()"
   ]
  },
  {
   "cell_type": "code",
   "execution_count": null,
   "id": "39d6591a-6d50-4250-8ca4-a43b5e779b7d",
   "metadata": {},
   "outputs": [],
   "source": []
  }
 ],
 "metadata": {
  "colab": {
   "provenance": []
  },
  "kernelspec": {
   "display_name": "Python 3 (ipykernel)",
   "language": "python",
   "name": "python3"
  },
  "language_info": {
   "codemirror_mode": {
    "name": "ipython",
    "version": 3
   },
   "file_extension": ".py",
   "mimetype": "text/x-python",
   "name": "python",
   "nbconvert_exporter": "python",
   "pygments_lexer": "ipython3",
   "version": "3.12.4"
  }
 },
 "nbformat": 4,
 "nbformat_minor": 5
}
